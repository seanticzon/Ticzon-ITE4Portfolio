{
  "cells": [
    {
      "cell_type": "markdown",
      "id": "a0014dd8",
      "metadata": {
        "id": "a0014dd8"
      },
      "source": [
        "## Install necessary libraries"
      ]
    },
    {
      "cell_type": "code",
      "source": [
        "#installer"
      ],
      "metadata": {
        "id": "0lbBN3CbfiiO"
      },
      "id": "0lbBN3CbfiiO",
      "execution_count": null,
      "outputs": []
    },
    {
      "cell_type": "markdown",
      "id": "1a95322b",
      "metadata": {
        "id": "1a95322b"
      },
      "source": [
        "## Importing libraries\n"
      ]
    },
    {
      "cell_type": "markdown",
      "source": [
        "It is essential to import 'pandas library'for manipulating data and for analysis. After importing the 'pandas' library it mounts the google drive using the code 'drive.mount('/content/drive')' this will allow you to access the files in your google drive, after accessing the files will now be load in the pandas DataFrame('df') that will now run the 'df.head()' function that will show the 5 rows of the DataFrame for a quick overview of the dataset"
      ],
      "metadata": {
        "id": "t63KKzzgGDUo"
      },
      "id": "t63KKzzgGDUo"
    },
    {
      "cell_type": "code",
      "execution_count": null,
      "id": "04e6ef57",
      "metadata": {
        "colab": {
          "base_uri": "https://localhost:8080/",
          "height": 224
        },
        "id": "04e6ef57",
        "outputId": "02ea24cb-c54d-4d45-edba-d548a5f74db5"
      },
      "outputs": [
        {
          "output_type": "stream",
          "name": "stdout",
          "text": [
            "Drive already mounted at /content/drive; to attempt to forcibly remount, call drive.mount(\"/content/drive\", force_remount=True).\n"
          ]
        },
        {
          "output_type": "execute_result",
          "data": {
            "text/plain": [
              "                                             Article Category\n",
              "0  MANILA, Philippines - ï¿½Bad morningï¿½ ang su...    Metro\n",
              "1  Kabilang sa mga bagong panuntunan saï¿½ Operat...    Bansa\n",
              "2  IBINULONG nang mga asset ng mga kuwago ng ORA ...  Opinyon\n",
              "3  MANILA, Philippines - Dalawa ang iniulat na na...    Metro\n",
              "4  Biruin mo, nagamit pa rin niï¿½Angelika dela C...  Showbiz"
            ],
            "text/html": [
              "\n",
              "  <div id=\"df-b3e1a5a9-4758-4fdf-b8a0-64ef6537ed5b\" class=\"colab-df-container\">\n",
              "    <div>\n",
              "<style scoped>\n",
              "    .dataframe tbody tr th:only-of-type {\n",
              "        vertical-align: middle;\n",
              "    }\n",
              "\n",
              "    .dataframe tbody tr th {\n",
              "        vertical-align: top;\n",
              "    }\n",
              "\n",
              "    .dataframe thead th {\n",
              "        text-align: right;\n",
              "    }\n",
              "</style>\n",
              "<table border=\"1\" class=\"dataframe\">\n",
              "  <thead>\n",
              "    <tr style=\"text-align: right;\">\n",
              "      <th></th>\n",
              "      <th>Article</th>\n",
              "      <th>Category</th>\n",
              "    </tr>\n",
              "  </thead>\n",
              "  <tbody>\n",
              "    <tr>\n",
              "      <th>0</th>\n",
              "      <td>MANILA, Philippines - ï¿½Bad morningï¿½ ang su...</td>\n",
              "      <td>Metro</td>\n",
              "    </tr>\n",
              "    <tr>\n",
              "      <th>1</th>\n",
              "      <td>Kabilang sa mga bagong panuntunan saï¿½ Operat...</td>\n",
              "      <td>Bansa</td>\n",
              "    </tr>\n",
              "    <tr>\n",
              "      <th>2</th>\n",
              "      <td>IBINULONG nang mga asset ng mga kuwago ng ORA ...</td>\n",
              "      <td>Opinyon</td>\n",
              "    </tr>\n",
              "    <tr>\n",
              "      <th>3</th>\n",
              "      <td>MANILA, Philippines - Dalawa ang iniulat na na...</td>\n",
              "      <td>Metro</td>\n",
              "    </tr>\n",
              "    <tr>\n",
              "      <th>4</th>\n",
              "      <td>Biruin mo, nagamit pa rin niï¿½Angelika dela C...</td>\n",
              "      <td>Showbiz</td>\n",
              "    </tr>\n",
              "  </tbody>\n",
              "</table>\n",
              "</div>\n",
              "    <div class=\"colab-df-buttons\">\n",
              "\n",
              "  <div class=\"colab-df-container\">\n",
              "    <button class=\"colab-df-convert\" onclick=\"convertToInteractive('df-b3e1a5a9-4758-4fdf-b8a0-64ef6537ed5b')\"\n",
              "            title=\"Convert this dataframe to an interactive table.\"\n",
              "            style=\"display:none;\">\n",
              "\n",
              "  <svg xmlns=\"http://www.w3.org/2000/svg\" height=\"24px\" viewBox=\"0 -960 960 960\">\n",
              "    <path d=\"M120-120v-720h720v720H120Zm60-500h600v-160H180v160Zm220 220h160v-160H400v160Zm0 220h160v-160H400v160ZM180-400h160v-160H180v160Zm440 0h160v-160H620v160ZM180-180h160v-160H180v160Zm440 0h160v-160H620v160Z\"/>\n",
              "  </svg>\n",
              "    </button>\n",
              "\n",
              "  <style>\n",
              "    .colab-df-container {\n",
              "      display:flex;\n",
              "      gap: 12px;\n",
              "    }\n",
              "\n",
              "    .colab-df-convert {\n",
              "      background-color: #E8F0FE;\n",
              "      border: none;\n",
              "      border-radius: 50%;\n",
              "      cursor: pointer;\n",
              "      display: none;\n",
              "      fill: #1967D2;\n",
              "      height: 32px;\n",
              "      padding: 0 0 0 0;\n",
              "      width: 32px;\n",
              "    }\n",
              "\n",
              "    .colab-df-convert:hover {\n",
              "      background-color: #E2EBFA;\n",
              "      box-shadow: 0px 1px 2px rgba(60, 64, 67, 0.3), 0px 1px 3px 1px rgba(60, 64, 67, 0.15);\n",
              "      fill: #174EA6;\n",
              "    }\n",
              "\n",
              "    .colab-df-buttons div {\n",
              "      margin-bottom: 4px;\n",
              "    }\n",
              "\n",
              "    [theme=dark] .colab-df-convert {\n",
              "      background-color: #3B4455;\n",
              "      fill: #D2E3FC;\n",
              "    }\n",
              "\n",
              "    [theme=dark] .colab-df-convert:hover {\n",
              "      background-color: #434B5C;\n",
              "      box-shadow: 0px 1px 3px 1px rgba(0, 0, 0, 0.15);\n",
              "      filter: drop-shadow(0px 1px 2px rgba(0, 0, 0, 0.3));\n",
              "      fill: #FFFFFF;\n",
              "    }\n",
              "  </style>\n",
              "\n",
              "    <script>\n",
              "      const buttonEl =\n",
              "        document.querySelector('#df-b3e1a5a9-4758-4fdf-b8a0-64ef6537ed5b button.colab-df-convert');\n",
              "      buttonEl.style.display =\n",
              "        google.colab.kernel.accessAllowed ? 'block' : 'none';\n",
              "\n",
              "      async function convertToInteractive(key) {\n",
              "        const element = document.querySelector('#df-b3e1a5a9-4758-4fdf-b8a0-64ef6537ed5b');\n",
              "        const dataTable =\n",
              "          await google.colab.kernel.invokeFunction('convertToInteractive',\n",
              "                                                    [key], {});\n",
              "        if (!dataTable) return;\n",
              "\n",
              "        const docLinkHtml = 'Like what you see? Visit the ' +\n",
              "          '<a target=\"_blank\" href=https://colab.research.google.com/notebooks/data_table.ipynb>data table notebook</a>'\n",
              "          + ' to learn more about interactive tables.';\n",
              "        element.innerHTML = '';\n",
              "        dataTable['output_type'] = 'display_data';\n",
              "        await google.colab.output.renderOutput(dataTable, element);\n",
              "        const docLink = document.createElement('div');\n",
              "        docLink.innerHTML = docLinkHtml;\n",
              "        element.appendChild(docLink);\n",
              "      }\n",
              "    </script>\n",
              "  </div>\n",
              "\n",
              "\n",
              "<div id=\"df-4dbb7723-e94a-48ee-9876-8e0bc40e94c1\">\n",
              "  <button class=\"colab-df-quickchart\" onclick=\"quickchart('df-4dbb7723-e94a-48ee-9876-8e0bc40e94c1')\"\n",
              "            title=\"Suggest charts\"\n",
              "            style=\"display:none;\">\n",
              "\n",
              "<svg xmlns=\"http://www.w3.org/2000/svg\" height=\"24px\"viewBox=\"0 0 24 24\"\n",
              "     width=\"24px\">\n",
              "    <g>\n",
              "        <path d=\"M19 3H5c-1.1 0-2 .9-2 2v14c0 1.1.9 2 2 2h14c1.1 0 2-.9 2-2V5c0-1.1-.9-2-2-2zM9 17H7v-7h2v7zm4 0h-2V7h2v10zm4 0h-2v-4h2v4z\"/>\n",
              "    </g>\n",
              "</svg>\n",
              "  </button>\n",
              "\n",
              "<style>\n",
              "  .colab-df-quickchart {\n",
              "      --bg-color: #E8F0FE;\n",
              "      --fill-color: #1967D2;\n",
              "      --hover-bg-color: #E2EBFA;\n",
              "      --hover-fill-color: #174EA6;\n",
              "      --disabled-fill-color: #AAA;\n",
              "      --disabled-bg-color: #DDD;\n",
              "  }\n",
              "\n",
              "  [theme=dark] .colab-df-quickchart {\n",
              "      --bg-color: #3B4455;\n",
              "      --fill-color: #D2E3FC;\n",
              "      --hover-bg-color: #434B5C;\n",
              "      --hover-fill-color: #FFFFFF;\n",
              "      --disabled-bg-color: #3B4455;\n",
              "      --disabled-fill-color: #666;\n",
              "  }\n",
              "\n",
              "  .colab-df-quickchart {\n",
              "    background-color: var(--bg-color);\n",
              "    border: none;\n",
              "    border-radius: 50%;\n",
              "    cursor: pointer;\n",
              "    display: none;\n",
              "    fill: var(--fill-color);\n",
              "    height: 32px;\n",
              "    padding: 0;\n",
              "    width: 32px;\n",
              "  }\n",
              "\n",
              "  .colab-df-quickchart:hover {\n",
              "    background-color: var(--hover-bg-color);\n",
              "    box-shadow: 0 1px 2px rgba(60, 64, 67, 0.3), 0 1px 3px 1px rgba(60, 64, 67, 0.15);\n",
              "    fill: var(--button-hover-fill-color);\n",
              "  }\n",
              "\n",
              "  .colab-df-quickchart-complete:disabled,\n",
              "  .colab-df-quickchart-complete:disabled:hover {\n",
              "    background-color: var(--disabled-bg-color);\n",
              "    fill: var(--disabled-fill-color);\n",
              "    box-shadow: none;\n",
              "  }\n",
              "\n",
              "  .colab-df-spinner {\n",
              "    border: 2px solid var(--fill-color);\n",
              "    border-color: transparent;\n",
              "    border-bottom-color: var(--fill-color);\n",
              "    animation:\n",
              "      spin 1s steps(1) infinite;\n",
              "  }\n",
              "\n",
              "  @keyframes spin {\n",
              "    0% {\n",
              "      border-color: transparent;\n",
              "      border-bottom-color: var(--fill-color);\n",
              "      border-left-color: var(--fill-color);\n",
              "    }\n",
              "    20% {\n",
              "      border-color: transparent;\n",
              "      border-left-color: var(--fill-color);\n",
              "      border-top-color: var(--fill-color);\n",
              "    }\n",
              "    30% {\n",
              "      border-color: transparent;\n",
              "      border-left-color: var(--fill-color);\n",
              "      border-top-color: var(--fill-color);\n",
              "      border-right-color: var(--fill-color);\n",
              "    }\n",
              "    40% {\n",
              "      border-color: transparent;\n",
              "      border-right-color: var(--fill-color);\n",
              "      border-top-color: var(--fill-color);\n",
              "    }\n",
              "    60% {\n",
              "      border-color: transparent;\n",
              "      border-right-color: var(--fill-color);\n",
              "    }\n",
              "    80% {\n",
              "      border-color: transparent;\n",
              "      border-right-color: var(--fill-color);\n",
              "      border-bottom-color: var(--fill-color);\n",
              "    }\n",
              "    90% {\n",
              "      border-color: transparent;\n",
              "      border-bottom-color: var(--fill-color);\n",
              "    }\n",
              "  }\n",
              "</style>\n",
              "\n",
              "  <script>\n",
              "    async function quickchart(key) {\n",
              "      const quickchartButtonEl =\n",
              "        document.querySelector('#' + key + ' button');\n",
              "      quickchartButtonEl.disabled = true;  // To prevent multiple clicks.\n",
              "      quickchartButtonEl.classList.add('colab-df-spinner');\n",
              "      try {\n",
              "        const charts = await google.colab.kernel.invokeFunction(\n",
              "            'suggestCharts', [key], {});\n",
              "      } catch (error) {\n",
              "        console.error('Error during call to suggestCharts:', error);\n",
              "      }\n",
              "      quickchartButtonEl.classList.remove('colab-df-spinner');\n",
              "      quickchartButtonEl.classList.add('colab-df-quickchart-complete');\n",
              "    }\n",
              "    (() => {\n",
              "      let quickchartButtonEl =\n",
              "        document.querySelector('#df-4dbb7723-e94a-48ee-9876-8e0bc40e94c1 button');\n",
              "      quickchartButtonEl.style.display =\n",
              "        google.colab.kernel.accessAllowed ? 'block' : 'none';\n",
              "    })();\n",
              "  </script>\n",
              "</div>\n",
              "\n",
              "    </div>\n",
              "  </div>\n"
            ],
            "application/vnd.google.colaboratory.intrinsic+json": {
              "type": "dataframe",
              "variable_name": "df",
              "summary": "{\n  \"name\": \"df\",\n  \"rows\": 6000,\n  \"fields\": [\n    {\n      \"column\": \"Article\",\n      \"properties\": {\n        \"dtype\": \"string\",\n        \"num_unique_values\": 5506,\n        \"samples\": [\n          \"PIK: Na-enjoy nang husto nina Movie and Television Review and Classification Board (MTRCB) Chairman Toto Villareal at Gladys Reyes ang Matalinong Panonood seminar na ginawa nila sa Ateneo de Manila Law School sa Makati nung nakaraang linggo.\\r\\nNapakamakabuluhan ng talakayan namin at game na ginawa namin sa aking mini-workshop.\\r\\nParang impromptu na may ginawa kaming sariling show na ako ang kaeksena. Tapos \\u00ef\\u00bf\\u00bdyung ibang students ang nag-rate para ma-experience nila\\u00ef\\u00bf\\u00bdkung paano kami mag-review at magka-classify,\\u00ef\\u00bf\\u00bd masayang kuwento ni Gladys.\\r\\nBalak ng MTRCB na ituluy-tuloy ang naturang seminar sa iba pang paaralan.\\r\\nPAK: Ngayong linggo ay tapos na ang suspension kay Sen. Bong Revilla kaya kahit naka-detain pa rin siya sa Camp Crame, magpapasa pa rin daw siya ng mga bill na napaghandaan na niya.\\r\\nKahit si Sen. Jinggoy Estrada ay tapos na rin ang suspension ay nanghinayang siya dahil naka-detain pa siya. Gusto pa naman daw sana niyang sumali sa Senate inquiry ng 44 Fallen Heroes na pinaslang sa Mamasapano, Maguindanao. Pero kung mabibigyan daw siya ng pagkakataon, baka magpapadala raw siya ng mga tanong para sa imbestigasyon.\\r\\n\",\n          \"Sinagasaan ni Cherif Gwall Sarr ng Adamson ang depensa nina Alfonso Gotladera (16) at Matt Nieto (6) ng Ateneo sa UAAP. Joey Mendoza\\r\\nLaro Ngayon (MOA Arena, Pasay City)\\r\\np.m.\\u00ef\\u00bf\\u00bd UST vs UP\\r\\np.m. La Salle vs FEU\\r\\nMANILA, Philippines \\u00ef\\u00bf\\u00bd Naibangon ng Ateneo Eagles ang sarili mula sa masamang panimula nang pabagsakin ang Adamson Falcons, 84-60 sa 78th UAAP men\\u00ef\\u00bf\\u00bds basketball kahapon sa Mall of Asia Arena sa Pasay City.\\r\\nSa ikatlong yugto tumira ang Eagles upang iwanan na ang Falcons at maisan\\u00ef\\u00bf\\u00bdtabi ang 64-88 pagkakadurog sa FEU Tamaraws sa unang asignatura.\\r\\nOur focus for today\\u00ef\\u00bf\\u00bds game was how to get back our confidence that was shattered with our loss to FEU. Kiefer (Ravena) deli-vered but what is important is may sumuporta,\\u00ef\\u00bf\\u00bd wika ni Eagles coach Bo Perasol.\\r\\nSi Ravena ay nanguna uli sa kanyang 24 puntos mula sa 11-of-17 shoo\\u00ef\\u00bf\\u00bdting, kasama ang dalawang triples. Naroroon naman sina Von Pessumal at Aa\\u00ef\\u00bf\\u00bdron Black para sa dagdag opensa sa kanilang 12 at 11 puntos.\\r\\nAng anak ng dating PBA Best Import at coach nga\\u00ef\\u00bf\\u00bdyon ng Meralco Bolts sa PBA na si Norman Black ay may kahanga-hangang 3-for-3 sa 3-point line para sa kabuuang 4-of-6 shooting.\\r\\nMay dalawang sunod na triples si Black upang isama sa tig-isang 3-poin\\u00ef\\u00bf\\u00bdters nina Pessumal, Ravena at Gwayne Capacio para pasiklabin ang 22-11 palitan para hawakan ang 62-44 kalamangan.\\r\\n\",\n          \"Si Pope Francis nang dumating sa UST kasunod ang mga arsobispo kabilang si Manila Archbishop Cardinal Luis Tagle. (Joven Cagande)\\r\\nMANILA, Philippines \\u00ef\\u00bf\\u00bd Pinayuhan kahapon ni Health spokesman Dr. Lyndon Lee-Suy ang mga taong dumagsa sa magkasunod na Pope event kahapon na magpahinga at agapan ng lunas sakaling may maramdamang sakit tulad ng lagnat, ubo at sipon dahil sa matinding pagod, puyat at ginaw.\\r\\nMaari umanong magkasakit ang ilan lalo na ang mga bata, matatanda at yung may mahihinang resistensiya dahil bukod sa malamig na ang panahon, nababad pa sa ulan\\u00ef\\u00bf\\u00bd kasabay ng matinding pagod.\\r\\nSakaling napagod at napuyat, dapat aniya, na makabawi sa pagpapahinga \\u00ef\\u00bf\\u00bdang katawan upang hindi tuluyang magkasakit.\\r\\nDapat din ani\\u00ef\\u00bf\\u00bdyang, sapat ang pagkaing masustansiya, pag-inom ng bitamina, tubig at juice\\u00ef\\u00bf\\u00bdat sapat na tulog.\\r\\nHuwag nating saga\\u00ef\\u00bf\\u00bdrin ang ating katawan, kapag napagod at basa na sa ulan ay magpalit na at magpahinga at bawian agad ng masustansyang pagkain at makatutulong din ang pag-inom ng vitamins,\\u00ef\\u00bf\\u00bd pahayag ni Lee Suy.\\r\\nKung nabasa umano ng ulan, hindi naman kailangang uminom ng paracetamol kung walang lagnat dahil lalong bababa ang temperature ng katawan.\\r\\n\"\n        ],\n        \"semantic_type\": \"\",\n        \"description\": \"\"\n      }\n    },\n    {\n      \"column\": \"Category\",\n      \"properties\": {\n        \"dtype\": \"category\",\n        \"num_unique_values\": 6,\n        \"samples\": [\n          \"Metro\",\n          \"Bansa\",\n          \"Probinsiya\"\n        ],\n        \"semantic_type\": \"\",\n        \"description\": \"\"\n      }\n    }\n  ]\n}"
            }
          },
          "metadata": {},
          "execution_count": 9
        }
      ],
      "source": [
        "import pandas as pd\n",
        "#import dataset\n",
        "from google.colab import drive\n",
        "drive.mount('/content/drive')\n",
        "df = pd.read_csv('/content/drive/MyDrive/ITE4/Week2/data_supervised.csv')\n",
        "#check the first 5 instances\n",
        "df.head()"
      ]
    },
    {
      "cell_type": "markdown",
      "id": "cf8639f6",
      "metadata": {
        "id": "cf8639f6"
      },
      "source": [
        "# Pipeline\n",
        "# ----------------------------------------------\n",
        "## 1. Lowercasing\n",
        "## 2. Special Character Removal\n",
        "## 3. Stopword Removal\n",
        "## 4. Tokenization"
      ]
    },
    {
      "cell_type": "markdown",
      "id": "cd346900",
      "metadata": {
        "id": "cd346900"
      },
      "source": [
        "# ---------------------------------------------------"
      ]
    },
    {
      "cell_type": "markdown",
      "id": "0b145665",
      "metadata": {
        "id": "0b145665"
      },
      "source": [
        "# Lowercasing Dataset"
      ]
    },
    {
      "cell_type": "markdown",
      "source": [
        "This part will test a single case by obtaining or extracting the first row of the DataFrame specifically the 'Article' column. The value of the first row is stored in a variable named 'test_case' that will serves as a initial inspection of the first instance."
      ],
      "metadata": {
        "id": "nINByMHpI9a_"
      },
      "id": "nINByMHpI9a_"
    },
    {
      "cell_type": "code",
      "execution_count": null,
      "id": "e8b3dfb5",
      "metadata": {
        "id": "e8b3dfb5",
        "outputId": "917efaeb-e703-48d7-8fbb-e303bf6284ec",
        "colab": {
          "base_uri": "https://localhost:8080/"
        }
      },
      "outputs": [
        {
          "output_type": "stream",
          "name": "stdout",
          "text": [
            "MANILA, Philippines - ï¿½Bad morningï¿½ ang sumalubong sa libu-libong pasahero ng Metro Rail Transit (MRT-3) kahapon ng umaga makaraang pababain ng tren dahil sa dalawang beses na aberya sa biyahe.\r\n",
            "Nabatid na pinababa ang mga pasahero ng isang tren sa bahagi ng Santolan Station southbound, dakong alas-5:30 ng umaga matapos bumaba ang boltahe ng kuryente.\r\n",
            "Ayon sa MRT-3, kinakailaï¿½ngang pababain ang mga pasahero at itigil ang operasyon dahil magiging delikado ang pagpapatakbo ng tren at makakaapekto sa preno nito.\r\n",
            "Ayon kay MRT-3 General Manager Ramon Buenafe, depektibong pintuan naman ang dahilan nang pansamantaï¿½lang pagtigil ng southbound trip ng MRT-3 sa GMA-Kamuning Station, pagitan ng Cubao station, dakong alas-7:00 ng umaga.\r\n",
            "Nabatid na ito na ang ikatlong sunod na araw ngayong Linggo na naperwisyo ng aberya ang mga pasahero ng MRT-3.\r\n",
            "Matatandaan nitong Miyerkules lamang ay tumirik ang isang northbound na tren ng MRT sa Shaw Boulevard station, tumirik din ang isang tren sa pagitan naman ng Guadaï¿½lupe at Boni Station nitong Martes.\r\n",
            "\n"
          ]
        }
      ],
      "source": [
        "#testing for a single case\n",
        "test_case = df['Article'][0]\n",
        "print(test_case)"
      ]
    },
    {
      "cell_type": "markdown",
      "source": [
        "In this part, the content of the 'test_case' variable which is the first row in the 'Article' column of the DataFrame will be converted into lowercase using the 'lower()' method. text analysis preprocessing often convert the text to lower case to avoid treating words differently based on whether they are in upper or lower case. The result is then printed out onto the already transformed text."
      ],
      "metadata": {
        "id": "YXWsxsxvJei3"
      },
      "id": "YXWsxsxvJei3"
    },
    {
      "cell_type": "code",
      "execution_count": null,
      "id": "ed7fd378",
      "metadata": {
        "id": "ed7fd378",
        "outputId": "a615165d-5fe8-4f91-abe5-8a33fe6de5c7",
        "colab": {
          "base_uri": "https://localhost:8080/"
        }
      },
      "outputs": [
        {
          "output_type": "stream",
          "name": "stdout",
          "text": [
            "manila, philippines - ï¿½bad morningï¿½ ang sumalubong sa libu-libong pasahero ng metro rail transit (mrt-3) kahapon ng umaga makaraang pababain ng tren dahil sa dalawang beses na aberya sa biyahe.\r\n",
            "nabatid na pinababa ang mga pasahero ng isang tren sa bahagi ng santolan station southbound, dakong alas-5:30 ng umaga matapos bumaba ang boltahe ng kuryente.\r\n",
            "ayon sa mrt-3, kinakailaï¿½ngang pababain ang mga pasahero at itigil ang operasyon dahil magiging delikado ang pagpapatakbo ng tren at makakaapekto sa preno nito.\r\n",
            "ayon kay mrt-3 general manager ramon buenafe, depektibong pintuan naman ang dahilan nang pansamantaï¿½lang pagtigil ng southbound trip ng mrt-3 sa gma-kamuning station, pagitan ng cubao station, dakong alas-7:00 ng umaga.\r\n",
            "nabatid na ito na ang ikatlong sunod na araw ngayong linggo na naperwisyo ng aberya ang mga pasahero ng mrt-3.\r\n",
            "matatandaan nitong miyerkules lamang ay tumirik ang isang northbound na tren ng mrt sa shaw boulevard station, tumirik din ang isang tren sa pagitan naman ng guadaï¿½lupe at boni station nitong martes.\r\n",
            "\n"
          ]
        }
      ],
      "source": [
        "test_case = test_case.lower()\n",
        "print(test_case)"
      ]
    },
    {
      "cell_type": "markdown",
      "source": [
        "This code changes all the values of the 'Article' column in the DataFrame to lowercase. This lambda function, enclosed in an apply() function, changes every element for the article in that row to lowercase. The str(x) conversion will allow the operation to deal simply with entries that are not strings. After this, the updated DataFrame would return the first 10 entries using the function head(10), allowing a fast review of all the tuning operations carried out."
      ],
      "metadata": {
        "id": "Rs9UKJPSKq2G"
      },
      "id": "Rs9UKJPSKq2G"
    },
    {
      "cell_type": "code",
      "execution_count": null,
      "id": "2be5de5f",
      "metadata": {
        "id": "2be5de5f",
        "outputId": "ca3aa968-1b98-4f52-e944-644ff5b729cc",
        "colab": {
          "base_uri": "https://localhost:8080/"
        }
      },
      "outputs": [
        {
          "output_type": "execute_result",
          "data": {
            "text/plain": [
              "                                             Article Category\n",
              "0  manila, philippines - ï¿½bad morningï¿½ ang su...    Metro\n",
              "1  kabilang sa mga bagong panuntunan saï¿½ operat...    Bansa\n",
              "2  ibinulong nang mga asset ng mga kuwago ng ora ...  Opinyon\n",
              "3  manila, philippines - dalawa ang iniulat na na...    Metro\n",
              "4  biruin mo, nagamit pa rin niï¿½angelika dela c...  Showbiz\n",
              "5  philstar.com/file\\r\\nmanila, philippines ï¿½ m...    Metro\n",
              "6  manila, philippines - ipinalalagay na ang tabr...   Palaro\n",
              "7  inangatan ni marcio lassiter ng san miguel sin...   Palaro\n",
              "8  pik: balik-recording si willie revillame dahil...  Showbiz\n",
              "9  manila, philippines ï¿½ naniniwala pa rin ang ...    Bansa"
            ],
            "text/html": [
              "\n",
              "  <div id=\"df-ba9ba7ef-23bd-4dd1-899d-a9ffcb426d5e\" class=\"colab-df-container\">\n",
              "    <div>\n",
              "<style scoped>\n",
              "    .dataframe tbody tr th:only-of-type {\n",
              "        vertical-align: middle;\n",
              "    }\n",
              "\n",
              "    .dataframe tbody tr th {\n",
              "        vertical-align: top;\n",
              "    }\n",
              "\n",
              "    .dataframe thead th {\n",
              "        text-align: right;\n",
              "    }\n",
              "</style>\n",
              "<table border=\"1\" class=\"dataframe\">\n",
              "  <thead>\n",
              "    <tr style=\"text-align: right;\">\n",
              "      <th></th>\n",
              "      <th>Article</th>\n",
              "      <th>Category</th>\n",
              "    </tr>\n",
              "  </thead>\n",
              "  <tbody>\n",
              "    <tr>\n",
              "      <th>0</th>\n",
              "      <td>manila, philippines - ï¿½bad morningï¿½ ang su...</td>\n",
              "      <td>Metro</td>\n",
              "    </tr>\n",
              "    <tr>\n",
              "      <th>1</th>\n",
              "      <td>kabilang sa mga bagong panuntunan saï¿½ operat...</td>\n",
              "      <td>Bansa</td>\n",
              "    </tr>\n",
              "    <tr>\n",
              "      <th>2</th>\n",
              "      <td>ibinulong nang mga asset ng mga kuwago ng ora ...</td>\n",
              "      <td>Opinyon</td>\n",
              "    </tr>\n",
              "    <tr>\n",
              "      <th>3</th>\n",
              "      <td>manila, philippines - dalawa ang iniulat na na...</td>\n",
              "      <td>Metro</td>\n",
              "    </tr>\n",
              "    <tr>\n",
              "      <th>4</th>\n",
              "      <td>biruin mo, nagamit pa rin niï¿½angelika dela c...</td>\n",
              "      <td>Showbiz</td>\n",
              "    </tr>\n",
              "    <tr>\n",
              "      <th>5</th>\n",
              "      <td>philstar.com/file\\r\\nmanila, philippines ï¿½ m...</td>\n",
              "      <td>Metro</td>\n",
              "    </tr>\n",
              "    <tr>\n",
              "      <th>6</th>\n",
              "      <td>manila, philippines - ipinalalagay na ang tabr...</td>\n",
              "      <td>Palaro</td>\n",
              "    </tr>\n",
              "    <tr>\n",
              "      <th>7</th>\n",
              "      <td>inangatan ni marcio lassiter ng san miguel sin...</td>\n",
              "      <td>Palaro</td>\n",
              "    </tr>\n",
              "    <tr>\n",
              "      <th>8</th>\n",
              "      <td>pik: balik-recording si willie revillame dahil...</td>\n",
              "      <td>Showbiz</td>\n",
              "    </tr>\n",
              "    <tr>\n",
              "      <th>9</th>\n",
              "      <td>manila, philippines ï¿½ naniniwala pa rin ang ...</td>\n",
              "      <td>Bansa</td>\n",
              "    </tr>\n",
              "  </tbody>\n",
              "</table>\n",
              "</div>\n",
              "    <div class=\"colab-df-buttons\">\n",
              "\n",
              "  <div class=\"colab-df-container\">\n",
              "    <button class=\"colab-df-convert\" onclick=\"convertToInteractive('df-ba9ba7ef-23bd-4dd1-899d-a9ffcb426d5e')\"\n",
              "            title=\"Convert this dataframe to an interactive table.\"\n",
              "            style=\"display:none;\">\n",
              "\n",
              "  <svg xmlns=\"http://www.w3.org/2000/svg\" height=\"24px\" viewBox=\"0 -960 960 960\">\n",
              "    <path d=\"M120-120v-720h720v720H120Zm60-500h600v-160H180v160Zm220 220h160v-160H400v160Zm0 220h160v-160H400v160ZM180-400h160v-160H180v160Zm440 0h160v-160H620v160ZM180-180h160v-160H180v160Zm440 0h160v-160H620v160Z\"/>\n",
              "  </svg>\n",
              "    </button>\n",
              "\n",
              "  <style>\n",
              "    .colab-df-container {\n",
              "      display:flex;\n",
              "      gap: 12px;\n",
              "    }\n",
              "\n",
              "    .colab-df-convert {\n",
              "      background-color: #E8F0FE;\n",
              "      border: none;\n",
              "      border-radius: 50%;\n",
              "      cursor: pointer;\n",
              "      display: none;\n",
              "      fill: #1967D2;\n",
              "      height: 32px;\n",
              "      padding: 0 0 0 0;\n",
              "      width: 32px;\n",
              "    }\n",
              "\n",
              "    .colab-df-convert:hover {\n",
              "      background-color: #E2EBFA;\n",
              "      box-shadow: 0px 1px 2px rgba(60, 64, 67, 0.3), 0px 1px 3px 1px rgba(60, 64, 67, 0.15);\n",
              "      fill: #174EA6;\n",
              "    }\n",
              "\n",
              "    .colab-df-buttons div {\n",
              "      margin-bottom: 4px;\n",
              "    }\n",
              "\n",
              "    [theme=dark] .colab-df-convert {\n",
              "      background-color: #3B4455;\n",
              "      fill: #D2E3FC;\n",
              "    }\n",
              "\n",
              "    [theme=dark] .colab-df-convert:hover {\n",
              "      background-color: #434B5C;\n",
              "      box-shadow: 0px 1px 3px 1px rgba(0, 0, 0, 0.15);\n",
              "      filter: drop-shadow(0px 1px 2px rgba(0, 0, 0, 0.3));\n",
              "      fill: #FFFFFF;\n",
              "    }\n",
              "  </style>\n",
              "\n",
              "    <script>\n",
              "      const buttonEl =\n",
              "        document.querySelector('#df-ba9ba7ef-23bd-4dd1-899d-a9ffcb426d5e button.colab-df-convert');\n",
              "      buttonEl.style.display =\n",
              "        google.colab.kernel.accessAllowed ? 'block' : 'none';\n",
              "\n",
              "      async function convertToInteractive(key) {\n",
              "        const element = document.querySelector('#df-ba9ba7ef-23bd-4dd1-899d-a9ffcb426d5e');\n",
              "        const dataTable =\n",
              "          await google.colab.kernel.invokeFunction('convertToInteractive',\n",
              "                                                    [key], {});\n",
              "        if (!dataTable) return;\n",
              "\n",
              "        const docLinkHtml = 'Like what you see? Visit the ' +\n",
              "          '<a target=\"_blank\" href=https://colab.research.google.com/notebooks/data_table.ipynb>data table notebook</a>'\n",
              "          + ' to learn more about interactive tables.';\n",
              "        element.innerHTML = '';\n",
              "        dataTable['output_type'] = 'display_data';\n",
              "        await google.colab.output.renderOutput(dataTable, element);\n",
              "        const docLink = document.createElement('div');\n",
              "        docLink.innerHTML = docLinkHtml;\n",
              "        element.appendChild(docLink);\n",
              "      }\n",
              "    </script>\n",
              "  </div>\n",
              "\n",
              "\n",
              "<div id=\"df-ddc53c9f-27ca-4e80-87cf-8e6091d5fd46\">\n",
              "  <button class=\"colab-df-quickchart\" onclick=\"quickchart('df-ddc53c9f-27ca-4e80-87cf-8e6091d5fd46')\"\n",
              "            title=\"Suggest charts\"\n",
              "            style=\"display:none;\">\n",
              "\n",
              "<svg xmlns=\"http://www.w3.org/2000/svg\" height=\"24px\"viewBox=\"0 0 24 24\"\n",
              "     width=\"24px\">\n",
              "    <g>\n",
              "        <path d=\"M19 3H5c-1.1 0-2 .9-2 2v14c0 1.1.9 2 2 2h14c1.1 0 2-.9 2-2V5c0-1.1-.9-2-2-2zM9 17H7v-7h2v7zm4 0h-2V7h2v10zm4 0h-2v-4h2v4z\"/>\n",
              "    </g>\n",
              "</svg>\n",
              "  </button>\n",
              "\n",
              "<style>\n",
              "  .colab-df-quickchart {\n",
              "      --bg-color: #E8F0FE;\n",
              "      --fill-color: #1967D2;\n",
              "      --hover-bg-color: #E2EBFA;\n",
              "      --hover-fill-color: #174EA6;\n",
              "      --disabled-fill-color: #AAA;\n",
              "      --disabled-bg-color: #DDD;\n",
              "  }\n",
              "\n",
              "  [theme=dark] .colab-df-quickchart {\n",
              "      --bg-color: #3B4455;\n",
              "      --fill-color: #D2E3FC;\n",
              "      --hover-bg-color: #434B5C;\n",
              "      --hover-fill-color: #FFFFFF;\n",
              "      --disabled-bg-color: #3B4455;\n",
              "      --disabled-fill-color: #666;\n",
              "  }\n",
              "\n",
              "  .colab-df-quickchart {\n",
              "    background-color: var(--bg-color);\n",
              "    border: none;\n",
              "    border-radius: 50%;\n",
              "    cursor: pointer;\n",
              "    display: none;\n",
              "    fill: var(--fill-color);\n",
              "    height: 32px;\n",
              "    padding: 0;\n",
              "    width: 32px;\n",
              "  }\n",
              "\n",
              "  .colab-df-quickchart:hover {\n",
              "    background-color: var(--hover-bg-color);\n",
              "    box-shadow: 0 1px 2px rgba(60, 64, 67, 0.3), 0 1px 3px 1px rgba(60, 64, 67, 0.15);\n",
              "    fill: var(--button-hover-fill-color);\n",
              "  }\n",
              "\n",
              "  .colab-df-quickchart-complete:disabled,\n",
              "  .colab-df-quickchart-complete:disabled:hover {\n",
              "    background-color: var(--disabled-bg-color);\n",
              "    fill: var(--disabled-fill-color);\n",
              "    box-shadow: none;\n",
              "  }\n",
              "\n",
              "  .colab-df-spinner {\n",
              "    border: 2px solid var(--fill-color);\n",
              "    border-color: transparent;\n",
              "    border-bottom-color: var(--fill-color);\n",
              "    animation:\n",
              "      spin 1s steps(1) infinite;\n",
              "  }\n",
              "\n",
              "  @keyframes spin {\n",
              "    0% {\n",
              "      border-color: transparent;\n",
              "      border-bottom-color: var(--fill-color);\n",
              "      border-left-color: var(--fill-color);\n",
              "    }\n",
              "    20% {\n",
              "      border-color: transparent;\n",
              "      border-left-color: var(--fill-color);\n",
              "      border-top-color: var(--fill-color);\n",
              "    }\n",
              "    30% {\n",
              "      border-color: transparent;\n",
              "      border-left-color: var(--fill-color);\n",
              "      border-top-color: var(--fill-color);\n",
              "      border-right-color: var(--fill-color);\n",
              "    }\n",
              "    40% {\n",
              "      border-color: transparent;\n",
              "      border-right-color: var(--fill-color);\n",
              "      border-top-color: var(--fill-color);\n",
              "    }\n",
              "    60% {\n",
              "      border-color: transparent;\n",
              "      border-right-color: var(--fill-color);\n",
              "    }\n",
              "    80% {\n",
              "      border-color: transparent;\n",
              "      border-right-color: var(--fill-color);\n",
              "      border-bottom-color: var(--fill-color);\n",
              "    }\n",
              "    90% {\n",
              "      border-color: transparent;\n",
              "      border-bottom-color: var(--fill-color);\n",
              "    }\n",
              "  }\n",
              "</style>\n",
              "\n",
              "  <script>\n",
              "    async function quickchart(key) {\n",
              "      const quickchartButtonEl =\n",
              "        document.querySelector('#' + key + ' button');\n",
              "      quickchartButtonEl.disabled = true;  // To prevent multiple clicks.\n",
              "      quickchartButtonEl.classList.add('colab-df-spinner');\n",
              "      try {\n",
              "        const charts = await google.colab.kernel.invokeFunction(\n",
              "            'suggestCharts', [key], {});\n",
              "      } catch (error) {\n",
              "        console.error('Error during call to suggestCharts:', error);\n",
              "      }\n",
              "      quickchartButtonEl.classList.remove('colab-df-spinner');\n",
              "      quickchartButtonEl.classList.add('colab-df-quickchart-complete');\n",
              "    }\n",
              "    (() => {\n",
              "      let quickchartButtonEl =\n",
              "        document.querySelector('#df-ddc53c9f-27ca-4e80-87cf-8e6091d5fd46 button');\n",
              "      quickchartButtonEl.style.display =\n",
              "        google.colab.kernel.accessAllowed ? 'block' : 'none';\n",
              "    })();\n",
              "  </script>\n",
              "</div>\n",
              "\n",
              "    </div>\n",
              "  </div>\n"
            ],
            "application/vnd.google.colaboratory.intrinsic+json": {
              "type": "dataframe",
              "variable_name": "df",
              "summary": "{\n  \"name\": \"df\",\n  \"rows\": 6000,\n  \"fields\": [\n    {\n      \"column\": \"Article\",\n      \"properties\": {\n        \"dtype\": \"string\",\n        \"num_unique_values\": 5507,\n        \"samples\": [\n          \"dahil mga public figures nga silang naturingan, anumang kuwentong-artista kapag nagpalipat-lipat na ng iba\\u00ef\\u00bf\\u00bdt ibang bibig ay nagiging sampung doble na. ang bulate ay nagiging ahas at kung minsan ay nagiging higanteng sawa pa nga.\\r\\npero \\u00ef\\u00bf\\u00bdyun ang presyong kailangan nilang pagbayaran, pinasok nila ang pampublikong buhay. nang pasukin nila ang pag-aartista ay parang binuksan na rin nila nang lantaran ang pintuan ng kanilang buhay sa buong bayan.\\r\\nnaiinis ang isang female personality na araw-araw nating napapanood sa telebisyon. kung ikuwento raw kasi ng iba ang pagkakaroon niya ng dibersiyong pagpunta-punta sa casino ay lulong na lulong na siya.\\r\\nparang hindi na raw niya maiiwasan ang kanyang libangan dahil may naglabas ng kuwento na kung makapagsugal siya ay sobrang wagas! parang gusto raw palabasin ng nagpakalat ng istorya na hindi na siya mabubuhay kapag hindi siya nakapag-casino.\\r\\nayon pa sa female tv personality, \\u00ef\\u00bf\\u00bdsana, tiningnan din muna nila kung magkano ang bet ko kapag naglalaro kami ng mga friends ko. pinagtatawanan nga nila ako, sobrang kuring ko raw, kasi nga, sobrang baba ng taya ko.\\u00ef\\u00bf\\u00bd\\r\\nsimple lang ang solusyon sa problema ng babaeng personality\\u00ef\\u00bf\\u00bdhuwag na siyang nagpupupunta sa casino. kahit pa maramihan silang naglilibang, lalabas pa ring sugarol siya, dahil hindi naman restaurant ang kanyang pinupuntahan kundi sugalan.\\r\\n\",\n          \"sinagasaan ni cherif gwall sarr ng adamson ang depensa nina alfonso gotladera (16) at matt nieto (6) ng ateneo sa uaap. joey mendoza\\r\\nlaro ngayon (moa arena, pasay city)\\r\\np.m.\\u00ef\\u00bf\\u00bd ust vs up\\r\\np.m. la salle vs feu\\r\\nmanila, philippines \\u00ef\\u00bf\\u00bd naibangon ng ateneo eagles ang sarili mula sa masamang panimula nang pabagsakin ang adamson falcons, 84-60 sa 78th uaap men\\u00ef\\u00bf\\u00bds basketball kahapon sa mall of asia arena sa pasay city.\\r\\nsa ikatlong yugto tumira ang eagles upang iwanan na ang falcons at maisan\\u00ef\\u00bf\\u00bdtabi ang 64-88 pagkakadurog sa feu tamaraws sa unang asignatura.\\r\\nour focus for today\\u00ef\\u00bf\\u00bds game was how to get back our confidence that was shattered with our loss to feu. kiefer (ravena) deli-vered but what is important is may sumuporta,\\u00ef\\u00bf\\u00bd wika ni eagles coach bo perasol.\\r\\nsi ravena ay nanguna uli sa kanyang 24 puntos mula sa 11-of-17 shoo\\u00ef\\u00bf\\u00bdting, kasama ang dalawang triples. naroroon naman sina von pessumal at aa\\u00ef\\u00bf\\u00bdron black para sa dagdag opensa sa kanilang 12 at 11 puntos.\\r\\nang anak ng dating pba best import at coach nga\\u00ef\\u00bf\\u00bdyon ng meralco bolts sa pba na si norman black ay may kahanga-hangang 3-for-3 sa 3-point line para sa kabuuang 4-of-6 shooting.\\r\\nmay dalawang sunod na triples si black upang isama sa tig-isang 3-poin\\u00ef\\u00bf\\u00bdters nina pessumal, ravena at gwayne capacio para pasiklabin ang 22-11 palitan para hawakan ang 62-44 kalamangan.\\r\\n\",\n          \"si pope francis nang dumating sa ust kasunod ang mga arsobispo kabilang si manila archbishop cardinal luis tagle. (joven cagande)\\r\\nmanila, philippines \\u00ef\\u00bf\\u00bd pinayuhan kahapon ni health spokesman dr. lyndon lee-suy ang mga taong dumagsa sa magkasunod na pope event kahapon na magpahinga at agapan ng lunas sakaling may maramdamang sakit tulad ng lagnat, ubo at sipon dahil sa matinding pagod, puyat at ginaw.\\r\\nmaari umanong magkasakit ang ilan lalo na ang mga bata, matatanda at yung may mahihinang resistensiya dahil bukod sa malamig na ang panahon, nababad pa sa ulan\\u00ef\\u00bf\\u00bd kasabay ng matinding pagod.\\r\\nsakaling napagod at napuyat, dapat aniya, na makabawi sa pagpapahinga \\u00ef\\u00bf\\u00bdang katawan upang hindi tuluyang magkasakit.\\r\\ndapat din ani\\u00ef\\u00bf\\u00bdyang, sapat ang pagkaing masustansiya, pag-inom ng bitamina, tubig at juice\\u00ef\\u00bf\\u00bdat sapat na tulog.\\r\\nhuwag nating saga\\u00ef\\u00bf\\u00bdrin ang ating katawan, kapag napagod at basa na sa ulan ay magpalit na at magpahinga at bawian agad ng masustansyang pagkain at makatutulong din ang pag-inom ng vitamins,\\u00ef\\u00bf\\u00bd pahayag ni lee suy.\\r\\nkung nabasa umano ng ulan, hindi naman kailangang uminom ng paracetamol kung walang lagnat dahil lalong bababa ang temperature ng katawan.\\r\\n\"\n        ],\n        \"semantic_type\": \"\",\n        \"description\": \"\"\n      }\n    },\n    {\n      \"column\": \"Category\",\n      \"properties\": {\n        \"dtype\": \"category\",\n        \"num_unique_values\": 6,\n        \"samples\": [\n          \"Metro\",\n          \"Bansa\",\n          \"Probinsiya\"\n        ],\n        \"semantic_type\": \"\",\n        \"description\": \"\"\n      }\n    }\n  ]\n}"
            }
          },
          "metadata": {},
          "execution_count": 12
        }
      ],
      "source": [
        "#applying it to the dataset\n",
        "df['Article'] = df['Article'].apply(lambda x: str(x).lower())\n",
        "#checking for first 10 instances\n",
        "df.head(10)"
      ]
    },
    {
      "cell_type": "markdown",
      "id": "30a4b98b",
      "metadata": {
        "id": "30a4b98b"
      },
      "source": [
        "# Special Character Removal"
      ]
    },
    {
      "cell_type": "markdown",
      "source": [
        "This code prints the value of the test_case variable, which was  earlier to be the first article in lowercase from DataFrame. Now, after applying the lowercase transformation to the whole 'Article column in DataFrame, one can easily check that the content of test_case is still the same with the simple print of test_case.\n"
      ],
      "metadata": {
        "id": "NK58XKJEL0aQ"
      },
      "id": "NK58XKJEL0aQ"
    },
    {
      "cell_type": "code",
      "execution_count": null,
      "id": "2f69eb9d",
      "metadata": {
        "id": "2f69eb9d",
        "outputId": "16560a25-90ff-4895-938a-e8e9654ca559",
        "colab": {
          "base_uri": "https://localhost:8080/"
        }
      },
      "outputs": [
        {
          "output_type": "stream",
          "name": "stdout",
          "text": [
            "manila, philippines - ï¿½bad morningï¿½ ang sumalubong sa libu-libong pasahero ng metro rail transit (mrt-3) kahapon ng umaga makaraang pababain ng tren dahil sa dalawang beses na aberya sa biyahe.\r\n",
            "nabatid na pinababa ang mga pasahero ng isang tren sa bahagi ng santolan station southbound, dakong alas-5:30 ng umaga matapos bumaba ang boltahe ng kuryente.\r\n",
            "ayon sa mrt-3, kinakailaï¿½ngang pababain ang mga pasahero at itigil ang operasyon dahil magiging delikado ang pagpapatakbo ng tren at makakaapekto sa preno nito.\r\n",
            "ayon kay mrt-3 general manager ramon buenafe, depektibong pintuan naman ang dahilan nang pansamantaï¿½lang pagtigil ng southbound trip ng mrt-3 sa gma-kamuning station, pagitan ng cubao station, dakong alas-7:00 ng umaga.\r\n",
            "nabatid na ito na ang ikatlong sunod na araw ngayong linggo na naperwisyo ng aberya ang mga pasahero ng mrt-3.\r\n",
            "matatandaan nitong miyerkules lamang ay tumirik ang isang northbound na tren ng mrt sa shaw boulevard station, tumirik din ang isang tren sa pagitan naman ng guadaï¿½lupe at boni station nitong martes.\r\n",
            "\n"
          ]
        }
      ],
      "source": [
        "#testing for a single case\n",
        "print(test_case)"
      ]
    },
    {
      "cell_type": "markdown",
      "source": [
        "This part of the code clean the test_case variable of all non-alphanumeric characters to get the first article. Import the re library first since this library contains regular expressions that allow for advanced pattern matching. Use the re.sub() method to replace all in test_case that's not whitespace (\\s), numbers 0–9, or letter, a–z or A–Z with an empty string (''). The program will eliminate all punctuation and special characters from the text, leaving only letters, numbers, and spaces. It then prints out the cleaned-up text.\n"
      ],
      "metadata": {
        "id": "P3cXGaJgMPXH"
      },
      "id": "P3cXGaJgMPXH"
    },
    {
      "cell_type": "code",
      "execution_count": null,
      "id": "1953edd3",
      "metadata": {
        "id": "1953edd3",
        "outputId": "64a41c2a-8805-43ee-fac5-ed75c804fefb",
        "colab": {
          "base_uri": "https://localhost:8080/"
        }
      },
      "outputs": [
        {
          "output_type": "stream",
          "name": "stdout",
          "text": [
            "manila philippines  bad morning ang sumalubong sa libulibong pasahero ng metro rail transit mrt3 kahapon ng umaga makaraang pababain ng tren dahil sa dalawang beses na aberya sa biyahe\r\n",
            "nabatid na pinababa ang mga pasahero ng isang tren sa bahagi ng santolan station southbound dakong alas530 ng umaga matapos bumaba ang boltahe ng kuryente\r\n",
            "ayon sa mrt3 kinakailangang pababain ang mga pasahero at itigil ang operasyon dahil magiging delikado ang pagpapatakbo ng tren at makakaapekto sa preno nito\r\n",
            "ayon kay mrt3 general manager ramon buenafe depektibong pintuan naman ang dahilan nang pansamantalang pagtigil ng southbound trip ng mrt3 sa gmakamuning station pagitan ng cubao station dakong alas700 ng umaga\r\n",
            "nabatid na ito na ang ikatlong sunod na araw ngayong linggo na naperwisyo ng aberya ang mga pasahero ng mrt3\r\n",
            "matatandaan nitong miyerkules lamang ay tumirik ang isang northbound na tren ng mrt sa shaw boulevard station tumirik din ang isang tren sa pagitan naman ng guadalupe at boni station nitong martes\r\n",
            "\n"
          ]
        }
      ],
      "source": [
        "#import library regex\n",
        "import re\n",
        "#remove all instances that aren't a-z or 0-9\n",
        "test_case = re.sub(\"[^a-zA-Z0-9\\s]\",'',test_case)\n",
        "print(test_case)"
      ]
    },
    {
      "cell_type": "markdown",
      "source": [
        "This code applies the same text cleaning process to the entire 'Article' column in the DataFrame. The code applies to each article the re.sub() method that removes all characters which are not whitespace, digits, or letters using apply() with a lambda function. Therefore, it will contain only alphanumeric letters and spaces in the 'Article' column. After cleaning, you can call the head(10) method to view the top 10 rows of the updated DataFrame as shown here.\n"
      ],
      "metadata": {
        "id": "NpCzNTifOXB6"
      },
      "id": "NpCzNTifOXB6"
    },
    {
      "cell_type": "code",
      "execution_count": null,
      "id": "f94643f7",
      "metadata": {
        "id": "f94643f7",
        "outputId": "8366fb60-f711-4d39-a027-668d07ae71c8",
        "colab": {
          "base_uri": "https://localhost:8080/"
        }
      },
      "outputs": [
        {
          "output_type": "execute_result",
          "data": {
            "text/plain": [
              "                                             Article Category\n",
              "0  manila philippines  bad morning ang sumalubong...    Metro\n",
              "1  kabilang sa mga bagong panuntunan sa operation...    Bansa\n",
              "2  ibinulong nang mga asset ng mga kuwago ng ora ...  Opinyon\n",
              "3  manila philippines  dalawa ang iniulat na nasa...    Metro\n",
              "4  biruin mo nagamit pa rin niangelika dela cruza...  Showbiz\n",
              "5  philstarcomfile\\r\\nmanila philippines  mas pai...    Metro\n",
              "6  manila philippines  ipinalalagay na ang tabriz...   Palaro\n",
              "7  inangatan ni marcio lassiter ng san miguel sin...   Palaro\n",
              "8  pik balikrecording si willie revillame dahil s...  Showbiz\n",
              "9  manila philippines  naniniwala pa rin ang simb...    Bansa"
            ],
            "text/html": [
              "\n",
              "  <div id=\"df-05437272-91e7-4a97-9b79-c59b6dc8062f\" class=\"colab-df-container\">\n",
              "    <div>\n",
              "<style scoped>\n",
              "    .dataframe tbody tr th:only-of-type {\n",
              "        vertical-align: middle;\n",
              "    }\n",
              "\n",
              "    .dataframe tbody tr th {\n",
              "        vertical-align: top;\n",
              "    }\n",
              "\n",
              "    .dataframe thead th {\n",
              "        text-align: right;\n",
              "    }\n",
              "</style>\n",
              "<table border=\"1\" class=\"dataframe\">\n",
              "  <thead>\n",
              "    <tr style=\"text-align: right;\">\n",
              "      <th></th>\n",
              "      <th>Article</th>\n",
              "      <th>Category</th>\n",
              "    </tr>\n",
              "  </thead>\n",
              "  <tbody>\n",
              "    <tr>\n",
              "      <th>0</th>\n",
              "      <td>manila philippines  bad morning ang sumalubong...</td>\n",
              "      <td>Metro</td>\n",
              "    </tr>\n",
              "    <tr>\n",
              "      <th>1</th>\n",
              "      <td>kabilang sa mga bagong panuntunan sa operation...</td>\n",
              "      <td>Bansa</td>\n",
              "    </tr>\n",
              "    <tr>\n",
              "      <th>2</th>\n",
              "      <td>ibinulong nang mga asset ng mga kuwago ng ora ...</td>\n",
              "      <td>Opinyon</td>\n",
              "    </tr>\n",
              "    <tr>\n",
              "      <th>3</th>\n",
              "      <td>manila philippines  dalawa ang iniulat na nasa...</td>\n",
              "      <td>Metro</td>\n",
              "    </tr>\n",
              "    <tr>\n",
              "      <th>4</th>\n",
              "      <td>biruin mo nagamit pa rin niangelika dela cruza...</td>\n",
              "      <td>Showbiz</td>\n",
              "    </tr>\n",
              "    <tr>\n",
              "      <th>5</th>\n",
              "      <td>philstarcomfile\\r\\nmanila philippines  mas pai...</td>\n",
              "      <td>Metro</td>\n",
              "    </tr>\n",
              "    <tr>\n",
              "      <th>6</th>\n",
              "      <td>manila philippines  ipinalalagay na ang tabriz...</td>\n",
              "      <td>Palaro</td>\n",
              "    </tr>\n",
              "    <tr>\n",
              "      <th>7</th>\n",
              "      <td>inangatan ni marcio lassiter ng san miguel sin...</td>\n",
              "      <td>Palaro</td>\n",
              "    </tr>\n",
              "    <tr>\n",
              "      <th>8</th>\n",
              "      <td>pik balikrecording si willie revillame dahil s...</td>\n",
              "      <td>Showbiz</td>\n",
              "    </tr>\n",
              "    <tr>\n",
              "      <th>9</th>\n",
              "      <td>manila philippines  naniniwala pa rin ang simb...</td>\n",
              "      <td>Bansa</td>\n",
              "    </tr>\n",
              "  </tbody>\n",
              "</table>\n",
              "</div>\n",
              "    <div class=\"colab-df-buttons\">\n",
              "\n",
              "  <div class=\"colab-df-container\">\n",
              "    <button class=\"colab-df-convert\" onclick=\"convertToInteractive('df-05437272-91e7-4a97-9b79-c59b6dc8062f')\"\n",
              "            title=\"Convert this dataframe to an interactive table.\"\n",
              "            style=\"display:none;\">\n",
              "\n",
              "  <svg xmlns=\"http://www.w3.org/2000/svg\" height=\"24px\" viewBox=\"0 -960 960 960\">\n",
              "    <path d=\"M120-120v-720h720v720H120Zm60-500h600v-160H180v160Zm220 220h160v-160H400v160Zm0 220h160v-160H400v160ZM180-400h160v-160H180v160Zm440 0h160v-160H620v160ZM180-180h160v-160H180v160Zm440 0h160v-160H620v160Z\"/>\n",
              "  </svg>\n",
              "    </button>\n",
              "\n",
              "  <style>\n",
              "    .colab-df-container {\n",
              "      display:flex;\n",
              "      gap: 12px;\n",
              "    }\n",
              "\n",
              "    .colab-df-convert {\n",
              "      background-color: #E8F0FE;\n",
              "      border: none;\n",
              "      border-radius: 50%;\n",
              "      cursor: pointer;\n",
              "      display: none;\n",
              "      fill: #1967D2;\n",
              "      height: 32px;\n",
              "      padding: 0 0 0 0;\n",
              "      width: 32px;\n",
              "    }\n",
              "\n",
              "    .colab-df-convert:hover {\n",
              "      background-color: #E2EBFA;\n",
              "      box-shadow: 0px 1px 2px rgba(60, 64, 67, 0.3), 0px 1px 3px 1px rgba(60, 64, 67, 0.15);\n",
              "      fill: #174EA6;\n",
              "    }\n",
              "\n",
              "    .colab-df-buttons div {\n",
              "      margin-bottom: 4px;\n",
              "    }\n",
              "\n",
              "    [theme=dark] .colab-df-convert {\n",
              "      background-color: #3B4455;\n",
              "      fill: #D2E3FC;\n",
              "    }\n",
              "\n",
              "    [theme=dark] .colab-df-convert:hover {\n",
              "      background-color: #434B5C;\n",
              "      box-shadow: 0px 1px 3px 1px rgba(0, 0, 0, 0.15);\n",
              "      filter: drop-shadow(0px 1px 2px rgba(0, 0, 0, 0.3));\n",
              "      fill: #FFFFFF;\n",
              "    }\n",
              "  </style>\n",
              "\n",
              "    <script>\n",
              "      const buttonEl =\n",
              "        document.querySelector('#df-05437272-91e7-4a97-9b79-c59b6dc8062f button.colab-df-convert');\n",
              "      buttonEl.style.display =\n",
              "        google.colab.kernel.accessAllowed ? 'block' : 'none';\n",
              "\n",
              "      async function convertToInteractive(key) {\n",
              "        const element = document.querySelector('#df-05437272-91e7-4a97-9b79-c59b6dc8062f');\n",
              "        const dataTable =\n",
              "          await google.colab.kernel.invokeFunction('convertToInteractive',\n",
              "                                                    [key], {});\n",
              "        if (!dataTable) return;\n",
              "\n",
              "        const docLinkHtml = 'Like what you see? Visit the ' +\n",
              "          '<a target=\"_blank\" href=https://colab.research.google.com/notebooks/data_table.ipynb>data table notebook</a>'\n",
              "          + ' to learn more about interactive tables.';\n",
              "        element.innerHTML = '';\n",
              "        dataTable['output_type'] = 'display_data';\n",
              "        await google.colab.output.renderOutput(dataTable, element);\n",
              "        const docLink = document.createElement('div');\n",
              "        docLink.innerHTML = docLinkHtml;\n",
              "        element.appendChild(docLink);\n",
              "      }\n",
              "    </script>\n",
              "  </div>\n",
              "\n",
              "\n",
              "<div id=\"df-f0483901-cef5-488f-864a-d9ea98ed66a3\">\n",
              "  <button class=\"colab-df-quickchart\" onclick=\"quickchart('df-f0483901-cef5-488f-864a-d9ea98ed66a3')\"\n",
              "            title=\"Suggest charts\"\n",
              "            style=\"display:none;\">\n",
              "\n",
              "<svg xmlns=\"http://www.w3.org/2000/svg\" height=\"24px\"viewBox=\"0 0 24 24\"\n",
              "     width=\"24px\">\n",
              "    <g>\n",
              "        <path d=\"M19 3H5c-1.1 0-2 .9-2 2v14c0 1.1.9 2 2 2h14c1.1 0 2-.9 2-2V5c0-1.1-.9-2-2-2zM9 17H7v-7h2v7zm4 0h-2V7h2v10zm4 0h-2v-4h2v4z\"/>\n",
              "    </g>\n",
              "</svg>\n",
              "  </button>\n",
              "\n",
              "<style>\n",
              "  .colab-df-quickchart {\n",
              "      --bg-color: #E8F0FE;\n",
              "      --fill-color: #1967D2;\n",
              "      --hover-bg-color: #E2EBFA;\n",
              "      --hover-fill-color: #174EA6;\n",
              "      --disabled-fill-color: #AAA;\n",
              "      --disabled-bg-color: #DDD;\n",
              "  }\n",
              "\n",
              "  [theme=dark] .colab-df-quickchart {\n",
              "      --bg-color: #3B4455;\n",
              "      --fill-color: #D2E3FC;\n",
              "      --hover-bg-color: #434B5C;\n",
              "      --hover-fill-color: #FFFFFF;\n",
              "      --disabled-bg-color: #3B4455;\n",
              "      --disabled-fill-color: #666;\n",
              "  }\n",
              "\n",
              "  .colab-df-quickchart {\n",
              "    background-color: var(--bg-color);\n",
              "    border: none;\n",
              "    border-radius: 50%;\n",
              "    cursor: pointer;\n",
              "    display: none;\n",
              "    fill: var(--fill-color);\n",
              "    height: 32px;\n",
              "    padding: 0;\n",
              "    width: 32px;\n",
              "  }\n",
              "\n",
              "  .colab-df-quickchart:hover {\n",
              "    background-color: var(--hover-bg-color);\n",
              "    box-shadow: 0 1px 2px rgba(60, 64, 67, 0.3), 0 1px 3px 1px rgba(60, 64, 67, 0.15);\n",
              "    fill: var(--button-hover-fill-color);\n",
              "  }\n",
              "\n",
              "  .colab-df-quickchart-complete:disabled,\n",
              "  .colab-df-quickchart-complete:disabled:hover {\n",
              "    background-color: var(--disabled-bg-color);\n",
              "    fill: var(--disabled-fill-color);\n",
              "    box-shadow: none;\n",
              "  }\n",
              "\n",
              "  .colab-df-spinner {\n",
              "    border: 2px solid var(--fill-color);\n",
              "    border-color: transparent;\n",
              "    border-bottom-color: var(--fill-color);\n",
              "    animation:\n",
              "      spin 1s steps(1) infinite;\n",
              "  }\n",
              "\n",
              "  @keyframes spin {\n",
              "    0% {\n",
              "      border-color: transparent;\n",
              "      border-bottom-color: var(--fill-color);\n",
              "      border-left-color: var(--fill-color);\n",
              "    }\n",
              "    20% {\n",
              "      border-color: transparent;\n",
              "      border-left-color: var(--fill-color);\n",
              "      border-top-color: var(--fill-color);\n",
              "    }\n",
              "    30% {\n",
              "      border-color: transparent;\n",
              "      border-left-color: var(--fill-color);\n",
              "      border-top-color: var(--fill-color);\n",
              "      border-right-color: var(--fill-color);\n",
              "    }\n",
              "    40% {\n",
              "      border-color: transparent;\n",
              "      border-right-color: var(--fill-color);\n",
              "      border-top-color: var(--fill-color);\n",
              "    }\n",
              "    60% {\n",
              "      border-color: transparent;\n",
              "      border-right-color: var(--fill-color);\n",
              "    }\n",
              "    80% {\n",
              "      border-color: transparent;\n",
              "      border-right-color: var(--fill-color);\n",
              "      border-bottom-color: var(--fill-color);\n",
              "    }\n",
              "    90% {\n",
              "      border-color: transparent;\n",
              "      border-bottom-color: var(--fill-color);\n",
              "    }\n",
              "  }\n",
              "</style>\n",
              "\n",
              "  <script>\n",
              "    async function quickchart(key) {\n",
              "      const quickchartButtonEl =\n",
              "        document.querySelector('#' + key + ' button');\n",
              "      quickchartButtonEl.disabled = true;  // To prevent multiple clicks.\n",
              "      quickchartButtonEl.classList.add('colab-df-spinner');\n",
              "      try {\n",
              "        const charts = await google.colab.kernel.invokeFunction(\n",
              "            'suggestCharts', [key], {});\n",
              "      } catch (error) {\n",
              "        console.error('Error during call to suggestCharts:', error);\n",
              "      }\n",
              "      quickchartButtonEl.classList.remove('colab-df-spinner');\n",
              "      quickchartButtonEl.classList.add('colab-df-quickchart-complete');\n",
              "    }\n",
              "    (() => {\n",
              "      let quickchartButtonEl =\n",
              "        document.querySelector('#df-f0483901-cef5-488f-864a-d9ea98ed66a3 button');\n",
              "      quickchartButtonEl.style.display =\n",
              "        google.colab.kernel.accessAllowed ? 'block' : 'none';\n",
              "    })();\n",
              "  </script>\n",
              "</div>\n",
              "\n",
              "    </div>\n",
              "  </div>\n"
            ],
            "application/vnd.google.colaboratory.intrinsic+json": {
              "type": "dataframe",
              "variable_name": "df",
              "summary": "{\n  \"name\": \"df\",\n  \"rows\": 6000,\n  \"fields\": [\n    {\n      \"column\": \"Article\",\n      \"properties\": {\n        \"dtype\": \"string\",\n        \"num_unique_values\": 5507,\n        \"samples\": [\n          \"dahil mga public figures nga silang naturingan anumang kuwentongartista kapag nagpalipatlipat na ng ibat ibang bibig ay nagiging sampung doble na ang bulate ay nagiging ahas at kung minsan ay nagiging higanteng sawa pa nga\\r\\npero yun ang presyong kailangan nilang pagbayaran pinasok nila ang pampublikong buhay nang pasukin nila ang pagaartista ay parang binuksan na rin nila nang lantaran ang pintuan ng kanilang buhay sa buong bayan\\r\\nnaiinis ang isang female personality na arawaraw nating napapanood sa telebisyon kung ikuwento raw kasi ng iba ang pagkakaroon niya ng dibersiyong pagpuntapunta sa casino ay lulong na lulong na siya\\r\\nparang hindi na raw niya maiiwasan ang kanyang libangan dahil may naglabas ng kuwento na kung makapagsugal siya ay sobrang wagas parang gusto raw palabasin ng nagpakalat ng istorya na hindi na siya mabubuhay kapag hindi siya nakapagcasino\\r\\nayon pa sa female tv personality sana tiningnan din muna nila kung magkano ang bet ko kapag naglalaro kami ng mga friends ko pinagtatawanan nga nila ako sobrang kuring ko raw kasi nga sobrang baba ng taya ko\\r\\nsimple lang ang solusyon sa problema ng babaeng personalityhuwag na siyang nagpupupunta sa casino kahit pa maramihan silang naglilibang lalabas pa ring sugarol siya dahil hindi naman restaurant ang kanyang pinupuntahan kundi sugalan\\r\\n\",\n          \"sinagasaan ni cherif gwall sarr ng adamson ang depensa nina alfonso gotladera 16 at matt nieto 6 ng ateneo sa uaap joey mendoza\\r\\nlaro ngayon moa arena pasay city\\r\\npm ust vs up\\r\\npm la salle vs feu\\r\\nmanila philippines  naibangon ng ateneo eagles ang sarili mula sa masamang panimula nang pabagsakin ang adamson falcons 8460 sa 78th uaap mens basketball kahapon sa mall of asia arena sa pasay city\\r\\nsa ikatlong yugto tumira ang eagles upang iwanan na ang falcons at maisantabi ang 6488 pagkakadurog sa feu tamaraws sa unang asignatura\\r\\nour focus for todays game was how to get back our confidence that was shattered with our loss to feu kiefer ravena delivered but what is important is may sumuporta wika ni eagles coach bo perasol\\r\\nsi ravena ay nanguna uli sa kanyang 24 puntos mula sa 11of17 shooting kasama ang dalawang triples naroroon naman sina von pessumal at aaron black para sa dagdag opensa sa kanilang 12 at 11 puntos\\r\\nang anak ng dating pba best import at coach ngayon ng meralco bolts sa pba na si norman black ay may kahangahangang 3for3 sa 3point line para sa kabuuang 4of6 shooting\\r\\nmay dalawang sunod na triples si black upang isama sa tigisang 3pointers nina pessumal ravena at gwayne capacio para pasiklabin ang 2211 palitan para hawakan ang 6244 kalamangan\\r\\n\",\n          \"si pope francis nang dumating sa ust kasunod ang mga arsobispo kabilang si manila archbishop cardinal luis tagle joven cagande\\r\\nmanila philippines  pinayuhan kahapon ni health spokesman dr lyndon leesuy ang mga taong dumagsa sa magkasunod na pope event kahapon na magpahinga at agapan ng lunas sakaling may maramdamang sakit tulad ng lagnat ubo at sipon dahil sa matinding pagod puyat at ginaw\\r\\nmaari umanong magkasakit ang ilan lalo na ang mga bata matatanda at yung may mahihinang resistensiya dahil bukod sa malamig na ang panahon nababad pa sa ulan kasabay ng matinding pagod\\r\\nsakaling napagod at napuyat dapat aniya na makabawi sa pagpapahinga ang katawan upang hindi tuluyang magkasakit\\r\\ndapat din aniyang sapat ang pagkaing masustansiya paginom ng bitamina tubig at juiceat sapat na tulog\\r\\nhuwag nating sagarin ang ating katawan kapag napagod at basa na sa ulan ay magpalit na at magpahinga at bawian agad ng masustansyang pagkain at makatutulong din ang paginom ng vitamins pahayag ni lee suy\\r\\nkung nabasa umano ng ulan hindi naman kailangang uminom ng paracetamol kung walang lagnat dahil lalong bababa ang temperature ng katawan\\r\\n\"\n        ],\n        \"semantic_type\": \"\",\n        \"description\": \"\"\n      }\n    },\n    {\n      \"column\": \"Category\",\n      \"properties\": {\n        \"dtype\": \"category\",\n        \"num_unique_values\": 6,\n        \"samples\": [\n          \"Metro\",\n          \"Bansa\",\n          \"Probinsiya\"\n        ],\n        \"semantic_type\": \"\",\n        \"description\": \"\"\n      }\n    }\n  ]\n}"
            }
          },
          "metadata": {},
          "execution_count": 15
        }
      ],
      "source": [
        "#apply to all\n",
        "df['Article'] = df['Article'].apply(lambda x: re.sub(\"[^a-zA-Z0-9\\s]\",'',x))\n",
        "df.head(10)"
      ]
    },
    {
      "cell_type": "markdown",
      "id": "c1207158",
      "metadata": {
        "id": "c1207158"
      },
      "source": [
        "#### Take note that \\r\\n are text positioning which isn't actually part of the text itself. Let's print the 6th instance where we can see \\r\\n"
      ]
    },
    {
      "cell_type": "markdown",
      "source": [
        "This line of code will return the 'Article' column of the DataFrame at index 5. This line will enable user to view the specific article, at that index, after the previous text cleaning steps have been conducted, showing specifically how the text has been changed by removing non-alphanumeric characters.\n",
        "\n",
        "\n",
        "\n",
        "\n"
      ],
      "metadata": {
        "id": "OKwLxbnXOpyn"
      },
      "id": "OKwLxbnXOpyn"
    },
    {
      "cell_type": "code",
      "execution_count": null,
      "id": "e6a736af",
      "metadata": {
        "id": "e6a736af",
        "outputId": "47a33938-bb80-451f-cb38-17f7c3456b2c",
        "colab": {
          "base_uri": "https://localhost:8080/"
        }
      },
      "outputs": [
        {
          "output_type": "stream",
          "name": "stdout",
          "text": [
            "philstarcomfile\r\n",
            "manila philippines  mas paiigtingin pa ng bureau of immigration bi at philippine overseas employment agencypoea ang kanilangkampanya laban sa mga illegal recruiter kung saan sinabi ng mga ito nabilang na ang arawng mga ito sa pambibiktima ng mga filipinong nais magtrabaho sa ibang bansa\r\n",
            "ayon kay bi commissioner siegfred mison nagkasundo ang dalawang ahensya ng pamahalaanat ng interagency council against trafficking ng bi na habulin ang mga tiwaling recruitmentagency na nasa likod ng human trafficking\r\n",
            "sinabi ni mison na inatasan na nito ang lahat ng immigration officers na hanapin ang lahatng posibleng biktima ng human trafficking at illegal recruitment bago pa makaalis angsinumang biktima\r\n",
            "una nito binawi ng poea ang lisensya ng ilang recruitment agencies na napatunayanggumagamit ng pekeng dokumento\r\n",
            "kabilang dito ang chanceteam international services inc na nagtangkang magdeploy nghousehold service workers gamit ang double visas na naharang ng immigration officers sanaia\r\n",
            "\n"
          ]
        }
      ],
      "source": [
        "print(df['Article'][5])"
      ]
    },
    {
      "cell_type": "markdown",
      "id": "660b7966",
      "metadata": {
        "id": "660b7966"
      },
      "source": [
        "# Stop word Removal\n",
        "\n",
        "### Example english stopwords:\n",
        "#### the, is, and\n",
        "### Example tagalog stopwords:\n",
        "#### at, pala, kaya"
      ]
    },
    {
      "cell_type": "markdown",
      "source": [
        "It imports the stopwords module from the nltk corpus library. Commonly used stop words include \"and\", \"the\", and \"in\", which need to be removed from texts during preprocessing, as it is considered that they don't help much in the analysis of the text's whole. This import serves to provide the first steps for making use of stopwords in feature extraction and cleaning of the text.\n",
        "\n"
      ],
      "metadata": {
        "id": "UhAsnhkgPXSY"
      },
      "id": "UhAsnhkgPXSY"
    },
    {
      "cell_type": "code",
      "execution_count": null,
      "id": "82a4d7d3",
      "metadata": {
        "id": "82a4d7d3"
      },
      "outputs": [],
      "source": [
        "from nltk.corpus import stopwords"
      ]
    },
    {
      "cell_type": "markdown",
      "source": [
        " This code downloads the nltk library with stopwords dataset and then imports the library. It is a dataset composed of a list of the most habitual terms when speaking English, which are generally left out in text processing. A list of English stopwords are maintained by the variable stop_words, and retrieved using the statement stop_words = stopwords.words('english') after downloading. Lastly, a print statement to the console of the stopwords list is produced, showing all of the typical English words that are simply not useful to a text analysis.\n"
      ],
      "metadata": {
        "id": "v9G43jjbPgV8"
      },
      "id": "v9G43jjbPgV8"
    },
    {
      "cell_type": "code",
      "execution_count": null,
      "id": "4a0c8f66",
      "metadata": {
        "id": "4a0c8f66",
        "outputId": "30295679-0bee-4a92-a8ac-97e483949217",
        "colab": {
          "base_uri": "https://localhost:8080/"
        }
      },
      "outputs": [
        {
          "output_type": "stream",
          "name": "stdout",
          "text": [
            "['i', 'me', 'my', 'myself', 'we', 'our', 'ours', 'ourselves', 'you', \"you're\", \"you've\", \"you'll\", \"you'd\", 'your', 'yours', 'yourself', 'yourselves', 'he', 'him', 'his', 'himself', 'she', \"she's\", 'her', 'hers', 'herself', 'it', \"it's\", 'its', 'itself', 'they', 'them', 'their', 'theirs', 'themselves', 'what', 'which', 'who', 'whom', 'this', 'that', \"that'll\", 'these', 'those', 'am', 'is', 'are', 'was', 'were', 'be', 'been', 'being', 'have', 'has', 'had', 'having', 'do', 'does', 'did', 'doing', 'a', 'an', 'the', 'and', 'but', 'if', 'or', 'because', 'as', 'until', 'while', 'of', 'at', 'by', 'for', 'with', 'about', 'against', 'between', 'into', 'through', 'during', 'before', 'after', 'above', 'below', 'to', 'from', 'up', 'down', 'in', 'out', 'on', 'off', 'over', 'under', 'again', 'further', 'then', 'once', 'here', 'there', 'when', 'where', 'why', 'how', 'all', 'any', 'both', 'each', 'few', 'more', 'most', 'other', 'some', 'such', 'no', 'nor', 'not', 'only', 'own', 'same', 'so', 'than', 'too', 'very', 's', 't', 'can', 'will', 'just', 'don', \"don't\", 'should', \"should've\", 'now', 'd', 'll', 'm', 'o', 're', 've', 'y', 'ain', 'aren', \"aren't\", 'couldn', \"couldn't\", 'didn', \"didn't\", 'doesn', \"doesn't\", 'hadn', \"hadn't\", 'hasn', \"hasn't\", 'haven', \"haven't\", 'isn', \"isn't\", 'ma', 'mightn', \"mightn't\", 'mustn', \"mustn't\", 'needn', \"needn't\", 'shan', \"shan't\", 'shouldn', \"shouldn't\", 'wasn', \"wasn't\", 'weren', \"weren't\", 'won', \"won't\", 'wouldn', \"wouldn't\"]\n"
          ]
        },
        {
          "output_type": "stream",
          "name": "stderr",
          "text": [
            "[nltk_data] Downloading package stopwords to /root/nltk_data...\n",
            "[nltk_data]   Package stopwords is already up-to-date!\n"
          ]
        }
      ],
      "source": [
        "import nltk\n",
        "nltk.download('stopwords')\n",
        "#download and import english stopwords\n",
        "stop_words = stopwords.words('english')\n",
        "print(stop_words)"
      ]
    },
    {
      "cell_type": "markdown",
      "source": [
        "This will provide a list of Tagalog stop words by importing them from a text file. The variable that stores the file name is that of the Tagalog stop words. It then opens the file as read and proceeds to read the file during File.read(). It then calls on the .splitlines() method of the contents of the file, which allows it to split it into a list of lines, which it then stores in the tagalog_words variable. It then prints out the stop word list in Tagalog.\n"
      ],
      "metadata": {
        "id": "9fdHYa60RNKi"
      },
      "id": "9fdHYa60RNKi"
    },
    {
      "cell_type": "code",
      "execution_count": null,
      "id": "fd85d071",
      "metadata": {
        "id": "fd85d071",
        "outputId": "f7dea76e-e599-42bd-b6de-3e80fce2a150",
        "colab": {
          "base_uri": "https://localhost:8080/"
        }
      },
      "outputs": [
        {
          "output_type": "stream",
          "name": "stdout",
          "text": [
            "['ako', 'sa', 'akin', 'ko', 'aking', 'sarili', 'kami', 'atin', 'ang', 'aming', 'amin', 'ating', 'ka', 'iyong', 'iyo', 'inyong', 'siya', 'kanya', 'mismo', 'ito', 'nito', 'kanyang', 'sila', 'nila', 'kanila', 'kanilang', 'kung', 'ano', 'alin', 'sino', 'kanino', 'na', 'mga', 'iyon', 'am', 'ay', 'maging', 'naging', 'mayroon', 'may', 'nagkaroon', 'pagkakaroon', 'gumawa', 'ginagawa', 'ginawa', 'paggawa', 'ibig', 'dapat', 'maaari', 'marapat', 'kong', 'ikaw', 'tayo', 'hindi', 'namin', 'gusto', 'nais', 'niyang', 'nilang', 'niya', 'huwag', 'ginawang', 'gagawin', 'maaaring', 'sabihin', 'narito', 'kapag', 'ni', 'nasaan', 'bakit', 'paano', 'kailangan', 'walang', 'katiyakan', 'isang', 'at', 'pero', 'o', 'dahil', 'bilang', 'hanggang', 'habang', 'ng', 'pamamagitan', 'para', 'tungkol', 'laban', 'pagitan', 'panahon', 'bago', 'pagkatapos', 'itaas', 'ibaba', 'mula', 'pataas', 'pababa', 'palabas', 'ibabaw', 'ilalim', 'muli', 'pa', 'minsan', 'dito', 'doon', 'saan', 'lahat', 'anumang', 'kapwa', 'bawat', 'ilan', 'karamihan', 'iba', 'tulad', 'lamang', 'pareho', 'kaya', 'kaysa', 'masyado', 'napaka', 'isa', 'bababa', 'kulang', 'marami', 'ngayon', 'kailanman', 'sabi', 'nabanggit', 'din', 'kumuha', 'pumunta', 'pumupunta', 'ilagay', 'makita', 'nakita', 'katulad', 'mahusay', 'likod', 'kahit', 'paraan', 'noon', 'gayunman', 'dalawa', 'tatlo', 'apat', 'lima', 'una', 'pangalawa']\n"
          ]
        }
      ],
      "source": [
        "#add tagalog stop words\n",
        "#import tagalog stop words file and convert it to list\n",
        "filename = '/content/drive/MyDrive/ITE4/Week2/tagalog_stop_words.txt'\n",
        "with open(filename, 'r') as file:\n",
        "    tagalog_words = file.read().splitlines()\n",
        "print(tagalog_words)\n"
      ]
    },
    {
      "cell_type": "markdown",
      "source": [
        "This code adds Tagalog stop words to the existing English stop words. The line stop_words.extend(tagalog_words) extended all the Tagalog stop words into the stop_words list, which originally only had English stopwords. Now, this combined list contains stopwords in both languages. It updates the stopword list and prints in the console.\n"
      ],
      "metadata": {
        "id": "W6F63o4FRkXH"
      },
      "id": "W6F63o4FRkXH"
    },
    {
      "cell_type": "code",
      "execution_count": null,
      "id": "11a48bf1",
      "metadata": {
        "id": "11a48bf1",
        "outputId": "ff3f04bd-861f-4c83-b6cf-efb8f32d121f",
        "colab": {
          "base_uri": "https://localhost:8080/"
        }
      },
      "outputs": [
        {
          "output_type": "stream",
          "name": "stdout",
          "text": [
            "['i', 'me', 'my', 'myself', 'we', 'our', 'ours', 'ourselves', 'you', \"you're\", \"you've\", \"you'll\", \"you'd\", 'your', 'yours', 'yourself', 'yourselves', 'he', 'him', 'his', 'himself', 'she', \"she's\", 'her', 'hers', 'herself', 'it', \"it's\", 'its', 'itself', 'they', 'them', 'their', 'theirs', 'themselves', 'what', 'which', 'who', 'whom', 'this', 'that', \"that'll\", 'these', 'those', 'am', 'is', 'are', 'was', 'were', 'be', 'been', 'being', 'have', 'has', 'had', 'having', 'do', 'does', 'did', 'doing', 'a', 'an', 'the', 'and', 'but', 'if', 'or', 'because', 'as', 'until', 'while', 'of', 'at', 'by', 'for', 'with', 'about', 'against', 'between', 'into', 'through', 'during', 'before', 'after', 'above', 'below', 'to', 'from', 'up', 'down', 'in', 'out', 'on', 'off', 'over', 'under', 'again', 'further', 'then', 'once', 'here', 'there', 'when', 'where', 'why', 'how', 'all', 'any', 'both', 'each', 'few', 'more', 'most', 'other', 'some', 'such', 'no', 'nor', 'not', 'only', 'own', 'same', 'so', 'than', 'too', 'very', 's', 't', 'can', 'will', 'just', 'don', \"don't\", 'should', \"should've\", 'now', 'd', 'll', 'm', 'o', 're', 've', 'y', 'ain', 'aren', \"aren't\", 'couldn', \"couldn't\", 'didn', \"didn't\", 'doesn', \"doesn't\", 'hadn', \"hadn't\", 'hasn', \"hasn't\", 'haven', \"haven't\", 'isn', \"isn't\", 'ma', 'mightn', \"mightn't\", 'mustn', \"mustn't\", 'needn', \"needn't\", 'shan', \"shan't\", 'shouldn', \"shouldn't\", 'wasn', \"wasn't\", 'weren', \"weren't\", 'won', \"won't\", 'wouldn', \"wouldn't\", 'ako', 'sa', 'akin', 'ko', 'aking', 'sarili', 'kami', 'atin', 'ang', 'aming', 'amin', 'ating', 'ka', 'iyong', 'iyo', 'inyong', 'siya', 'kanya', 'mismo', 'ito', 'nito', 'kanyang', 'sila', 'nila', 'kanila', 'kanilang', 'kung', 'ano', 'alin', 'sino', 'kanino', 'na', 'mga', 'iyon', 'am', 'ay', 'maging', 'naging', 'mayroon', 'may', 'nagkaroon', 'pagkakaroon', 'gumawa', 'ginagawa', 'ginawa', 'paggawa', 'ibig', 'dapat', 'maaari', 'marapat', 'kong', 'ikaw', 'tayo', 'hindi', 'namin', 'gusto', 'nais', 'niyang', 'nilang', 'niya', 'huwag', 'ginawang', 'gagawin', 'maaaring', 'sabihin', 'narito', 'kapag', 'ni', 'nasaan', 'bakit', 'paano', 'kailangan', 'walang', 'katiyakan', 'isang', 'at', 'pero', 'o', 'dahil', 'bilang', 'hanggang', 'habang', 'ng', 'pamamagitan', 'para', 'tungkol', 'laban', 'pagitan', 'panahon', 'bago', 'pagkatapos', 'itaas', 'ibaba', 'mula', 'pataas', 'pababa', 'palabas', 'ibabaw', 'ilalim', 'muli', 'pa', 'minsan', 'dito', 'doon', 'saan', 'lahat', 'anumang', 'kapwa', 'bawat', 'ilan', 'karamihan', 'iba', 'tulad', 'lamang', 'pareho', 'kaya', 'kaysa', 'masyado', 'napaka', 'isa', 'bababa', 'kulang', 'marami', 'ngayon', 'kailanman', 'sabi', 'nabanggit', 'din', 'kumuha', 'pumunta', 'pumupunta', 'ilagay', 'makita', 'nakita', 'katulad', 'mahusay', 'likod', 'kahit', 'paraan', 'noon', 'gayunman', 'dalawa', 'tatlo', 'apat', 'lima', 'una', 'pangalawa']\n"
          ]
        }
      ],
      "source": [
        "#add tagalog stop_words to english stopwords\n",
        "stop_words.extend(tagalog_words)\n",
        "print(stop_words)"
      ]
    },
    {
      "cell_type": "markdown",
      "id": "bb9d65da",
      "metadata": {
        "id": "bb9d65da"
      },
      "source": [
        "### Removing all stopwords from the dataset"
      ]
    },
    {
      "cell_type": "markdown",
      "source": [
        "This prints a test case variable. It contains the cleaned, processed first article from the DataFrame. The purpose of printing test_case here is to inspect the text and see if it's been correctly transformed, ready for further processing in the form of stopword removal.\n"
      ],
      "metadata": {
        "id": "XtLJ2lpsSEMz"
      },
      "id": "XtLJ2lpsSEMz"
    },
    {
      "cell_type": "code",
      "execution_count": null,
      "id": "a1e9398c",
      "metadata": {
        "id": "a1e9398c",
        "outputId": "6ed7fec4-8d29-4549-fd72-8a40032b8594",
        "colab": {
          "base_uri": "https://localhost:8080/"
        }
      },
      "outputs": [
        {
          "output_type": "stream",
          "name": "stdout",
          "text": [
            "manila philippines  bad morning ang sumalubong sa libulibong pasahero ng metro rail transit mrt3 kahapon ng umaga makaraang pababain ng tren dahil sa dalawang beses na aberya sa biyahe\r\n",
            "nabatid na pinababa ang mga pasahero ng isang tren sa bahagi ng santolan station southbound dakong alas530 ng umaga matapos bumaba ang boltahe ng kuryente\r\n",
            "ayon sa mrt3 kinakailangang pababain ang mga pasahero at itigil ang operasyon dahil magiging delikado ang pagpapatakbo ng tren at makakaapekto sa preno nito\r\n",
            "ayon kay mrt3 general manager ramon buenafe depektibong pintuan naman ang dahilan nang pansamantalang pagtigil ng southbound trip ng mrt3 sa gmakamuning station pagitan ng cubao station dakong alas700 ng umaga\r\n",
            "nabatid na ito na ang ikatlong sunod na araw ngayong linggo na naperwisyo ng aberya ang mga pasahero ng mrt3\r\n",
            "matatandaan nitong miyerkules lamang ay tumirik ang isang northbound na tren ng mrt sa shaw boulevard station tumirik din ang isang tren sa pagitan naman ng guadalupe at boni station nitong martes\r\n",
            "\n"
          ]
        }
      ],
      "source": [
        "#testing it for a single case\n",
        "print(test_case)"
      ]
    },
    {
      "cell_type": "markdown",
      "source": [
        "The following code cleans the test_case string of stop words and other  characters. First, it's going to break down the text into single words using the split() method, which breaks down text based on space. It then makes an empty list called 'final_test' that will hold these words after cleaning and removal of stop words. Now, the for loop inspects each word. It is ignored in case it is empty, contains '\\r\n",
        "', or if it is in the list of stopwords. Otherwise, it gets added to the list called final_test. The cleaned and filtered word list is then printed to the console.\n",
        "\n"
      ],
      "metadata": {
        "id": "kqh3XegnSFfi"
      },
      "id": "kqh3XegnSFfi"
    },
    {
      "cell_type": "code",
      "execution_count": null,
      "id": "0d9a53d6",
      "metadata": {
        "id": "0d9a53d6",
        "outputId": "79aff4a4-9ca7-4e40-92be-da11e32e6359",
        "colab": {
          "base_uri": "https://localhost:8080/"
        }
      },
      "outputs": [
        {
          "output_type": "stream",
          "name": "stdout",
          "text": [
            "['manila', 'philippines', 'bad', 'morning', 'sumalubong', 'libulibong', 'pasahero', 'metro', 'rail', 'transit', 'mrt3', 'kahapon', 'umaga', 'makaraang', 'pababain', 'tren', 'dalawang', 'beses', 'aberya', 'biyahe', 'nabatid', 'pinababa', 'pasahero', 'tren', 'bahagi', 'santolan', 'station', 'southbound', 'dakong', 'alas530', 'umaga', 'matapos', 'bumaba', 'boltahe', 'kuryente', 'ayon', 'mrt3', 'kinakailangang', 'pababain', 'pasahero', 'itigil', 'operasyon', 'magiging', 'delikado', 'pagpapatakbo', 'tren', 'makakaapekto', 'preno', 'ayon', 'kay', 'mrt3', 'general', 'manager', 'ramon', 'buenafe', 'depektibong', 'pintuan', 'naman', 'dahilan', 'nang', 'pansamantalang', 'pagtigil', 'southbound', 'trip', 'mrt3', 'gmakamuning', 'station', 'cubao', 'station', 'dakong', 'alas700', 'umaga', 'nabatid', 'ikatlong', 'sunod', 'araw', 'ngayong', 'linggo', 'naperwisyo', 'aberya', 'pasahero', 'mrt3', 'matatandaan', 'nitong', 'miyerkules', 'tumirik', 'northbound', 'tren', 'mrt', 'shaw', 'boulevard', 'station', 'tumirik', 'tren', 'naman', 'guadalupe', 'boni', 'station', 'nitong', 'martes']\n"
          ]
        }
      ],
      "source": [
        "#split the text per space\n",
        "#print(test_case.split(' '))\n",
        "#initialize empty list for finalization of stopword removal\n",
        "final_test =[]\n",
        "#remove all empty and \\r\\n\n",
        "for word in test_case.split():\n",
        "    if word =='' or '\\r\\n' in word or word in stop_words:\n",
        "        None\n",
        "    else:\n",
        "        final_test.append(word)\n",
        "print(final_test)"
      ]
    },
    {
      "cell_type": "markdown",
      "source": [
        "The words in the final_test list are combined into a single string by this code. The words are concatenated using the join() method, with a space (' ') separating each word. This efficiently reconstructs the cleaned text without stopwords and undesirable characters by creating a continuous string of text from the list of filtered words.\n",
        "\n"
      ],
      "metadata": {
        "id": "Towzk_GLSeoK"
      },
      "id": "Towzk_GLSeoK"
    },
    {
      "cell_type": "code",
      "execution_count": null,
      "id": "176a36ec",
      "metadata": {
        "id": "176a36ec",
        "outputId": "e524c6db-417b-451b-ec13-d543e3ba5edd",
        "colab": {
          "base_uri": "https://localhost:8080/",
          "height": 87
        }
      },
      "outputs": [
        {
          "output_type": "execute_result",
          "data": {
            "text/plain": [
              "'manila philippines bad morning sumalubong libulibong pasahero metro rail transit mrt3 kahapon umaga makaraang pababain tren dalawang beses aberya biyahe nabatid pinababa pasahero tren bahagi santolan station southbound dakong alas530 umaga matapos bumaba boltahe kuryente ayon mrt3 kinakailangang pababain pasahero itigil operasyon magiging delikado pagpapatakbo tren makakaapekto preno ayon kay mrt3 general manager ramon buenafe depektibong pintuan naman dahilan nang pansamantalang pagtigil southbound trip mrt3 gmakamuning station cubao station dakong alas700 umaga nabatid ikatlong sunod araw ngayong linggo naperwisyo aberya pasahero mrt3 matatandaan nitong miyerkules tumirik northbound tren mrt shaw boulevard station tumirik tren naman guadalupe boni station nitong martes'"
            ],
            "application/vnd.google.colaboratory.intrinsic+json": {
              "type": "string"
            }
          },
          "metadata": {},
          "execution_count": 23
        }
      ],
      "source": [
        "#lets try to join the final test\n",
        "' '.join(final_test)"
      ]
    },
    {
      "cell_type": "markdown",
      "id": "03b2c23d",
      "metadata": {
        "id": "03b2c23d"
      },
      "source": [
        "## Applying to dataset"
      ]
    },
    {
      "cell_type": "markdown",
      "source": [
        "The remove_stopwords function removes unwanted characters and predefined stop words from a target text article. This function takes two arguments: stopwords, which is a list of words that are to be excluded from the article; and article, a string of text. At the very beginning, this function creates an empty list called temp_fnl in order to collect all the words that are not stop words or undesired characters. The function breaks this article down into separate words and checks if every word either is in the list of stop words, includes \\r\n",
        ", or is blank. Those words meeting this criteria are put into temp_fnl; otherwise, they are ignored. This cleaned text is then returned with all the words in temp_fnl joined into one string with spaces between them.\n",
        "\n"
      ],
      "metadata": {
        "id": "cDiodSRWS-b2"
      },
      "id": "cDiodSRWS-b2"
    },
    {
      "cell_type": "code",
      "execution_count": null,
      "id": "d5386c59",
      "metadata": {
        "id": "d5386c59"
      },
      "outputs": [],
      "source": [
        "#make a function pipeline:\n",
        "def remove_stopwords(article,stopwords):\n",
        "    #make a temporary list\n",
        "    temp_fnl = []\n",
        "    for word in article.split():\n",
        "        if word =='' or '\\r\\n' in word or word in stopwords:\n",
        "            None\n",
        "        else:\n",
        "            temp_fnl.append(word)\n",
        "    return ' '.join(temp_fnl)"
      ]
    },
    {
      "cell_type": "markdown",
      "source": [
        "In this code, test_case and stop_words are the arguments passed to the remove_stopwords function. The variable test_case contains the text that has to be cleaned, and the list of stopwords that needs to be eliminated is called stop_words. This method is going to return cleaned text after processing the text and removing stopwords and extraneous characters. The result from the function is this sanitized version of test_case.\n",
        "\n"
      ],
      "metadata": {
        "id": "4GPR85TaTHwq"
      },
      "id": "4GPR85TaTHwq"
    },
    {
      "cell_type": "code",
      "execution_count": null,
      "id": "8c9db1cf",
      "metadata": {
        "id": "8c9db1cf",
        "outputId": "76e4c26f-4317-4d41-f18f-969a4df060df",
        "colab": {
          "base_uri": "https://localhost:8080/",
          "height": 87
        }
      },
      "outputs": [
        {
          "output_type": "execute_result",
          "data": {
            "text/plain": [
              "'manila philippines bad morning sumalubong libulibong pasahero metro rail transit mrt3 kahapon umaga makaraang pababain tren dalawang beses aberya biyahe nabatid pinababa pasahero tren bahagi santolan station southbound dakong alas530 umaga matapos bumaba boltahe kuryente ayon mrt3 kinakailangang pababain pasahero itigil operasyon magiging delikado pagpapatakbo tren makakaapekto preno ayon kay mrt3 general manager ramon buenafe depektibong pintuan naman dahilan nang pansamantalang pagtigil southbound trip mrt3 gmakamuning station cubao station dakong alas700 umaga nabatid ikatlong sunod araw ngayong linggo naperwisyo aberya pasahero mrt3 matatandaan nitong miyerkules tumirik northbound tren mrt shaw boulevard station tumirik tren naman guadalupe boni station nitong martes'"
            ],
            "application/vnd.google.colaboratory.intrinsic+json": {
              "type": "string"
            }
          },
          "metadata": {},
          "execution_count": 25
        }
      ],
      "source": [
        "remove_stopwords(test_case,stop_words)"
      ]
    },
    {
      "cell_type": "markdown",
      "source": [
        "This code passes the entire 'Article' column in the DataFrame to the remove_stopwords function. This code applies the apply() method with a lambda function, which for each element in column 'Article' – considers as x a single article – runs remove_stopwords(x, stop_words). Each item in the list is processed to remove the stopwords and extra characters, returning a thoroughly cleaned text. The cleaned articles can then be reviewed. We do so by calling the head(10) function, which displays the first 10 rows of the revised DataFrame.\n"
      ],
      "metadata": {
        "id": "nPOtn0ROTnMh"
      },
      "id": "nPOtn0ROTnMh"
    },
    {
      "cell_type": "code",
      "execution_count": null,
      "id": "feeedfc1",
      "metadata": {
        "id": "feeedfc1",
        "outputId": "9a4629b7-4a00-4394-b4fd-fa4d9ebc390d",
        "colab": {
          "base_uri": "https://localhost:8080/",
          "height": 363
        }
      },
      "outputs": [
        {
          "output_type": "execute_result",
          "data": {
            "text/plain": [
              "                                             Article Category\n",
              "0  manila philippines bad morning sumalubong libu...    Metro\n",
              "1  kabilang bagong panuntunan operational provisi...    Bansa\n",
              "2  ibinulong nang asset kuwago ora private army m...  Opinyon\n",
              "3  manila philippines iniulat nasawi pasay city h...    Metro\n",
              "4  biruin mo nagamit rin niangelika dela cruzang ...  Showbiz\n",
              "5  philstarcomfile manila philippines mas paiigti...    Metro\n",
              "6  manila philippines ipinalalagay tabriz petroch...   Palaro\n",
              "7  inangatan marcio lassiter san miguel sina paul...   Palaro\n",
              "8  pik balikrecording si willie revillame siyang ...  Showbiz\n",
              "9  manila philippines naniniwala rin simbahang ka...    Bansa"
            ],
            "text/html": [
              "\n",
              "  <div id=\"df-c6e3cef9-63ea-4eb8-92a9-22e0a23260c3\" class=\"colab-df-container\">\n",
              "    <div>\n",
              "<style scoped>\n",
              "    .dataframe tbody tr th:only-of-type {\n",
              "        vertical-align: middle;\n",
              "    }\n",
              "\n",
              "    .dataframe tbody tr th {\n",
              "        vertical-align: top;\n",
              "    }\n",
              "\n",
              "    .dataframe thead th {\n",
              "        text-align: right;\n",
              "    }\n",
              "</style>\n",
              "<table border=\"1\" class=\"dataframe\">\n",
              "  <thead>\n",
              "    <tr style=\"text-align: right;\">\n",
              "      <th></th>\n",
              "      <th>Article</th>\n",
              "      <th>Category</th>\n",
              "    </tr>\n",
              "  </thead>\n",
              "  <tbody>\n",
              "    <tr>\n",
              "      <th>0</th>\n",
              "      <td>manila philippines bad morning sumalubong libu...</td>\n",
              "      <td>Metro</td>\n",
              "    </tr>\n",
              "    <tr>\n",
              "      <th>1</th>\n",
              "      <td>kabilang bagong panuntunan operational provisi...</td>\n",
              "      <td>Bansa</td>\n",
              "    </tr>\n",
              "    <tr>\n",
              "      <th>2</th>\n",
              "      <td>ibinulong nang asset kuwago ora private army m...</td>\n",
              "      <td>Opinyon</td>\n",
              "    </tr>\n",
              "    <tr>\n",
              "      <th>3</th>\n",
              "      <td>manila philippines iniulat nasawi pasay city h...</td>\n",
              "      <td>Metro</td>\n",
              "    </tr>\n",
              "    <tr>\n",
              "      <th>4</th>\n",
              "      <td>biruin mo nagamit rin niangelika dela cruzang ...</td>\n",
              "      <td>Showbiz</td>\n",
              "    </tr>\n",
              "    <tr>\n",
              "      <th>5</th>\n",
              "      <td>philstarcomfile manila philippines mas paiigti...</td>\n",
              "      <td>Metro</td>\n",
              "    </tr>\n",
              "    <tr>\n",
              "      <th>6</th>\n",
              "      <td>manila philippines ipinalalagay tabriz petroch...</td>\n",
              "      <td>Palaro</td>\n",
              "    </tr>\n",
              "    <tr>\n",
              "      <th>7</th>\n",
              "      <td>inangatan marcio lassiter san miguel sina paul...</td>\n",
              "      <td>Palaro</td>\n",
              "    </tr>\n",
              "    <tr>\n",
              "      <th>8</th>\n",
              "      <td>pik balikrecording si willie revillame siyang ...</td>\n",
              "      <td>Showbiz</td>\n",
              "    </tr>\n",
              "    <tr>\n",
              "      <th>9</th>\n",
              "      <td>manila philippines naniniwala rin simbahang ka...</td>\n",
              "      <td>Bansa</td>\n",
              "    </tr>\n",
              "  </tbody>\n",
              "</table>\n",
              "</div>\n",
              "    <div class=\"colab-df-buttons\">\n",
              "\n",
              "  <div class=\"colab-df-container\">\n",
              "    <button class=\"colab-df-convert\" onclick=\"convertToInteractive('df-c6e3cef9-63ea-4eb8-92a9-22e0a23260c3')\"\n",
              "            title=\"Convert this dataframe to an interactive table.\"\n",
              "            style=\"display:none;\">\n",
              "\n",
              "  <svg xmlns=\"http://www.w3.org/2000/svg\" height=\"24px\" viewBox=\"0 -960 960 960\">\n",
              "    <path d=\"M120-120v-720h720v720H120Zm60-500h600v-160H180v160Zm220 220h160v-160H400v160Zm0 220h160v-160H400v160ZM180-400h160v-160H180v160Zm440 0h160v-160H620v160ZM180-180h160v-160H180v160Zm440 0h160v-160H620v160Z\"/>\n",
              "  </svg>\n",
              "    </button>\n",
              "\n",
              "  <style>\n",
              "    .colab-df-container {\n",
              "      display:flex;\n",
              "      gap: 12px;\n",
              "    }\n",
              "\n",
              "    .colab-df-convert {\n",
              "      background-color: #E8F0FE;\n",
              "      border: none;\n",
              "      border-radius: 50%;\n",
              "      cursor: pointer;\n",
              "      display: none;\n",
              "      fill: #1967D2;\n",
              "      height: 32px;\n",
              "      padding: 0 0 0 0;\n",
              "      width: 32px;\n",
              "    }\n",
              "\n",
              "    .colab-df-convert:hover {\n",
              "      background-color: #E2EBFA;\n",
              "      box-shadow: 0px 1px 2px rgba(60, 64, 67, 0.3), 0px 1px 3px 1px rgba(60, 64, 67, 0.15);\n",
              "      fill: #174EA6;\n",
              "    }\n",
              "\n",
              "    .colab-df-buttons div {\n",
              "      margin-bottom: 4px;\n",
              "    }\n",
              "\n",
              "    [theme=dark] .colab-df-convert {\n",
              "      background-color: #3B4455;\n",
              "      fill: #D2E3FC;\n",
              "    }\n",
              "\n",
              "    [theme=dark] .colab-df-convert:hover {\n",
              "      background-color: #434B5C;\n",
              "      box-shadow: 0px 1px 3px 1px rgba(0, 0, 0, 0.15);\n",
              "      filter: drop-shadow(0px 1px 2px rgba(0, 0, 0, 0.3));\n",
              "      fill: #FFFFFF;\n",
              "    }\n",
              "  </style>\n",
              "\n",
              "    <script>\n",
              "      const buttonEl =\n",
              "        document.querySelector('#df-c6e3cef9-63ea-4eb8-92a9-22e0a23260c3 button.colab-df-convert');\n",
              "      buttonEl.style.display =\n",
              "        google.colab.kernel.accessAllowed ? 'block' : 'none';\n",
              "\n",
              "      async function convertToInteractive(key) {\n",
              "        const element = document.querySelector('#df-c6e3cef9-63ea-4eb8-92a9-22e0a23260c3');\n",
              "        const dataTable =\n",
              "          await google.colab.kernel.invokeFunction('convertToInteractive',\n",
              "                                                    [key], {});\n",
              "        if (!dataTable) return;\n",
              "\n",
              "        const docLinkHtml = 'Like what you see? Visit the ' +\n",
              "          '<a target=\"_blank\" href=https://colab.research.google.com/notebooks/data_table.ipynb>data table notebook</a>'\n",
              "          + ' to learn more about interactive tables.';\n",
              "        element.innerHTML = '';\n",
              "        dataTable['output_type'] = 'display_data';\n",
              "        await google.colab.output.renderOutput(dataTable, element);\n",
              "        const docLink = document.createElement('div');\n",
              "        docLink.innerHTML = docLinkHtml;\n",
              "        element.appendChild(docLink);\n",
              "      }\n",
              "    </script>\n",
              "  </div>\n",
              "\n",
              "\n",
              "<div id=\"df-3d89bd93-f8e1-4762-b12f-10d2aa81072c\">\n",
              "  <button class=\"colab-df-quickchart\" onclick=\"quickchart('df-3d89bd93-f8e1-4762-b12f-10d2aa81072c')\"\n",
              "            title=\"Suggest charts\"\n",
              "            style=\"display:none;\">\n",
              "\n",
              "<svg xmlns=\"http://www.w3.org/2000/svg\" height=\"24px\"viewBox=\"0 0 24 24\"\n",
              "     width=\"24px\">\n",
              "    <g>\n",
              "        <path d=\"M19 3H5c-1.1 0-2 .9-2 2v14c0 1.1.9 2 2 2h14c1.1 0 2-.9 2-2V5c0-1.1-.9-2-2-2zM9 17H7v-7h2v7zm4 0h-2V7h2v10zm4 0h-2v-4h2v4z\"/>\n",
              "    </g>\n",
              "</svg>\n",
              "  </button>\n",
              "\n",
              "<style>\n",
              "  .colab-df-quickchart {\n",
              "      --bg-color: #E8F0FE;\n",
              "      --fill-color: #1967D2;\n",
              "      --hover-bg-color: #E2EBFA;\n",
              "      --hover-fill-color: #174EA6;\n",
              "      --disabled-fill-color: #AAA;\n",
              "      --disabled-bg-color: #DDD;\n",
              "  }\n",
              "\n",
              "  [theme=dark] .colab-df-quickchart {\n",
              "      --bg-color: #3B4455;\n",
              "      --fill-color: #D2E3FC;\n",
              "      --hover-bg-color: #434B5C;\n",
              "      --hover-fill-color: #FFFFFF;\n",
              "      --disabled-bg-color: #3B4455;\n",
              "      --disabled-fill-color: #666;\n",
              "  }\n",
              "\n",
              "  .colab-df-quickchart {\n",
              "    background-color: var(--bg-color);\n",
              "    border: none;\n",
              "    border-radius: 50%;\n",
              "    cursor: pointer;\n",
              "    display: none;\n",
              "    fill: var(--fill-color);\n",
              "    height: 32px;\n",
              "    padding: 0;\n",
              "    width: 32px;\n",
              "  }\n",
              "\n",
              "  .colab-df-quickchart:hover {\n",
              "    background-color: var(--hover-bg-color);\n",
              "    box-shadow: 0 1px 2px rgba(60, 64, 67, 0.3), 0 1px 3px 1px rgba(60, 64, 67, 0.15);\n",
              "    fill: var(--button-hover-fill-color);\n",
              "  }\n",
              "\n",
              "  .colab-df-quickchart-complete:disabled,\n",
              "  .colab-df-quickchart-complete:disabled:hover {\n",
              "    background-color: var(--disabled-bg-color);\n",
              "    fill: var(--disabled-fill-color);\n",
              "    box-shadow: none;\n",
              "  }\n",
              "\n",
              "  .colab-df-spinner {\n",
              "    border: 2px solid var(--fill-color);\n",
              "    border-color: transparent;\n",
              "    border-bottom-color: var(--fill-color);\n",
              "    animation:\n",
              "      spin 1s steps(1) infinite;\n",
              "  }\n",
              "\n",
              "  @keyframes spin {\n",
              "    0% {\n",
              "      border-color: transparent;\n",
              "      border-bottom-color: var(--fill-color);\n",
              "      border-left-color: var(--fill-color);\n",
              "    }\n",
              "    20% {\n",
              "      border-color: transparent;\n",
              "      border-left-color: var(--fill-color);\n",
              "      border-top-color: var(--fill-color);\n",
              "    }\n",
              "    30% {\n",
              "      border-color: transparent;\n",
              "      border-left-color: var(--fill-color);\n",
              "      border-top-color: var(--fill-color);\n",
              "      border-right-color: var(--fill-color);\n",
              "    }\n",
              "    40% {\n",
              "      border-color: transparent;\n",
              "      border-right-color: var(--fill-color);\n",
              "      border-top-color: var(--fill-color);\n",
              "    }\n",
              "    60% {\n",
              "      border-color: transparent;\n",
              "      border-right-color: var(--fill-color);\n",
              "    }\n",
              "    80% {\n",
              "      border-color: transparent;\n",
              "      border-right-color: var(--fill-color);\n",
              "      border-bottom-color: var(--fill-color);\n",
              "    }\n",
              "    90% {\n",
              "      border-color: transparent;\n",
              "      border-bottom-color: var(--fill-color);\n",
              "    }\n",
              "  }\n",
              "</style>\n",
              "\n",
              "  <script>\n",
              "    async function quickchart(key) {\n",
              "      const quickchartButtonEl =\n",
              "        document.querySelector('#' + key + ' button');\n",
              "      quickchartButtonEl.disabled = true;  // To prevent multiple clicks.\n",
              "      quickchartButtonEl.classList.add('colab-df-spinner');\n",
              "      try {\n",
              "        const charts = await google.colab.kernel.invokeFunction(\n",
              "            'suggestCharts', [key], {});\n",
              "      } catch (error) {\n",
              "        console.error('Error during call to suggestCharts:', error);\n",
              "      }\n",
              "      quickchartButtonEl.classList.remove('colab-df-spinner');\n",
              "      quickchartButtonEl.classList.add('colab-df-quickchart-complete');\n",
              "    }\n",
              "    (() => {\n",
              "      let quickchartButtonEl =\n",
              "        document.querySelector('#df-3d89bd93-f8e1-4762-b12f-10d2aa81072c button');\n",
              "      quickchartButtonEl.style.display =\n",
              "        google.colab.kernel.accessAllowed ? 'block' : 'none';\n",
              "    })();\n",
              "  </script>\n",
              "</div>\n",
              "\n",
              "    </div>\n",
              "  </div>\n"
            ],
            "application/vnd.google.colaboratory.intrinsic+json": {
              "type": "dataframe",
              "variable_name": "df",
              "summary": "{\n  \"name\": \"df\",\n  \"rows\": 6000,\n  \"fields\": [\n    {\n      \"column\": \"Article\",\n      \"properties\": {\n        \"dtype\": \"string\",\n        \"num_unique_values\": 5507,\n        \"samples\": [\n          \"public figures nga silang naturingan kuwentongartista nagpalipatlipat ibat ibang bibig nagiging sampung doble bulate nagiging ahas nagiging higanteng sawa nga yun presyong pagbayaran pinasok pampublikong buhay nang pasukin pagaartista parang binuksan rin nang lantaran pintuan buhay buong bayan naiinis female personality arawaraw nating napapanood telebisyon ikuwento raw kasi dibersiyong pagpuntapunta casino lulong lulong parang raw maiiwasan libangan naglabas kuwento makapagsugal sobrang wagas parang raw palabasin nagpakalat istorya mabubuhay nakapagcasino ayon female tv personality sana tiningnan muna magkano bet naglalaro friends pinagtatawanan nga sobrang kuring raw kasi nga sobrang baba taya simple lang solusyon problema babaeng personalityhuwag siyang nagpupupunta casino maramihan silang naglilibang lalabas ring sugarol naman restaurant pinupuntahan kundi sugalan\",\n          \"sinagasaan cherif gwall sarr adamson depensa nina alfonso gotladera 16 matt nieto 6 ateneo uaap joey mendoza laro moa arena pasay city pm ust vs pm la salle vs feu manila philippines naibangon ateneo eagles masamang panimula nang pabagsakin adamson falcons 8460 78th uaap mens basketball kahapon mall asia arena pasay city ikatlong yugto tumira eagles upang iwanan falcons maisantabi 6488 pagkakadurog feu tamaraws unang asignatura focus todays game get back confidence shattered loss feu kiefer ravena delivered important sumuporta wika eagles coach bo perasol si ravena nanguna uli 24 puntos 11of17 shooting kasama dalawang triples naroroon naman sina von pessumal aaron black dagdag opensa 12 11 puntos anak dating pba best import coach meralco bolts pba si norman black kahangahangang 3for3 3point line kabuuang 4of6 shooting dalawang sunod triples si black upang isama tigisang 3pointers nina pessumal ravena gwayne capacio pasiklabin 2211 palitan hawakan 6244 kalamangan\",\n          \"si pope francis nang dumating ust kasunod arsobispo kabilang si manila archbishop cardinal luis tagle joven cagande manila philippines pinayuhan kahapon health spokesman dr lyndon leesuy taong dumagsa magkasunod pope event kahapon magpahinga agapan lunas sakaling maramdamang sakit lagnat ubo sipon matinding pagod puyat ginaw maari umanong magkasakit lalo bata matatanda yung mahihinang resistensiya bukod malamig nababad ulan kasabay matinding pagod sakaling napagod napuyat aniya makabawi pagpapahinga katawan upang tuluyang magkasakit aniyang sapat pagkaing masustansiya paginom bitamina tubig juiceat sapat tulog nating sagarin katawan napagod basa ulan magpalit magpahinga bawian agad masustansyang pagkain makatutulong paginom vitamins pahayag lee suy nabasa umano ulan naman kailangang uminom paracetamol lagnat lalong temperature katawan\"\n        ],\n        \"semantic_type\": \"\",\n        \"description\": \"\"\n      }\n    },\n    {\n      \"column\": \"Category\",\n      \"properties\": {\n        \"dtype\": \"category\",\n        \"num_unique_values\": 6,\n        \"samples\": [\n          \"Metro\",\n          \"Bansa\",\n          \"Probinsiya\"\n        ],\n        \"semantic_type\": \"\",\n        \"description\": \"\"\n      }\n    }\n  ]\n}"
            }
          },
          "metadata": {},
          "execution_count": 26
        }
      ],
      "source": [
        "#apply to the whole dataset\n",
        "df['Article'] = df['Article'].apply(lambda x: remove_stopwords(x, stop_words))\n",
        "df.head(10)"
      ]
    },
    {
      "cell_type": "markdown",
      "id": "68b1f506",
      "metadata": {
        "id": "68b1f506"
      },
      "source": [
        "## Tokenization"
      ]
    },
    {
      "cell_type": "markdown",
      "source": [
        "The next line of code downloads the 'punkt' tokenizer models and imports the nltk library. The 'punkt' tokenizer is a pre-trained tokenizer, which segments words and sentences from text. This step is very important in text processing applications that require tokenization, for instance, word frequency analysis or text categorization.\n"
      ],
      "metadata": {
        "id": "yIBSgozzTzbg"
      },
      "id": "yIBSgozzTzbg"
    },
    {
      "cell_type": "code",
      "execution_count": null,
      "id": "5338e022",
      "metadata": {
        "id": "5338e022",
        "outputId": "ffcb59cb-08fa-4b8f-e6f2-e64b53d81be0",
        "colab": {
          "base_uri": "https://localhost:8080/"
        }
      },
      "outputs": [
        {
          "output_type": "stream",
          "name": "stderr",
          "text": [
            "[nltk_data] Downloading package punkt to /root/nltk_data...\n",
            "[nltk_data]   Unzipping tokenizers/punkt.zip.\n"
          ]
        },
        {
          "output_type": "execute_result",
          "data": {
            "text/plain": [
              "True"
            ]
          },
          "metadata": {},
          "execution_count": 27
        }
      ],
      "source": [
        "import nltk\n",
        "nltk.download('punkt')  # Download the necessary data for tokenization"
      ]
    },
    {
      "cell_type": "markdown",
      "source": [
        "This code is used to import the function word_tokenize from the module nltk.tokenize. Tokenizing the text into words or tokens from a text string is a very recurring preprocessing step while analyzing text in general and involving NLP tasks. By tokenizing your text, you can carry out operations in text classification, frequency analysis, and many other text-processing operations.\n",
        "\n"
      ],
      "metadata": {
        "id": "HuzItI0tT2gu"
      },
      "id": "HuzItI0tT2gu"
    },
    {
      "cell_type": "code",
      "execution_count": null,
      "id": "536c2782",
      "metadata": {
        "id": "536c2782"
      },
      "outputs": [],
      "source": [
        "from nltk.tokenize import word_tokenize"
      ]
    },
    {
      "cell_type": "markdown",
      "source": [
        "This code is used to import the function word_tokenize from the module nltk.tokenize. Tokenizing the text into words or tokens from a text string is a very recurring preprocessing step while analyzing text in general and involving NLP tasks. By tokenizing your text, you can carry out operations in text classification, frequency analysis, and many other text-processing operations.\n"
      ],
      "metadata": {
        "id": "bmfH209ZUBTV"
      },
      "id": "bmfH209ZUBTV"
    },
    {
      "cell_type": "code",
      "execution_count": null,
      "id": "11dc3444",
      "metadata": {
        "id": "11dc3444"
      },
      "outputs": [],
      "source": [
        "# Apply word_tokenize function to each article in the 'article' column\n",
        "df['tokenized_article'] = df['Article'].apply(word_tokenize)"
      ]
    },
    {
      "cell_type": "markdown",
      "source": [
        "This code prints 10 elements of the column 'tokenized_article' in the DataFrame. Each item here represents a tokenized form of every article from the column 'Article'. The word_tokenize function has broken down the text into words or tokens. You can view the tokenization process yourself and verify if it broke the text down into tokens using the first ten tokenized results.\n"
      ],
      "metadata": {
        "id": "aiJma_YoUNpb"
      },
      "id": "aiJma_YoUNpb"
    },
    {
      "cell_type": "code",
      "execution_count": null,
      "id": "ae24affa",
      "metadata": {
        "id": "ae24affa",
        "outputId": "aebfb742-2003-4cc1-a3de-ffb5b9c6d976",
        "colab": {
          "base_uri": "https://localhost:8080/",
          "height": 398
        }
      },
      "outputs": [
        {
          "output_type": "execute_result",
          "data": {
            "text/plain": [
              "0    [manila, philippines, bad, morning, sumalubong...\n",
              "1    [kabilang, bagong, panuntunan, operational, pr...\n",
              "2    [ibinulong, nang, asset, kuwago, ora, private,...\n",
              "3    [manila, philippines, iniulat, nasawi, pasay, ...\n",
              "4    [biruin, mo, nagamit, rin, niangelika, dela, c...\n",
              "5    [philstarcomfile, manila, philippines, mas, pa...\n",
              "6    [manila, philippines, ipinalalagay, tabriz, pe...\n",
              "7    [inangatan, marcio, lassiter, san, miguel, sin...\n",
              "8    [pik, balikrecording, si, willie, revillame, s...\n",
              "9    [manila, philippines, naniniwala, rin, simbaha...\n",
              "Name: tokenized_article, dtype: object"
            ],
            "text/html": [
              "<div>\n",
              "<style scoped>\n",
              "    .dataframe tbody tr th:only-of-type {\n",
              "        vertical-align: middle;\n",
              "    }\n",
              "\n",
              "    .dataframe tbody tr th {\n",
              "        vertical-align: top;\n",
              "    }\n",
              "\n",
              "    .dataframe thead th {\n",
              "        text-align: right;\n",
              "    }\n",
              "</style>\n",
              "<table border=\"1\" class=\"dataframe\">\n",
              "  <thead>\n",
              "    <tr style=\"text-align: right;\">\n",
              "      <th></th>\n",
              "      <th>tokenized_article</th>\n",
              "    </tr>\n",
              "  </thead>\n",
              "  <tbody>\n",
              "    <tr>\n",
              "      <th>0</th>\n",
              "      <td>[manila, philippines, bad, morning, sumalubong...</td>\n",
              "    </tr>\n",
              "    <tr>\n",
              "      <th>1</th>\n",
              "      <td>[kabilang, bagong, panuntunan, operational, pr...</td>\n",
              "    </tr>\n",
              "    <tr>\n",
              "      <th>2</th>\n",
              "      <td>[ibinulong, nang, asset, kuwago, ora, private,...</td>\n",
              "    </tr>\n",
              "    <tr>\n",
              "      <th>3</th>\n",
              "      <td>[manila, philippines, iniulat, nasawi, pasay, ...</td>\n",
              "    </tr>\n",
              "    <tr>\n",
              "      <th>4</th>\n",
              "      <td>[biruin, mo, nagamit, rin, niangelika, dela, c...</td>\n",
              "    </tr>\n",
              "    <tr>\n",
              "      <th>5</th>\n",
              "      <td>[philstarcomfile, manila, philippines, mas, pa...</td>\n",
              "    </tr>\n",
              "    <tr>\n",
              "      <th>6</th>\n",
              "      <td>[manila, philippines, ipinalalagay, tabriz, pe...</td>\n",
              "    </tr>\n",
              "    <tr>\n",
              "      <th>7</th>\n",
              "      <td>[inangatan, marcio, lassiter, san, miguel, sin...</td>\n",
              "    </tr>\n",
              "    <tr>\n",
              "      <th>8</th>\n",
              "      <td>[pik, balikrecording, si, willie, revillame, s...</td>\n",
              "    </tr>\n",
              "    <tr>\n",
              "      <th>9</th>\n",
              "      <td>[manila, philippines, naniniwala, rin, simbaha...</td>\n",
              "    </tr>\n",
              "  </tbody>\n",
              "</table>\n",
              "</div><br><label><b>dtype:</b> object</label>"
            ]
          },
          "metadata": {},
          "execution_count": 30
        }
      ],
      "source": [
        "# Print the first 10 tokenized result\n",
        "df['tokenized_article'].head(10)"
      ]
    },
    {
      "cell_type": "code",
      "execution_count": null,
      "id": "84c053a8",
      "metadata": {
        "id": "84c053a8"
      },
      "outputs": [],
      "source": []
    }
  ],
  "metadata": {
    "kernelspec": {
      "display_name": "Python 3 (ipykernel)",
      "language": "python",
      "name": "python3"
    },
    "language_info": {
      "codemirror_mode": {
        "name": "ipython",
        "version": 3
      },
      "file_extension": ".py",
      "mimetype": "text/x-python",
      "name": "python",
      "nbconvert_exporter": "python",
      "pygments_lexer": "ipython3",
      "version": "3.10.10"
    },
    "colab": {
      "provenance": []
    }
  },
  "nbformat": 4,
  "nbformat_minor": 5
}