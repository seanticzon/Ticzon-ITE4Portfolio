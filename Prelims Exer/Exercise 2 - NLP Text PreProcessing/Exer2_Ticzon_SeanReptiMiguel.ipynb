{
  "cells": [
    {
      "cell_type": "markdown",
      "metadata": {
        "id": "R7m1TrgQY0UI"
      },
      "source": [
        "# ***DATASET INTRODUCTION***"
      ]
    },
    {
      "cell_type": "markdown",
      "metadata": {
        "id": "vW8DBnbIYNjH"
      },
      "source": [
        "News tends to have an immoral impact on society and civic life, on one hand acting as a vital source of information for the people, while on the other, acting as a spy against the misdeeds of the mighty. The impact of news on people's decisions can be both positive and negative. Where news through newspapers is able to make people judge situations rationally, false news sometimes leads to grave social chaos or political uprise. It also changes the human perception of some of the existing affairs of the world. Sometimes, receiving nice news may make a person more confident, hopeful, and sufficient. However, not-so-nice news may also bring about certain psychological changes. The foremost cause of such changes is the vast increase in the quantity of reports on crimes, accidents, and suicides. Reports of this nature negatively affect the capability of human beings to remain emotionally balanced.\n",
        "\n",
        "---\n",
        "\n"
      ]
    },
    {
      "cell_type": "markdown",
      "metadata": {
        "id": "73SM10zWX6Y7"
      },
      "source": [
        "***FIRST WE LOAD OUR DATASET***"
      ]
    },
    {
      "cell_type": "markdown",
      "metadata": {
        "id": "IitEYy3hZPa4"
      },
      "source": [
        "This program run in a Google Colab environment, loading a dataset containing fake and real news and inspecting it. The program begins by importing the Pandas library used in data manipulation and analysis. This is followed by mounting Google Drive to make the files saved there available in the Colab environment. Finally, after the successful mounting of the device, the dataset from the given location is loaded into a Pandas DataFrame."
      ]
    },
    {
      "cell_type": "code",
      "execution_count": null,
      "metadata": {
        "colab": {
          "base_uri": "https://localhost:8080/"
        },
        "id": "i057HuqOIURf",
        "outputId": "4b5d789a-98b8-4e4b-f12e-d88dfd0d9eae"
      },
      "outputs": [
        {
          "output_type": "stream",
          "name": "stdout",
          "text": [
            "Drive already mounted at /content/drive; to attempt to forcibly remount, call drive.mount(\"/content/drive\", force_remount=True).\n"
          ]
        }
      ],
      "source": [
        "import pandas as pd\n",
        "#import dataset\n",
        "from google.colab import drive\n",
        "drive.mount('/content/drive')\n",
        "dataset = pd.read_csv('/content/drive/MyDrive/Fake_Real_News_Data.csv')"
      ]
    },
    {
      "cell_type": "markdown",
      "source": [],
      "metadata": {
        "id": "P3wzW-CwliTN"
      }
    },
    {
      "cell_type": "markdown",
      "metadata": {
        "id": "ss4gbIUEa87w"
      },
      "source": [
        "# ***CHECKING THE DATASET***"
      ]
    },
    {
      "cell_type": "markdown",
      "metadata": {
        "id": "DPpV2j-GkIrE"
      },
      "source": [
        "Before performing any data analysis, there is a need to first check the dataset to establish its structure and quality. This preparatory phase ensures that the data is complete, well prepared, and ready for analysis. This will enable us to find out any problems that may hamper the accuracy and reliability of our analysis by checking on some essential factors, including the number of rows and columns, the presence of missing values, and the amount of text material. The process also helps in vividly visualizing a dataset to ensure any preprocessing or cleaning is done before further investigation and analysis.\n",
        "\n",
        "---\n",
        "\n",
        "\n"
      ]
    },
    {
      "cell_type": "markdown",
      "metadata": {
        "id": "i7CAAveSbgIJ"
      },
      "source": [
        "The following code makes use of the method head() to display the first five rows of the dataset variable. It is normal to inspect and confirm the data structure, column names, and contents from the top down. Viewing the first five observations lets the user assure themselves that the data has been imported properly and lets them get an early impression of the format and information content of the resultant dataset.\n"
      ]
    },
    {
      "cell_type": "code",
      "execution_count": null,
      "metadata": {
        "colab": {
          "base_uri": "https://localhost:8080/"
        },
        "id": "-cftY3MgaqsY",
        "outputId": "a2750290-5775-45b4-b019-62df18cdefee"
      },
      "outputs": [
        {
          "output_type": "execute_result",
          "data": {
            "text/plain": [
              "   Unnamed: 0                                              title  \\\n",
              "0           0  A whirlwind day in D.C. showcases Trump’s unor...   \n",
              "1           1  In Baltimore's call for federal police probe, ...   \n",
              "2           2  Trump Proudly Declares: Most Of The People I’v...   \n",
              "3           3  Inside the Trump-Bush melodrama: Decades of te...   \n",
              "4           4      Shutdown clash to return in force by December   \n",
              "\n",
              "                                                text label  \n",
              "0  Donald Trump endorsed an unabashedly noninterv...  REAL  \n",
              "1  While some Justice Department investigations a...  REAL  \n",
              "2  Trump Proudly Declares: Most Of The People I’v...  FAKE  \n",
              "3  Donald Trump spent a day in January 2014 hobno...  REAL  \n",
              "4  Notable names include Ray Washburne (Commerce)...  REAL  "
            ],
            "text/html": [
              "\n",
              "  <div id=\"df-28161b3a-4756-4d58-9763-6571818ea18f\" class=\"colab-df-container\">\n",
              "    <div>\n",
              "<style scoped>\n",
              "    .dataframe tbody tr th:only-of-type {\n",
              "        vertical-align: middle;\n",
              "    }\n",
              "\n",
              "    .dataframe tbody tr th {\n",
              "        vertical-align: top;\n",
              "    }\n",
              "\n",
              "    .dataframe thead th {\n",
              "        text-align: right;\n",
              "    }\n",
              "</style>\n",
              "<table border=\"1\" class=\"dataframe\">\n",
              "  <thead>\n",
              "    <tr style=\"text-align: right;\">\n",
              "      <th></th>\n",
              "      <th>Unnamed: 0</th>\n",
              "      <th>title</th>\n",
              "      <th>text</th>\n",
              "      <th>label</th>\n",
              "    </tr>\n",
              "  </thead>\n",
              "  <tbody>\n",
              "    <tr>\n",
              "      <th>0</th>\n",
              "      <td>0</td>\n",
              "      <td>A whirlwind day in D.C. showcases Trump’s unor...</td>\n",
              "      <td>Donald Trump endorsed an unabashedly noninterv...</td>\n",
              "      <td>REAL</td>\n",
              "    </tr>\n",
              "    <tr>\n",
              "      <th>1</th>\n",
              "      <td>1</td>\n",
              "      <td>In Baltimore's call for federal police probe, ...</td>\n",
              "      <td>While some Justice Department investigations a...</td>\n",
              "      <td>REAL</td>\n",
              "    </tr>\n",
              "    <tr>\n",
              "      <th>2</th>\n",
              "      <td>2</td>\n",
              "      <td>Trump Proudly Declares: Most Of The People I’v...</td>\n",
              "      <td>Trump Proudly Declares: Most Of The People I’v...</td>\n",
              "      <td>FAKE</td>\n",
              "    </tr>\n",
              "    <tr>\n",
              "      <th>3</th>\n",
              "      <td>3</td>\n",
              "      <td>Inside the Trump-Bush melodrama: Decades of te...</td>\n",
              "      <td>Donald Trump spent a day in January 2014 hobno...</td>\n",
              "      <td>REAL</td>\n",
              "    </tr>\n",
              "    <tr>\n",
              "      <th>4</th>\n",
              "      <td>4</td>\n",
              "      <td>Shutdown clash to return in force by December</td>\n",
              "      <td>Notable names include Ray Washburne (Commerce)...</td>\n",
              "      <td>REAL</td>\n",
              "    </tr>\n",
              "  </tbody>\n",
              "</table>\n",
              "</div>\n",
              "    <div class=\"colab-df-buttons\">\n",
              "\n",
              "  <div class=\"colab-df-container\">\n",
              "    <button class=\"colab-df-convert\" onclick=\"convertToInteractive('df-28161b3a-4756-4d58-9763-6571818ea18f')\"\n",
              "            title=\"Convert this dataframe to an interactive table.\"\n",
              "            style=\"display:none;\">\n",
              "\n",
              "  <svg xmlns=\"http://www.w3.org/2000/svg\" height=\"24px\" viewBox=\"0 -960 960 960\">\n",
              "    <path d=\"M120-120v-720h720v720H120Zm60-500h600v-160H180v160Zm220 220h160v-160H400v160Zm0 220h160v-160H400v160ZM180-400h160v-160H180v160Zm440 0h160v-160H620v160ZM180-180h160v-160H180v160Zm440 0h160v-160H620v160Z\"/>\n",
              "  </svg>\n",
              "    </button>\n",
              "\n",
              "  <style>\n",
              "    .colab-df-container {\n",
              "      display:flex;\n",
              "      gap: 12px;\n",
              "    }\n",
              "\n",
              "    .colab-df-convert {\n",
              "      background-color: #E8F0FE;\n",
              "      border: none;\n",
              "      border-radius: 50%;\n",
              "      cursor: pointer;\n",
              "      display: none;\n",
              "      fill: #1967D2;\n",
              "      height: 32px;\n",
              "      padding: 0 0 0 0;\n",
              "      width: 32px;\n",
              "    }\n",
              "\n",
              "    .colab-df-convert:hover {\n",
              "      background-color: #E2EBFA;\n",
              "      box-shadow: 0px 1px 2px rgba(60, 64, 67, 0.3), 0px 1px 3px 1px rgba(60, 64, 67, 0.15);\n",
              "      fill: #174EA6;\n",
              "    }\n",
              "\n",
              "    .colab-df-buttons div {\n",
              "      margin-bottom: 4px;\n",
              "    }\n",
              "\n",
              "    [theme=dark] .colab-df-convert {\n",
              "      background-color: #3B4455;\n",
              "      fill: #D2E3FC;\n",
              "    }\n",
              "\n",
              "    [theme=dark] .colab-df-convert:hover {\n",
              "      background-color: #434B5C;\n",
              "      box-shadow: 0px 1px 3px 1px rgba(0, 0, 0, 0.15);\n",
              "      filter: drop-shadow(0px 1px 2px rgba(0, 0, 0, 0.3));\n",
              "      fill: #FFFFFF;\n",
              "    }\n",
              "  </style>\n",
              "\n",
              "    <script>\n",
              "      const buttonEl =\n",
              "        document.querySelector('#df-28161b3a-4756-4d58-9763-6571818ea18f button.colab-df-convert');\n",
              "      buttonEl.style.display =\n",
              "        google.colab.kernel.accessAllowed ? 'block' : 'none';\n",
              "\n",
              "      async function convertToInteractive(key) {\n",
              "        const element = document.querySelector('#df-28161b3a-4756-4d58-9763-6571818ea18f');\n",
              "        const dataTable =\n",
              "          await google.colab.kernel.invokeFunction('convertToInteractive',\n",
              "                                                    [key], {});\n",
              "        if (!dataTable) return;\n",
              "\n",
              "        const docLinkHtml = 'Like what you see? Visit the ' +\n",
              "          '<a target=\"_blank\" href=https://colab.research.google.com/notebooks/data_table.ipynb>data table notebook</a>'\n",
              "          + ' to learn more about interactive tables.';\n",
              "        element.innerHTML = '';\n",
              "        dataTable['output_type'] = 'display_data';\n",
              "        await google.colab.output.renderOutput(dataTable, element);\n",
              "        const docLink = document.createElement('div');\n",
              "        docLink.innerHTML = docLinkHtml;\n",
              "        element.appendChild(docLink);\n",
              "      }\n",
              "    </script>\n",
              "  </div>\n",
              "\n",
              "\n",
              "<div id=\"df-50bee72d-4606-4dde-8396-8ffe20f448e9\">\n",
              "  <button class=\"colab-df-quickchart\" onclick=\"quickchart('df-50bee72d-4606-4dde-8396-8ffe20f448e9')\"\n",
              "            title=\"Suggest charts\"\n",
              "            style=\"display:none;\">\n",
              "\n",
              "<svg xmlns=\"http://www.w3.org/2000/svg\" height=\"24px\"viewBox=\"0 0 24 24\"\n",
              "     width=\"24px\">\n",
              "    <g>\n",
              "        <path d=\"M19 3H5c-1.1 0-2 .9-2 2v14c0 1.1.9 2 2 2h14c1.1 0 2-.9 2-2V5c0-1.1-.9-2-2-2zM9 17H7v-7h2v7zm4 0h-2V7h2v10zm4 0h-2v-4h2v4z\"/>\n",
              "    </g>\n",
              "</svg>\n",
              "  </button>\n",
              "\n",
              "<style>\n",
              "  .colab-df-quickchart {\n",
              "      --bg-color: #E8F0FE;\n",
              "      --fill-color: #1967D2;\n",
              "      --hover-bg-color: #E2EBFA;\n",
              "      --hover-fill-color: #174EA6;\n",
              "      --disabled-fill-color: #AAA;\n",
              "      --disabled-bg-color: #DDD;\n",
              "  }\n",
              "\n",
              "  [theme=dark] .colab-df-quickchart {\n",
              "      --bg-color: #3B4455;\n",
              "      --fill-color: #D2E3FC;\n",
              "      --hover-bg-color: #434B5C;\n",
              "      --hover-fill-color: #FFFFFF;\n",
              "      --disabled-bg-color: #3B4455;\n",
              "      --disabled-fill-color: #666;\n",
              "  }\n",
              "\n",
              "  .colab-df-quickchart {\n",
              "    background-color: var(--bg-color);\n",
              "    border: none;\n",
              "    border-radius: 50%;\n",
              "    cursor: pointer;\n",
              "    display: none;\n",
              "    fill: var(--fill-color);\n",
              "    height: 32px;\n",
              "    padding: 0;\n",
              "    width: 32px;\n",
              "  }\n",
              "\n",
              "  .colab-df-quickchart:hover {\n",
              "    background-color: var(--hover-bg-color);\n",
              "    box-shadow: 0 1px 2px rgba(60, 64, 67, 0.3), 0 1px 3px 1px rgba(60, 64, 67, 0.15);\n",
              "    fill: var(--button-hover-fill-color);\n",
              "  }\n",
              "\n",
              "  .colab-df-quickchart-complete:disabled,\n",
              "  .colab-df-quickchart-complete:disabled:hover {\n",
              "    background-color: var(--disabled-bg-color);\n",
              "    fill: var(--disabled-fill-color);\n",
              "    box-shadow: none;\n",
              "  }\n",
              "\n",
              "  .colab-df-spinner {\n",
              "    border: 2px solid var(--fill-color);\n",
              "    border-color: transparent;\n",
              "    border-bottom-color: var(--fill-color);\n",
              "    animation:\n",
              "      spin 1s steps(1) infinite;\n",
              "  }\n",
              "\n",
              "  @keyframes spin {\n",
              "    0% {\n",
              "      border-color: transparent;\n",
              "      border-bottom-color: var(--fill-color);\n",
              "      border-left-color: var(--fill-color);\n",
              "    }\n",
              "    20% {\n",
              "      border-color: transparent;\n",
              "      border-left-color: var(--fill-color);\n",
              "      border-top-color: var(--fill-color);\n",
              "    }\n",
              "    30% {\n",
              "      border-color: transparent;\n",
              "      border-left-color: var(--fill-color);\n",
              "      border-top-color: var(--fill-color);\n",
              "      border-right-color: var(--fill-color);\n",
              "    }\n",
              "    40% {\n",
              "      border-color: transparent;\n",
              "      border-right-color: var(--fill-color);\n",
              "      border-top-color: var(--fill-color);\n",
              "    }\n",
              "    60% {\n",
              "      border-color: transparent;\n",
              "      border-right-color: var(--fill-color);\n",
              "    }\n",
              "    80% {\n",
              "      border-color: transparent;\n",
              "      border-right-color: var(--fill-color);\n",
              "      border-bottom-color: var(--fill-color);\n",
              "    }\n",
              "    90% {\n",
              "      border-color: transparent;\n",
              "      border-bottom-color: var(--fill-color);\n",
              "    }\n",
              "  }\n",
              "</style>\n",
              "\n",
              "  <script>\n",
              "    async function quickchart(key) {\n",
              "      const quickchartButtonEl =\n",
              "        document.querySelector('#' + key + ' button');\n",
              "      quickchartButtonEl.disabled = true;  // To prevent multiple clicks.\n",
              "      quickchartButtonEl.classList.add('colab-df-spinner');\n",
              "      try {\n",
              "        const charts = await google.colab.kernel.invokeFunction(\n",
              "            'suggestCharts', [key], {});\n",
              "      } catch (error) {\n",
              "        console.error('Error during call to suggestCharts:', error);\n",
              "      }\n",
              "      quickchartButtonEl.classList.remove('colab-df-spinner');\n",
              "      quickchartButtonEl.classList.add('colab-df-quickchart-complete');\n",
              "    }\n",
              "    (() => {\n",
              "      let quickchartButtonEl =\n",
              "        document.querySelector('#df-50bee72d-4606-4dde-8396-8ffe20f448e9 button');\n",
              "      quickchartButtonEl.style.display =\n",
              "        google.colab.kernel.accessAllowed ? 'block' : 'none';\n",
              "    })();\n",
              "  </script>\n",
              "</div>\n",
              "\n",
              "    </div>\n",
              "  </div>\n"
            ],
            "application/vnd.google.colaboratory.intrinsic+json": {
              "type": "dataframe",
              "variable_name": "dataset",
              "summary": "{\n  \"name\": \"dataset\",\n  \"rows\": 6335,\n  \"fields\": [\n    {\n      \"column\": \"Unnamed: 0\",\n      \"properties\": {\n        \"dtype\": \"number\",\n        \"std\": 1828,\n        \"min\": 0,\n        \"max\": 6334,\n        \"num_unique_values\": 6335,\n        \"samples\": [\n          1357,\n          2080,\n          2718\n        ],\n        \"semantic_type\": \"\",\n        \"description\": \"\"\n      }\n    },\n    {\n      \"column\": \"title\",\n      \"properties\": {\n        \"dtype\": \"string\",\n        \"num_unique_values\": 6256,\n        \"samples\": [\n          \"New Wikileaks emails: Bernie is a Jerk, Megyn Kelly a Bimbo and More\",\n          \"Poll: Clinton's Lead Over Trump Slips After Florida Shooting\",\n          \"Obama\\u2019s trip to Ethiopia alarms some human rights activists\"\n        ],\n        \"semantic_type\": \"\",\n        \"description\": \"\"\n      }\n    },\n    {\n      \"column\": \"text\",\n      \"properties\": {\n        \"dtype\": \"string\",\n        \"num_unique_values\": 6060,\n        \"samples\": [\n          \"  \\nThe election was set up to be stolen from Trump. That was the purpose of the polls rigged by overweighting Hillary supporters in the samples. After weeks of hearing poll results that Hillary was in the lead, the public would discount a theft claim. Electronic voting makes elections easy to steal, and I have posted explanations by election fraud experts of how it is done. \\nClearly the Oligarchy does not want Donald Trump in the White House as they are unsure that they could control him, and Hillary is their agent. \\nWith the reopening of the FBI investigation of Hillary and related scandals exploding all around her, election theft is not only more risky but also less likely to serve the Oligarchy\\u2019s own interests. \\nImage as well as money is part of Oligarchic power. The image of America takes a big hit if the American people elect a president who is currently under felony investigation. \\nMoreover, a President Hillary would be under investigation for years. With so much spotlight on her, she would not be able to serve the Oligarchy\\u2019s interests. She would be worthless to them, and, indeed, investigations that unearthed various connections between Hillary and oligarchs could damage the oligarchs. \\nIn other words, for the Oligarchy Hillary has moved from an asset to a liability. \\nA Hillary presidency could put our country into chaos. I doubt the oligarchs are sufficiently stupid to think that once she is sworn in, Hillary can fire FBI Director Comey and shut down the investigation. The last president that tried that was Richard Nixon, and look where that got him. \\nMoreover, the Republicans in the House and Senate would not stand for it. House Committee on oversight and Government Reform chairman Jason Chaffetz has already declared Hillary to be \\u201ca target-rich environment. Even before we get to day one, we\\u2019ve got two years worth of material already lined up.\\u201d House Speaker Paul Ryan said investigation will follow the evidence. \\nIf you were an oligarch, would you want your agent under this kind of scrutiny? If you were Hillary, would you want to be under this kind of pressure? \\nWhat happens if the FBI recommends the indictment of the president? Even insouciant Americans would see the cover-up if the attorney general refused to prosecute the case. Americans would lose all confidence in the government. Chaos would rule. Chaos can be revolutionary, and that is not good for oligarchs. \\nMoreover, if reports can be believed, salacious scandals appear to be waiting their time on stage. For example, last May Fox News reported: \\n\\u201cFormer President Bill Clinton was a much more frequent flyer on a registered sex offender\\u2019s infamous jet than previously reported, with flight logs showing the former president taking at least 26 trips aboard the \\u201cLolita Express\\u201d \\u2014 even apparently ditching his Secret Service detail for at least five of the flights, according to records obtained by FoxNews.com. \\n\\u201cClinton\\u2019s presence aboard Jeffrey Epstein\\u2019s Boeing 727 on 11 occasions has been reported, but flight logs show the number is more than double that, and trips between 2001 and 2003 included extended junkets around the world with Epstein and fellow passengers identified on manifests by their initials or first names, including \\u201cTatiana.\\u201d The tricked-out jet earned its Nabakov-inspired nickname because it was reportedly outfitted with a bed where passengers had group sex with young girls.\\u201d \\nFox News reports that Epstein served time in prison for \\u201csolicitation and procurement of minors for prostitution. He allegedly had a team of traffickers who procured girls as young as 12 to service his friends on \\u2018Orgy Island,\\u2019 an estate on Epstein\\u2019s 72-acre island, called Little St. James, in the U.S. Virgin Islands.\\u201d http://www.foxnews.com/us/2016/05/13/flight-logs-show-bill-clinton-flew-on-sex-offenders-jet-much-more-than-previously-known.html Some Internet sites, the credibility of which is unknown to me, have linked Hillary to these flights. http://truepundit.com/breaking-bombshell-nypd-blows-whistle-on-new-hillary-emails-money-laundering-sex-crimes-with-children-child-exploitation-pay-to-play-perjury/ \\nThis kind of behavior seems reckless even for Bill and Hillary, who are accustomed to getting away with everything. Nevertheless, if you are an oligarch already worried about the reopened Hillary email case and additional FBI investigations, such as the one into the Clinton Foundation, and concerned about what else might emerge from the 650,000 emails on former US Rep. Weiner\\u2019s computer and the NYPD pedophile investigation, putting Hillary in the Oval Office doesn\\u2019t look like a good decision. \\nAt this point, I would think that the Oligarchy would prefer to steal the election for Trump, instead of from him, rather than allow insouciant Americans to destroy America\\u2019s reputation by choosing a person under felony investigations for president of the United States. \\nBeing the \\u201cexceptional nation\\u201d takes on new meaning when there is a criminal at the helm. (Reprinted from PaulCraigRoberts.org by permission of author or representative)\",\n          \"Kentucky Sen. Rand Paul is suspending his campaign for president after a disappointing finish in Iowa, turning his focus now to his Senate re-election bid.\\n\\n\\\"Across the country thousands upon thousands of young people flocked to our message of limited government, privacy, criminal justice reform and a reasonable foreign policy. Brushfires of Liberty were ignited, and those will carry on, as will I,\\\" the Republican said in a statement.\\n\\n\\\"Although, today I will suspend my campaign for President, the fight is far from over,\\\" he continued. \\\"I will continue to carry the torch for Liberty in the United States Senate and I look forward to earning the privilege to represent the people of Kentucky for another term.\\\"\\n\\nThe libertarian-leaning senator finished a distant fifth in the Hawkeye State on Monday evening, unable to replicate the strong coalition that his father, former Texas Rep. Ron Paul, had built there four years ago.\\n\\nHis prospects were similarly bleak both in national polling and in New Hampshire, which is up next Tuesday. Left off the main debate stage last month for his poor standing in surveys (he instead boycotted the so-called undercard debate), Paul faced being passed over again at Saturday's GOP debate.\\n\\nHis end-of-the-year campaign finance report showed a depleted bank account, too, with just $1.3 million remaining.\\n\\nAnd Paul, unlike his rivals, had another campaign he was running simultaneously to worry about \\u2014 his Senate re-election bid. Though the first-term senator starts with the advantage in the GOP-leaning state, he drew a strong Democratic challenger last month in Lexington Mayor Jim Gray.\\n\\nPaul had to jump through hoops just to be able to run for both Senate and president at the same time. Last year he persuaded the state party to hold a March caucus instead of a May primary so he could legally be on both ballots. That political insurance policy he won't need anymore was costly \\u2014 he had promised he would pay for the change, which could be upwards of $500,000.\",\n          \"On Sunday during an appearance on \\\"Face the Nation\\\" on CBS, Speaker John Boehner (R-Ohio) tried to downplay the differences between the GOP leadership and the conservative rank and file in the House.\\n\\n\\\"We do have some members who disagree, from time to time, over the tactics that we decide to employ,\\\" Boehner said at one point. \\\"We get in an argument over tactics from time to time,\\\" \\u00a0he said at another. \\\"The goals are all the same.\\\"\\u00a0That line was echoed by House Majority Whip Kevin McCarthy (R-Calif.) during an interview with Chuck Todd on NBC's \\\"Meet the Press.\\\"\\u00a0\\\"We have a difference of opinion in strategy and tactics, but in principle we are united,\\\" McCarthy said.\\n\\nThose statements are only half true.\\n\\nThe true part is that Boehner, McCarthy and the rest of the House GOP leadership team do have a broad strategy and a series of tactics they try to employ to both accomplish their legislative goals and pressure President Obama. Whether that's \\\"Plan B,\\\" Boehner's attempt to avert the fiscal cliff while simultaneously forcing Obama's hand, or the latest attempt to extend funding for the Department of Homeland Security for three weeks, Boehner, McCarthy and the rest have a strategy behind most of these big legislative fights. (The lack of a back-up plan, on the other hand, is a little odd.)\\n\\nThe untrue part is that the rump Republican resistance \\u2014\\u00a0led by a handful of tea party-aligned conservatives \\u2014\\u00a0has its own alternative strategy or even tactics. Think back to the vote for speaker earlier in this Congress. \\u00a0The establishment had a plan to get Boehner reelected to the House's top job. The resistance? Not so much. They nominated three alternatives to Boehner \\u2014\\u00a0Dan Webster of Florida, Ted Yoho of Florida and Louie Gohmert of Texas \\u2014\\u00a0ensuring that the anti-Boehner vote was splintered. What did that reveal? That even in making a purely protest vote, there wasn't a whole heck of a lot strategy going on in the not-Boehner crowd.\\n\\nFast forward to Friday's vote on the three-week extension backed by Boehner. Yes, the conservative coalition in the House was absolutely the key to killing that measure. But to what end? What is the broader strategy of voting that extension down? The answer that group will give you is to tie the repeal of Obama's immigration executive orders to funding DHS. But that is never going to happen. Even if Senate Democrats allowed a vote on such a joined package and it passed, which wouldn't happen, Obama would veto it without a second thought. And we would be right back where we started.\\n\\nThis is a classic letting-the-perfect-get-in-the-way-of-the-good approach. It is neither a strategy nor a tactic to say \\\"we will get everything we want or there will be no deal.\\\" Saying \\\"no\\\" isn't a strategy. Jeb Bush addressed that reality during his question-and-answer session at CPAC last week. \\\"It's good to oppose bad things,\\\" Bush said. \\\"We need to start being for things.\\\"\\n\\nThat's what Boehner \\u2014\\u00a0and Senate Majority Leader Mitch McConnell (R-Ky.) \\u2014\\u00a0have been saying for quite some time. The problem for Boehner and, to a lesser extent, McConnell, is that they are not dealing with a group of members who see the world as they do. While Boehner et al are trying to draw up a broad strategy of how to approach the final two years of Obama's presidency, the resisters in the House are taking it issue by issue \\u2014\\u00a0and always standing on ideological ground to oppose Obama.\\n\\nOpposition without a plan of what to do next is neither a tactic nor a strategy. That's why John Boehner may have the most difficult job of any speaker in modern history.\"\n        ],\n        \"semantic_type\": \"\",\n        \"description\": \"\"\n      }\n    },\n    {\n      \"column\": \"label\",\n      \"properties\": {\n        \"dtype\": \"category\",\n        \"num_unique_values\": 2,\n        \"samples\": [\n          \"FAKE\",\n          \"REAL\"\n        ],\n        \"semantic_type\": \"\",\n        \"description\": \"\"\n      }\n    }\n  ]\n}"
            }
          },
          "metadata": {},
          "execution_count": 42
        }
      ],
      "source": [
        "#The head() method will load the first top 5 rows in our dataset for checking our dataset\n",
        "dataset.head()"
      ]
    },
    {
      "cell_type": "markdown",
      "metadata": {
        "id": "2HdZK2AGfqhf"
      },
      "source": [
        "***CHECKING THE SIZE OF THE DATASET AND NULL VALUES***"
      ]
    },
    {
      "cell_type": "markdown",
      "metadata": {
        "id": "HcGyX4IwcJVu"
      },
      "source": [
        "It will first inspect the basic structure and contents of the dataset in question by identifying the number of the columns, the number of rows, and the overall number of words. The first line imports Pandas, which is simply needed for working with tabular data. The third line of code calculates and prints the number of rows and columns in the dataset through use of the shape attribute to give an overview of its size. The process goes through all the text columns' length, as it sums up the words in each entry and provides information on the further amount of text data in the dataset. It's good to be in the know, especially when working with text-based datasets."
      ]
    },
    {
      "cell_type": "markdown",
      "metadata": {
        "id": "vKrDFNY4hY2M"
      },
      "source": [
        "Then it is further done by iterating over all text columns, counting the number of words in an entry, and summing up these counts to get a feeling for the amount of available text data. The method isnull().sum() has been used to find and count null values. This has also been used in getting the count of missing entries in each column and adding them up to arrive at the total null values in the dataset. This is useful in analyzing the completeness of the dataset and the volume of the text data, a step important for efficient cleaning and preparation of the data.\n"
      ]
    },
    {
      "cell_type": "code",
      "execution_count": null,
      "metadata": {
        "colab": {
          "base_uri": "https://localhost:8080/"
        },
        "id": "DPIpw0QBboZo",
        "outputId": "41e3bfc1-f96e-477c-9ff1-912f529a4b70"
      },
      "outputs": [
        {
          "output_type": "stream",
          "name": "stdout",
          "text": [
            "Number of columns: 4\n",
            "Number of rows: 6335\n",
            "Total number of words in the dataset: 4990695\n",
            "\n",
            "Number of null values in each column:\n",
            "Unnamed: 0    0\n",
            "title         0\n",
            "text          0\n",
            "label         0\n",
            "dtype: int64\n",
            "\n",
            "Total number of null values in the dataset: 0\n"
          ]
        }
      ],
      "source": [
        "# Number of columns\n",
        "num_columns = dataset.shape[1]\n",
        "print(f\"Number of columns: {num_columns}\")\n",
        "\n",
        "# Number of rows\n",
        "num_rows = dataset.shape[0]\n",
        "print(f\"Number of rows: {num_rows}\")\n",
        "\n",
        "# Count the total number of words in the dataset (assuming text data is present)\n",
        "word_count = 0\n",
        "for col in dataset.select_dtypes(include=[object]):  # Only consider object (string) columns\n",
        "    word_count += dataset[col].apply(lambda x: len(str(x).split())).sum()\n",
        "\n",
        "print(f\"Total number of words in the dataset: {word_count}\")\n",
        "\n",
        "# Count the number of null values in each column\n",
        "null_values_per_column = dataset.isnull().sum()\n",
        "print(\"\\nNumber of null values in each column:\")\n",
        "print(null_values_per_column)\n",
        "\n",
        "# Count the total number of null values in the dataset\n",
        "total_null_values = null_values_per_column.sum()\n",
        "print(f\"\\nTotal number of null values in the dataset: {total_null_values}\")\n"
      ]
    },
    {
      "cell_type": "markdown",
      "source": [
        "**DATASET NOISE**\n",
        "\n",
        "The noise  found in this dataset include unwanted punctuation, misplaced quotation marks, dashes, and other extraneous items like the e-mail addresses \"undergroundreporter2016@gmail.com\" and URLs \"https://t.co/VyTT49YvoE pic.twitter.com/wCvSCg4a5I\" are present in this dataset.\n",
        "\n",
        "Some of the noises like special characters like ®, ©, or ™ do not convey any type of information. Formatting errors may also result in such problems and may consist of incorrect capitalization or too much white space in the form of tabs, extra spaces, or a number of new lines. These may be some of the elements that make it really hard to comprehend and analyze data; thus, data cleaning and standardization are very important to enhance its quality.\n"
      ],
      "metadata": {
        "id": "X7doz1FqBbul"
      }
    },
    {
      "cell_type": "markdown",
      "metadata": {
        "id": "4YDD2UTtiVV6"
      },
      "source": [
        "# Pipeline\n",
        "# ----------------------------------------------\n",
        "## 1. Lowercasing\n",
        "## 2. Special Character Removal\n",
        "## 3. Stopword Removal\n",
        "## 4. Tokenization"
      ]
    },
    {
      "cell_type": "markdown",
      "metadata": {
        "id": "qdUlMsTki4OD"
      },
      "source": [
        "# Lowercasing"
      ]
    },
    {
      "cell_type": "markdown",
      "metadata": {
        "id": "wZ4ylhHlnGPv"
      },
      "source": [
        "Lowercasing is another prominent text preprocessing method that ensures all characters in a document are in lowercase. This might provide consistency and treat variations such as the word \"The\" and \"the\" as one and the same thing. This simplifies the data with a reduced count of unique tokens, thus improving the efficiency of text analysis algorithms and machine learning models by ensuring that they are concerned with the content rather than the case.\n",
        "\n",
        "---\n",
        "\n",
        "\n"
      ]
    },
    {
      "cell_type": "markdown",
      "metadata": {
        "id": "H7aq5pn0jNSa"
      },
      "source": [
        "This code snippet is used for single-case testing to ensure that some entry in a dataset has the correct content and format. The code will choose the first value from DataFrame's column 'text' and assign it to the variable test_case. Afterward, it will print this entry in the console. This procedure will help in checking and validating each data point to ensure that the data is as it should be, finding problems that there may be with specific records. The focus on just one case will enable you to conduct specific tests and make sure data is loaded and structured correctly.\n"
      ]
    },
    {
      "cell_type": "code",
      "execution_count": null,
      "metadata": {
        "colab": {
          "base_uri": "https://localhost:8080/"
        },
        "id": "g1feOabYjOIo",
        "outputId": "5c402b05-998d-49e7-b956-c1df6765546f"
      },
      "outputs": [
        {
          "output_type": "stream",
          "name": "stdout",
          "text": [
            "Donald Trump endorsed an unabashedly noninterventionist approach to world affairs Monday during a day-long tour of Washington, casting doubt on the need for the North Atlantic Treaty Organization and expressing skepticism about a muscular U.S. military presence in Asia.\n",
            "\n",
            "The foreign policy positions — outlined in a meeting with the editorial board of The Washington Post — came on a day when Trump set aside the guerrilla tactics and showman bravado that have powered his campaign to appear as a would-be presidential nominee, explaining his policies, accepting counsel and building bridges to Republican elites.\n",
            "\n",
            "On Monday night, Trump delivered a scripted address in front of the American Israel Public Affairs Committee, prompting ovations with pledges to stand by Israel and take a hard line on peace talks with the Palestinians.\n",
            "\n",
            "Trump’s whirlwind day of appearances around the nation’s capital was intended in part to head off an establishment push to deny him the Republican Party’s nomination. But in the Post meeting, the billionaire mogul also made clear that he would not be beholden to the GOP’s long-held orthodoxies.\n",
            "\n",
            "During the hour-long discussion, during which he revealed five of his foreign policy advisers, Trump advocated a light footprint in the world. In spite of unrest in the Middle East and elsewhere, he said, the United States must look inward and steer its resources toward rebuilding the nation’s crumbling infrastructure.\n",
            "\n",
            "“At what point do you say, ‘Hey, we have to take care of ourselves?’ ” Trump said in the editorial board meeting. “I know the outer world exists, and I’ll be very cognizant of that. But at the same time, our country is disintegrating, large sections of it, especially the inner cities.”\n",
            "\n",
            "Trump said U.S. involvement in NATO may need to be significantly diminished in the coming years, breaking with nearly seven decades of consensus in Washington. “We certainly can’t afford to do this anymore,” he said, adding later, “NATO is costing us a fortune, and yes, we’re protecting Europe with NATO, but we’re spending a lot of money.”\n",
            "\n",
            "[A transcript of Donald Trump’s meeting with The Washington Post editorial board]\n",
            "\n",
            "Throughout his unlikely campaign, Trump’s unpredictable, incendiary persona has been his rocket fuel. But with the nomination now within his reach, he is trying at times to round out his sharp edges to convince his party’s leaders — not to mention general-election voters — that he has the temperament and knowledge to be president.\n",
            "\n",
            "This was one of Trump’s goals as he addressed AIPAC’s annual conference in Washington. For perhaps the first time in his campaign, Trump read from a prepared text on teleprompters — a device he has colorfully mocked other politicians for using.\n",
            "\n",
            "On Israel, Trump mostly hewed to the party line, giving a full-throated defense of the nation and its interests and arguing that no candidate is a more forceful champion of the Jewish state. His eyes pinging back and forth between the teleprompter screens, Trump embellished his prepared text only to deliver a few criticisms of President Obama and his first-term secretary of state, Hillary Clinton, the Democratic presidential front-runner.\n",
            "\n",
            "“When I become president, the days of treating Israel like a second-class citizen will end on Day One,” Trump vowed. He received enthusiastic applause from the crowd of thousands, and the much-rumored walkouts during his speech were either called off or went unnoticed in the cavernous Verizon Center arena.\n",
            "\n",
            "Earlier Monday, Trump sought to cultivate ties with his party’s establishment at a private luncheon he hosted on Capitol Hill. It was attended by about two dozen Republicans, including influential conservatives in Congress and prominent figures from GOP policy and lobbying circles.\n",
            "\n",
            "Those with whom he met directly urged Trump to “be more presidential,” according to one attendee. This person, who like others spoke on the condition of anonymity to relate details of the closed session, described it as “a very serious conversation,” adding: “This was the Donald Trump who talks with bankers, not the Donald Trump who is on the stage.”\n",
            "\n",
            "Trump also sought to showcase his business acumen and dealmaking prowess. He staged an afternoon news conference at the historic Old Post Office Pavilion, which his real estate company is turning into a Trump International Hotel, a few blocks from the White House on Pennsylvania Avenue. The candidate, flanked by employees wearing hard hats, led journalists on a tour of the construction zone.\n",
            "\n",
            "Trump’s visit to Washington comes amid an intensified effort by some in the Republican establishment, including 2012 presidential nominee Mitt Romney, to deny him the nomination by forcing a contested convention at which the party could rally around an alternative.\n",
            "\n",
            "At his luncheon meeting, Trump warned party leaders against using parliamentary maneuvers to block his nomination. He later told reporters that he had a productive conversation recently with House Speaker Paul D. Ryan (R-Wis.) and that he has “many millions of people behind me.”\n",
            "\n",
            "“Now, they can play games, and they can play cute,” Trump said of Ryan and other GOP leaders. “I can only take [Ryan] at face value. I understand duplicity. I understand a lot of things. But he called me last week, he could not have been nicer. I spoke with Mitch McConnell, he could not have been nicer. If people want to be smart, they should embrace this movement.”\n",
            "\n",
            "Neither Ryan nor McConnell (R-Ky.), the Senate majority leader, attended Monday’s meeting with Trump. It was held at Jones Day, the law firm of Donald F. McGahn, a Trump campaign attorney, and was convened in part by Sen. Jeff Sessions (R-Ala.), a key Trump ally.\n",
            "\n",
            "Attendees included Heritage Foundation President Jim De­Mint, a former senator from South Carolina and a conservative movement leader, as well as Sen. Tom Cotton (R-Ark.), former House speaker Newt Gingrich (R-Ga.) and former House Appropriations Committee chairman Bob Livingston (R-La.). A group of House members who have endorsed Trump also attended.\n",
            "\n",
            "“We met with Senator Sessions and some of the great people in Washington,” Trump said. “We had a really good meeting. . . . They can’t believe how far we’ve come because, you know, I think a lot of people maybe wouldn’t have predicted that.”\n",
            "\n",
            "Trump began the day at The Post, where his on-the-record meeting with the editorial board covered media libel laws, violence at his rallies and climate change, as well as foreign policy.\n",
            "\n",
            "For the first time, Trump listed members of a team chaired by Sessions that is counseling him on foreign affairs and helping to shape his policies: Keith Kellogg, Carter Page, George Papadopoulos, Walid Phares and Joseph E. Schmitz. All are relatively little known in foreign policy circles, and several have ties to the George W. Bush administration.\n",
            "\n",
            "Trump praised George P. Shultz, who served as President Ronald Reagan’s secretary of state, as a model diplomat and, on the subject of Russia’s aggression in Ukraine, said America’s allies are “not doing anything.”\n",
            "\n",
            "“Ukraine is a country that affects us far less than it affects other countries in NATO, and yet we’re doing all of the lifting,” Trump said. “They’re not doing anything. And I say: ‘Why is it that Germany’s not dealing with NATO on Ukraine? . . . Why are we always the one that’s leading, potentially, the third world war with Russia?’ ”\n",
            "\n",
            "While the Obama administration has faced pressure from congressional critics who have advocated for a more active U.S. role in supporting Ukraine, the U.S. military has limited its assistance to nonlethal equipment such as vehicles and night-vision gear. European nations have taken the lead in crafting a fragile cease-fire designed to decrease hostility between Ukrainian forces and Russian-backed separatists.\n",
            "\n",
            "Trump sounded a similar note in discussing the U.S. presence in the Pacific. He questioned the value of massive military investments in Asia and wondered aloud whether the United States still is capable of being an effective peacekeeping force there.\n",
            "\n",
            "“South Korea is very rich, great industrial country, and yet we’re not reimbursed fairly for what we do,” Trump said. “We’re constantly sending our ships, sending our planes, doing our war games — we’re reimbursed a fraction of what this is all costing.”\n",
            "\n",
            "Such talk is likely to trigger anxiety in South Korea, where a U.S. force of 28,000 has provided a strong deterrent to North Korean threats for decades.\n",
            "\n",
            "Asked whether the United States benefits from its involvement in Asia, Trump replied, “Personally, I don’t think so.” He added: “I think we were a very powerful, very wealthy country. And we’re a poor country now. We’re a debtor nation.”\n",
            "\n",
            "Jenna Johnson, Paul Kane, Missy Ryan and David Weigel contributed to this report.\n"
          ]
        }
      ],
      "source": [
        "#Single Case Testing for checking the case of the text\n",
        "test_case = dataset['text'][0]\n",
        "print(test_case)"
      ]
    },
    {
      "cell_type": "markdown",
      "metadata": {
        "id": "lIEt-eQQl3Jy"
      },
      "source": [
        "This code snippet standardizes text data for consistency and comparability. The lower() method was applied to modify the test_case variable contents to lower case before its result is printed. The code will convert all text into lower case, ensuring that any subsequent operations or tests done on the data are not muddled by case. This shall be particularly useful in any text processing work requiring uniformity."
      ]
    },
    {
      "cell_type": "code",
      "execution_count": null,
      "metadata": {
        "colab": {
          "base_uri": "https://localhost:8080/"
        },
        "id": "eYLhjuPfl_as",
        "outputId": "ec80429d-ddfa-4172-b6d6-e2a5d59f7853"
      },
      "outputs": [
        {
          "output_type": "stream",
          "name": "stdout",
          "text": [
            "donald trump endorsed an unabashedly noninterventionist approach to world affairs monday during a day-long tour of washington, casting doubt on the need for the north atlantic treaty organization and expressing skepticism about a muscular u.s. military presence in asia.\n",
            "\n",
            "the foreign policy positions — outlined in a meeting with the editorial board of the washington post — came on a day when trump set aside the guerrilla tactics and showman bravado that have powered his campaign to appear as a would-be presidential nominee, explaining his policies, accepting counsel and building bridges to republican elites.\n",
            "\n",
            "on monday night, trump delivered a scripted address in front of the american israel public affairs committee, prompting ovations with pledges to stand by israel and take a hard line on peace talks with the palestinians.\n",
            "\n",
            "trump’s whirlwind day of appearances around the nation’s capital was intended in part to head off an establishment push to deny him the republican party’s nomination. but in the post meeting, the billionaire mogul also made clear that he would not be beholden to the gop’s long-held orthodoxies.\n",
            "\n",
            "during the hour-long discussion, during which he revealed five of his foreign policy advisers, trump advocated a light footprint in the world. in spite of unrest in the middle east and elsewhere, he said, the united states must look inward and steer its resources toward rebuilding the nation’s crumbling infrastructure.\n",
            "\n",
            "“at what point do you say, ‘hey, we have to take care of ourselves?’ ” trump said in the editorial board meeting. “i know the outer world exists, and i’ll be very cognizant of that. but at the same time, our country is disintegrating, large sections of it, especially the inner cities.”\n",
            "\n",
            "trump said u.s. involvement in nato may need to be significantly diminished in the coming years, breaking with nearly seven decades of consensus in washington. “we certainly can’t afford to do this anymore,” he said, adding later, “nato is costing us a fortune, and yes, we’re protecting europe with nato, but we’re spending a lot of money.”\n",
            "\n",
            "[a transcript of donald trump’s meeting with the washington post editorial board]\n",
            "\n",
            "throughout his unlikely campaign, trump’s unpredictable, incendiary persona has been his rocket fuel. but with the nomination now within his reach, he is trying at times to round out his sharp edges to convince his party’s leaders — not to mention general-election voters — that he has the temperament and knowledge to be president.\n",
            "\n",
            "this was one of trump’s goals as he addressed aipac’s annual conference in washington. for perhaps the first time in his campaign, trump read from a prepared text on teleprompters — a device he has colorfully mocked other politicians for using.\n",
            "\n",
            "on israel, trump mostly hewed to the party line, giving a full-throated defense of the nation and its interests and arguing that no candidate is a more forceful champion of the jewish state. his eyes pinging back and forth between the teleprompter screens, trump embellished his prepared text only to deliver a few criticisms of president obama and his first-term secretary of state, hillary clinton, the democratic presidential front-runner.\n",
            "\n",
            "“when i become president, the days of treating israel like a second-class citizen will end on day one,” trump vowed. he received enthusiastic applause from the crowd of thousands, and the much-rumored walkouts during his speech were either called off or went unnoticed in the cavernous verizon center arena.\n",
            "\n",
            "earlier monday, trump sought to cultivate ties with his party’s establishment at a private luncheon he hosted on capitol hill. it was attended by about two dozen republicans, including influential conservatives in congress and prominent figures from gop policy and lobbying circles.\n",
            "\n",
            "those with whom he met directly urged trump to “be more presidential,” according to one attendee. this person, who like others spoke on the condition of anonymity to relate details of the closed session, described it as “a very serious conversation,” adding: “this was the donald trump who talks with bankers, not the donald trump who is on the stage.”\n",
            "\n",
            "trump also sought to showcase his business acumen and dealmaking prowess. he staged an afternoon news conference at the historic old post office pavilion, which his real estate company is turning into a trump international hotel, a few blocks from the white house on pennsylvania avenue. the candidate, flanked by employees wearing hard hats, led journalists on a tour of the construction zone.\n",
            "\n",
            "trump’s visit to washington comes amid an intensified effort by some in the republican establishment, including 2012 presidential nominee mitt romney, to deny him the nomination by forcing a contested convention at which the party could rally around an alternative.\n",
            "\n",
            "at his luncheon meeting, trump warned party leaders against using parliamentary maneuvers to block his nomination. he later told reporters that he had a productive conversation recently with house speaker paul d. ryan (r-wis.) and that he has “many millions of people behind me.”\n",
            "\n",
            "“now, they can play games, and they can play cute,” trump said of ryan and other gop leaders. “i can only take [ryan] at face value. i understand duplicity. i understand a lot of things. but he called me last week, he could not have been nicer. i spoke with mitch mcconnell, he could not have been nicer. if people want to be smart, they should embrace this movement.”\n",
            "\n",
            "neither ryan nor mcconnell (r-ky.), the senate majority leader, attended monday’s meeting with trump. it was held at jones day, the law firm of donald f. mcgahn, a trump campaign attorney, and was convened in part by sen. jeff sessions (r-ala.), a key trump ally.\n",
            "\n",
            "attendees included heritage foundation president jim de­mint, a former senator from south carolina and a conservative movement leader, as well as sen. tom cotton (r-ark.), former house speaker newt gingrich (r-ga.) and former house appropriations committee chairman bob livingston (r-la.). a group of house members who have endorsed trump also attended.\n",
            "\n",
            "“we met with senator sessions and some of the great people in washington,” trump said. “we had a really good meeting. . . . they can’t believe how far we’ve come because, you know, i think a lot of people maybe wouldn’t have predicted that.”\n",
            "\n",
            "trump began the day at the post, where his on-the-record meeting with the editorial board covered media libel laws, violence at his rallies and climate change, as well as foreign policy.\n",
            "\n",
            "for the first time, trump listed members of a team chaired by sessions that is counseling him on foreign affairs and helping to shape his policies: keith kellogg, carter page, george papadopoulos, walid phares and joseph e. schmitz. all are relatively little known in foreign policy circles, and several have ties to the george w. bush administration.\n",
            "\n",
            "trump praised george p. shultz, who served as president ronald reagan’s secretary of state, as a model diplomat and, on the subject of russia’s aggression in ukraine, said america’s allies are “not doing anything.”\n",
            "\n",
            "“ukraine is a country that affects us far less than it affects other countries in nato, and yet we’re doing all of the lifting,” trump said. “they’re not doing anything. and i say: ‘why is it that germany’s not dealing with nato on ukraine? . . . why are we always the one that’s leading, potentially, the third world war with russia?’ ”\n",
            "\n",
            "while the obama administration has faced pressure from congressional critics who have advocated for a more active u.s. role in supporting ukraine, the u.s. military has limited its assistance to nonlethal equipment such as vehicles and night-vision gear. european nations have taken the lead in crafting a fragile cease-fire designed to decrease hostility between ukrainian forces and russian-backed separatists.\n",
            "\n",
            "trump sounded a similar note in discussing the u.s. presence in the pacific. he questioned the value of massive military investments in asia and wondered aloud whether the united states still is capable of being an effective peacekeeping force there.\n",
            "\n",
            "“south korea is very rich, great industrial country, and yet we’re not reimbursed fairly for what we do,” trump said. “we’re constantly sending our ships, sending our planes, doing our war games — we’re reimbursed a fraction of what this is all costing.”\n",
            "\n",
            "such talk is likely to trigger anxiety in south korea, where a u.s. force of 28,000 has provided a strong deterrent to north korean threats for decades.\n",
            "\n",
            "asked whether the united states benefits from its involvement in asia, trump replied, “personally, i don’t think so.” he added: “i think we were a very powerful, very wealthy country. and we’re a poor country now. we’re a debtor nation.”\n",
            "\n",
            "jenna johnson, paul kane, missy ryan and david weigel contributed to this report.\n"
          ]
        }
      ],
      "source": [
        "#Lowercasing the test_case variable for checking\n",
        "test_case = test_case.lower()\n",
        "print(test_case)"
      ]
    },
    {
      "cell_type": "markdown",
      "metadata": {
        "id": "LceeKVhhm4YQ"
      },
      "source": [
        "This section of the code does text normalization to the whole column 'text' in DataFrame df. The apply method hits, along with the function lambda, changes all entries of column 'text' to lowercase, hence ensuring all text data is uniformly formatted. Afterwards, the head() will be used to show the first ten rows of the now-modified DataFrame. This step helps in preserving the consistency of the text data, which is very important for correct text analysis and comparisons, and for the capability to see at once the ways in which the data has changed.\n"
      ]
    },
    {
      "cell_type": "code",
      "execution_count": null,
      "metadata": {
        "id": "rzfEnedBmAVX",
        "colab": {
          "base_uri": "https://localhost:8080/"
        },
        "outputId": "9482589f-e625-4710-d7a1-7111f1f159b0"
      },
      "outputs": [
        {
          "output_type": "execute_result",
          "data": {
            "text/plain": [
              "   Unnamed: 0                                              title  \\\n",
              "0           0  A whirlwind day in D.C. showcases Trump’s unor...   \n",
              "1           1  In Baltimore's call for federal police probe, ...   \n",
              "2           2  Trump Proudly Declares: Most Of The People I’v...   \n",
              "3           3  Inside the Trump-Bush melodrama: Decades of te...   \n",
              "4           4      Shutdown clash to return in force by December   \n",
              "5           5           Can the great nuclear war be prevented ?   \n",
              "6           6  US charges 61 with India-based scam involving ...   \n",
              "7           7  Democratic debate 2015: Hillary Clinton and Be...   \n",
              "8           8  What DNC Donors REALLY think of African Americans   \n",
              "9           9  What happens to delegates won by Rubio, other ...   \n",
              "\n",
              "                                                text label  \n",
              "0  donald trump endorsed an unabashedly noninterv...  REAL  \n",
              "1  while some justice department investigations a...  REAL  \n",
              "2  trump proudly declares: most of the people i’v...  FAKE  \n",
              "3  donald trump spent a day in january 2014 hobno...  REAL  \n",
              "4  notable names include ray washburne (commerce)...  REAL  \n",
              "5  «current concerns», n°23, october 22th, 2016\\n...  FAKE  \n",
              "6  us charges 61 with india-based scam involving ...  FAKE  \n",
              "7  watch the first democratic presidential debate...  REAL  \n",
              "8  this video is really disturbing... \\nnot just ...  FAKE  \n",
              "9  with marco rubio dropping out of the republica...  REAL  "
            ],
            "text/html": [
              "\n",
              "  <div id=\"df-7435017d-ce41-4806-a0a6-b8d4ae708b0f\" class=\"colab-df-container\">\n",
              "    <div>\n",
              "<style scoped>\n",
              "    .dataframe tbody tr th:only-of-type {\n",
              "        vertical-align: middle;\n",
              "    }\n",
              "\n",
              "    .dataframe tbody tr th {\n",
              "        vertical-align: top;\n",
              "    }\n",
              "\n",
              "    .dataframe thead th {\n",
              "        text-align: right;\n",
              "    }\n",
              "</style>\n",
              "<table border=\"1\" class=\"dataframe\">\n",
              "  <thead>\n",
              "    <tr style=\"text-align: right;\">\n",
              "      <th></th>\n",
              "      <th>Unnamed: 0</th>\n",
              "      <th>title</th>\n",
              "      <th>text</th>\n",
              "      <th>label</th>\n",
              "    </tr>\n",
              "  </thead>\n",
              "  <tbody>\n",
              "    <tr>\n",
              "      <th>0</th>\n",
              "      <td>0</td>\n",
              "      <td>A whirlwind day in D.C. showcases Trump’s unor...</td>\n",
              "      <td>donald trump endorsed an unabashedly noninterv...</td>\n",
              "      <td>REAL</td>\n",
              "    </tr>\n",
              "    <tr>\n",
              "      <th>1</th>\n",
              "      <td>1</td>\n",
              "      <td>In Baltimore's call for federal police probe, ...</td>\n",
              "      <td>while some justice department investigations a...</td>\n",
              "      <td>REAL</td>\n",
              "    </tr>\n",
              "    <tr>\n",
              "      <th>2</th>\n",
              "      <td>2</td>\n",
              "      <td>Trump Proudly Declares: Most Of The People I’v...</td>\n",
              "      <td>trump proudly declares: most of the people i’v...</td>\n",
              "      <td>FAKE</td>\n",
              "    </tr>\n",
              "    <tr>\n",
              "      <th>3</th>\n",
              "      <td>3</td>\n",
              "      <td>Inside the Trump-Bush melodrama: Decades of te...</td>\n",
              "      <td>donald trump spent a day in january 2014 hobno...</td>\n",
              "      <td>REAL</td>\n",
              "    </tr>\n",
              "    <tr>\n",
              "      <th>4</th>\n",
              "      <td>4</td>\n",
              "      <td>Shutdown clash to return in force by December</td>\n",
              "      <td>notable names include ray washburne (commerce)...</td>\n",
              "      <td>REAL</td>\n",
              "    </tr>\n",
              "    <tr>\n",
              "      <th>5</th>\n",
              "      <td>5</td>\n",
              "      <td>Can the great nuclear war be prevented ?</td>\n",
              "      <td>«current concerns», n°23, october 22th, 2016\\n...</td>\n",
              "      <td>FAKE</td>\n",
              "    </tr>\n",
              "    <tr>\n",
              "      <th>6</th>\n",
              "      <td>6</td>\n",
              "      <td>US charges 61 with India-based scam involving ...</td>\n",
              "      <td>us charges 61 with india-based scam involving ...</td>\n",
              "      <td>FAKE</td>\n",
              "    </tr>\n",
              "    <tr>\n",
              "      <th>7</th>\n",
              "      <td>7</td>\n",
              "      <td>Democratic debate 2015: Hillary Clinton and Be...</td>\n",
              "      <td>watch the first democratic presidential debate...</td>\n",
              "      <td>REAL</td>\n",
              "    </tr>\n",
              "    <tr>\n",
              "      <th>8</th>\n",
              "      <td>8</td>\n",
              "      <td>What DNC Donors REALLY think of African Americans</td>\n",
              "      <td>this video is really disturbing... \\nnot just ...</td>\n",
              "      <td>FAKE</td>\n",
              "    </tr>\n",
              "    <tr>\n",
              "      <th>9</th>\n",
              "      <td>9</td>\n",
              "      <td>What happens to delegates won by Rubio, other ...</td>\n",
              "      <td>with marco rubio dropping out of the republica...</td>\n",
              "      <td>REAL</td>\n",
              "    </tr>\n",
              "  </tbody>\n",
              "</table>\n",
              "</div>\n",
              "    <div class=\"colab-df-buttons\">\n",
              "\n",
              "  <div class=\"colab-df-container\">\n",
              "    <button class=\"colab-df-convert\" onclick=\"convertToInteractive('df-7435017d-ce41-4806-a0a6-b8d4ae708b0f')\"\n",
              "            title=\"Convert this dataframe to an interactive table.\"\n",
              "            style=\"display:none;\">\n",
              "\n",
              "  <svg xmlns=\"http://www.w3.org/2000/svg\" height=\"24px\" viewBox=\"0 -960 960 960\">\n",
              "    <path d=\"M120-120v-720h720v720H120Zm60-500h600v-160H180v160Zm220 220h160v-160H400v160Zm0 220h160v-160H400v160ZM180-400h160v-160H180v160Zm440 0h160v-160H620v160ZM180-180h160v-160H180v160Zm440 0h160v-160H620v160Z\"/>\n",
              "  </svg>\n",
              "    </button>\n",
              "\n",
              "  <style>\n",
              "    .colab-df-container {\n",
              "      display:flex;\n",
              "      gap: 12px;\n",
              "    }\n",
              "\n",
              "    .colab-df-convert {\n",
              "      background-color: #E8F0FE;\n",
              "      border: none;\n",
              "      border-radius: 50%;\n",
              "      cursor: pointer;\n",
              "      display: none;\n",
              "      fill: #1967D2;\n",
              "      height: 32px;\n",
              "      padding: 0 0 0 0;\n",
              "      width: 32px;\n",
              "    }\n",
              "\n",
              "    .colab-df-convert:hover {\n",
              "      background-color: #E2EBFA;\n",
              "      box-shadow: 0px 1px 2px rgba(60, 64, 67, 0.3), 0px 1px 3px 1px rgba(60, 64, 67, 0.15);\n",
              "      fill: #174EA6;\n",
              "    }\n",
              "\n",
              "    .colab-df-buttons div {\n",
              "      margin-bottom: 4px;\n",
              "    }\n",
              "\n",
              "    [theme=dark] .colab-df-convert {\n",
              "      background-color: #3B4455;\n",
              "      fill: #D2E3FC;\n",
              "    }\n",
              "\n",
              "    [theme=dark] .colab-df-convert:hover {\n",
              "      background-color: #434B5C;\n",
              "      box-shadow: 0px 1px 3px 1px rgba(0, 0, 0, 0.15);\n",
              "      filter: drop-shadow(0px 1px 2px rgba(0, 0, 0, 0.3));\n",
              "      fill: #FFFFFF;\n",
              "    }\n",
              "  </style>\n",
              "\n",
              "    <script>\n",
              "      const buttonEl =\n",
              "        document.querySelector('#df-7435017d-ce41-4806-a0a6-b8d4ae708b0f button.colab-df-convert');\n",
              "      buttonEl.style.display =\n",
              "        google.colab.kernel.accessAllowed ? 'block' : 'none';\n",
              "\n",
              "      async function convertToInteractive(key) {\n",
              "        const element = document.querySelector('#df-7435017d-ce41-4806-a0a6-b8d4ae708b0f');\n",
              "        const dataTable =\n",
              "          await google.colab.kernel.invokeFunction('convertToInteractive',\n",
              "                                                    [key], {});\n",
              "        if (!dataTable) return;\n",
              "\n",
              "        const docLinkHtml = 'Like what you see? Visit the ' +\n",
              "          '<a target=\"_blank\" href=https://colab.research.google.com/notebooks/data_table.ipynb>data table notebook</a>'\n",
              "          + ' to learn more about interactive tables.';\n",
              "        element.innerHTML = '';\n",
              "        dataTable['output_type'] = 'display_data';\n",
              "        await google.colab.output.renderOutput(dataTable, element);\n",
              "        const docLink = document.createElement('div');\n",
              "        docLink.innerHTML = docLinkHtml;\n",
              "        element.appendChild(docLink);\n",
              "      }\n",
              "    </script>\n",
              "  </div>\n",
              "\n",
              "\n",
              "<div id=\"df-9c7f3375-dc0e-4c34-8bac-6e64ec8189fc\">\n",
              "  <button class=\"colab-df-quickchart\" onclick=\"quickchart('df-9c7f3375-dc0e-4c34-8bac-6e64ec8189fc')\"\n",
              "            title=\"Suggest charts\"\n",
              "            style=\"display:none;\">\n",
              "\n",
              "<svg xmlns=\"http://www.w3.org/2000/svg\" height=\"24px\"viewBox=\"0 0 24 24\"\n",
              "     width=\"24px\">\n",
              "    <g>\n",
              "        <path d=\"M19 3H5c-1.1 0-2 .9-2 2v14c0 1.1.9 2 2 2h14c1.1 0 2-.9 2-2V5c0-1.1-.9-2-2-2zM9 17H7v-7h2v7zm4 0h-2V7h2v10zm4 0h-2v-4h2v4z\"/>\n",
              "    </g>\n",
              "</svg>\n",
              "  </button>\n",
              "\n",
              "<style>\n",
              "  .colab-df-quickchart {\n",
              "      --bg-color: #E8F0FE;\n",
              "      --fill-color: #1967D2;\n",
              "      --hover-bg-color: #E2EBFA;\n",
              "      --hover-fill-color: #174EA6;\n",
              "      --disabled-fill-color: #AAA;\n",
              "      --disabled-bg-color: #DDD;\n",
              "  }\n",
              "\n",
              "  [theme=dark] .colab-df-quickchart {\n",
              "      --bg-color: #3B4455;\n",
              "      --fill-color: #D2E3FC;\n",
              "      --hover-bg-color: #434B5C;\n",
              "      --hover-fill-color: #FFFFFF;\n",
              "      --disabled-bg-color: #3B4455;\n",
              "      --disabled-fill-color: #666;\n",
              "  }\n",
              "\n",
              "  .colab-df-quickchart {\n",
              "    background-color: var(--bg-color);\n",
              "    border: none;\n",
              "    border-radius: 50%;\n",
              "    cursor: pointer;\n",
              "    display: none;\n",
              "    fill: var(--fill-color);\n",
              "    height: 32px;\n",
              "    padding: 0;\n",
              "    width: 32px;\n",
              "  }\n",
              "\n",
              "  .colab-df-quickchart:hover {\n",
              "    background-color: var(--hover-bg-color);\n",
              "    box-shadow: 0 1px 2px rgba(60, 64, 67, 0.3), 0 1px 3px 1px rgba(60, 64, 67, 0.15);\n",
              "    fill: var(--button-hover-fill-color);\n",
              "  }\n",
              "\n",
              "  .colab-df-quickchart-complete:disabled,\n",
              "  .colab-df-quickchart-complete:disabled:hover {\n",
              "    background-color: var(--disabled-bg-color);\n",
              "    fill: var(--disabled-fill-color);\n",
              "    box-shadow: none;\n",
              "  }\n",
              "\n",
              "  .colab-df-spinner {\n",
              "    border: 2px solid var(--fill-color);\n",
              "    border-color: transparent;\n",
              "    border-bottom-color: var(--fill-color);\n",
              "    animation:\n",
              "      spin 1s steps(1) infinite;\n",
              "  }\n",
              "\n",
              "  @keyframes spin {\n",
              "    0% {\n",
              "      border-color: transparent;\n",
              "      border-bottom-color: var(--fill-color);\n",
              "      border-left-color: var(--fill-color);\n",
              "    }\n",
              "    20% {\n",
              "      border-color: transparent;\n",
              "      border-left-color: var(--fill-color);\n",
              "      border-top-color: var(--fill-color);\n",
              "    }\n",
              "    30% {\n",
              "      border-color: transparent;\n",
              "      border-left-color: var(--fill-color);\n",
              "      border-top-color: var(--fill-color);\n",
              "      border-right-color: var(--fill-color);\n",
              "    }\n",
              "    40% {\n",
              "      border-color: transparent;\n",
              "      border-right-color: var(--fill-color);\n",
              "      border-top-color: var(--fill-color);\n",
              "    }\n",
              "    60% {\n",
              "      border-color: transparent;\n",
              "      border-right-color: var(--fill-color);\n",
              "    }\n",
              "    80% {\n",
              "      border-color: transparent;\n",
              "      border-right-color: var(--fill-color);\n",
              "      border-bottom-color: var(--fill-color);\n",
              "    }\n",
              "    90% {\n",
              "      border-color: transparent;\n",
              "      border-bottom-color: var(--fill-color);\n",
              "    }\n",
              "  }\n",
              "</style>\n",
              "\n",
              "  <script>\n",
              "    async function quickchart(key) {\n",
              "      const quickchartButtonEl =\n",
              "        document.querySelector('#' + key + ' button');\n",
              "      quickchartButtonEl.disabled = true;  // To prevent multiple clicks.\n",
              "      quickchartButtonEl.classList.add('colab-df-spinner');\n",
              "      try {\n",
              "        const charts = await google.colab.kernel.invokeFunction(\n",
              "            'suggestCharts', [key], {});\n",
              "      } catch (error) {\n",
              "        console.error('Error during call to suggestCharts:', error);\n",
              "      }\n",
              "      quickchartButtonEl.classList.remove('colab-df-spinner');\n",
              "      quickchartButtonEl.classList.add('colab-df-quickchart-complete');\n",
              "    }\n",
              "    (() => {\n",
              "      let quickchartButtonEl =\n",
              "        document.querySelector('#df-9c7f3375-dc0e-4c34-8bac-6e64ec8189fc button');\n",
              "      quickchartButtonEl.style.display =\n",
              "        google.colab.kernel.accessAllowed ? 'block' : 'none';\n",
              "    })();\n",
              "  </script>\n",
              "</div>\n",
              "\n",
              "    </div>\n",
              "  </div>\n"
            ],
            "application/vnd.google.colaboratory.intrinsic+json": {
              "type": "dataframe",
              "variable_name": "dataset",
              "summary": "{\n  \"name\": \"dataset\",\n  \"rows\": 6335,\n  \"fields\": [\n    {\n      \"column\": \"Unnamed: 0\",\n      \"properties\": {\n        \"dtype\": \"number\",\n        \"std\": 1828,\n        \"min\": 0,\n        \"max\": 6334,\n        \"num_unique_values\": 6335,\n        \"samples\": [\n          1357,\n          2080,\n          2718\n        ],\n        \"semantic_type\": \"\",\n        \"description\": \"\"\n      }\n    },\n    {\n      \"column\": \"title\",\n      \"properties\": {\n        \"dtype\": \"string\",\n        \"num_unique_values\": 6256,\n        \"samples\": [\n          \"New Wikileaks emails: Bernie is a Jerk, Megyn Kelly a Bimbo and More\",\n          \"Poll: Clinton's Lead Over Trump Slips After Florida Shooting\",\n          \"Obama\\u2019s trip to Ethiopia alarms some human rights activists\"\n        ],\n        \"semantic_type\": \"\",\n        \"description\": \"\"\n      }\n    },\n    {\n      \"column\": \"text\",\n      \"properties\": {\n        \"dtype\": \"string\",\n        \"num_unique_values\": 6060,\n        \"samples\": [\n          \"  \\nthe election was set up to be stolen from trump. that was the purpose of the polls rigged by overweighting hillary supporters in the samples. after weeks of hearing poll results that hillary was in the lead, the public would discount a theft claim. electronic voting makes elections easy to steal, and i have posted explanations by election fraud experts of how it is done. \\nclearly the oligarchy does not want donald trump in the white house as they are unsure that they could control him, and hillary is their agent. \\nwith the reopening of the fbi investigation of hillary and related scandals exploding all around her, election theft is not only more risky but also less likely to serve the oligarchy\\u2019s own interests. \\nimage as well as money is part of oligarchic power. the image of america takes a big hit if the american people elect a president who is currently under felony investigation. \\nmoreover, a president hillary would be under investigation for years. with so much spotlight on her, she would not be able to serve the oligarchy\\u2019s interests. she would be worthless to them, and, indeed, investigations that unearthed various connections between hillary and oligarchs could damage the oligarchs. \\nin other words, for the oligarchy hillary has moved from an asset to a liability. \\na hillary presidency could put our country into chaos. i doubt the oligarchs are sufficiently stupid to think that once she is sworn in, hillary can fire fbi director comey and shut down the investigation. the last president that tried that was richard nixon, and look where that got him. \\nmoreover, the republicans in the house and senate would not stand for it. house committee on oversight and government reform chairman jason chaffetz has already declared hillary to be \\u201ca target-rich environment. even before we get to day one, we\\u2019ve got two years worth of material already lined up.\\u201d house speaker paul ryan said investigation will follow the evidence. \\nif you were an oligarch, would you want your agent under this kind of scrutiny? if you were hillary, would you want to be under this kind of pressure? \\nwhat happens if the fbi recommends the indictment of the president? even insouciant americans would see the cover-up if the attorney general refused to prosecute the case. americans would lose all confidence in the government. chaos would rule. chaos can be revolutionary, and that is not good for oligarchs. \\nmoreover, if reports can be believed, salacious scandals appear to be waiting their time on stage. for example, last may fox news reported: \\n\\u201cformer president bill clinton was a much more frequent flyer on a registered sex offender\\u2019s infamous jet than previously reported, with flight logs showing the former president taking at least 26 trips aboard the \\u201clolita express\\u201d \\u2014 even apparently ditching his secret service detail for at least five of the flights, according to records obtained by foxnews.com. \\n\\u201cclinton\\u2019s presence aboard jeffrey epstein\\u2019s boeing 727 on 11 occasions has been reported, but flight logs show the number is more than double that, and trips between 2001 and 2003 included extended junkets around the world with epstein and fellow passengers identified on manifests by their initials or first names, including \\u201ctatiana.\\u201d the tricked-out jet earned its nabakov-inspired nickname because it was reportedly outfitted with a bed where passengers had group sex with young girls.\\u201d \\nfox news reports that epstein served time in prison for \\u201csolicitation and procurement of minors for prostitution. he allegedly had a team of traffickers who procured girls as young as 12 to service his friends on \\u2018orgy island,\\u2019 an estate on epstein\\u2019s 72-acre island, called little st. james, in the u.s. virgin islands.\\u201d http://www.foxnews.com/us/2016/05/13/flight-logs-show-bill-clinton-flew-on-sex-offenders-jet-much-more-than-previously-known.html some internet sites, the credibility of which is unknown to me, have linked hillary to these flights. http://truepundit.com/breaking-bombshell-nypd-blows-whistle-on-new-hillary-emails-money-laundering-sex-crimes-with-children-child-exploitation-pay-to-play-perjury/ \\nthis kind of behavior seems reckless even for bill and hillary, who are accustomed to getting away with everything. nevertheless, if you are an oligarch already worried about the reopened hillary email case and additional fbi investigations, such as the one into the clinton foundation, and concerned about what else might emerge from the 650,000 emails on former us rep. weiner\\u2019s computer and the nypd pedophile investigation, putting hillary in the oval office doesn\\u2019t look like a good decision. \\nat this point, i would think that the oligarchy would prefer to steal the election for trump, instead of from him, rather than allow insouciant americans to destroy america\\u2019s reputation by choosing a person under felony investigations for president of the united states. \\nbeing the \\u201cexceptional nation\\u201d takes on new meaning when there is a criminal at the helm. (reprinted from paulcraigroberts.org by permission of author or representative)\",\n          \"kentucky sen. rand paul is suspending his campaign for president after a disappointing finish in iowa, turning his focus now to his senate re-election bid.\\n\\n\\\"across the country thousands upon thousands of young people flocked to our message of limited government, privacy, criminal justice reform and a reasonable foreign policy. brushfires of liberty were ignited, and those will carry on, as will i,\\\" the republican said in a statement.\\n\\n\\\"although, today i will suspend my campaign for president, the fight is far from over,\\\" he continued. \\\"i will continue to carry the torch for liberty in the united states senate and i look forward to earning the privilege to represent the people of kentucky for another term.\\\"\\n\\nthe libertarian-leaning senator finished a distant fifth in the hawkeye state on monday evening, unable to replicate the strong coalition that his father, former texas rep. ron paul, had built there four years ago.\\n\\nhis prospects were similarly bleak both in national polling and in new hampshire, which is up next tuesday. left off the main debate stage last month for his poor standing in surveys (he instead boycotted the so-called undercard debate), paul faced being passed over again at saturday's gop debate.\\n\\nhis end-of-the-year campaign finance report showed a depleted bank account, too, with just $1.3 million remaining.\\n\\nand paul, unlike his rivals, had another campaign he was running simultaneously to worry about \\u2014 his senate re-election bid. though the first-term senator starts with the advantage in the gop-leaning state, he drew a strong democratic challenger last month in lexington mayor jim gray.\\n\\npaul had to jump through hoops just to be able to run for both senate and president at the same time. last year he persuaded the state party to hold a march caucus instead of a may primary so he could legally be on both ballots. that political insurance policy he won't need anymore was costly \\u2014 he had promised he would pay for the change, which could be upwards of $500,000.\",\n          \"on sunday during an appearance on \\\"face the nation\\\" on cbs, speaker john boehner (r-ohio) tried to downplay the differences between the gop leadership and the conservative rank and file in the house.\\n\\n\\\"we do have some members who disagree, from time to time, over the tactics that we decide to employ,\\\" boehner said at one point. \\\"we get in an argument over tactics from time to time,\\\" \\u00a0he said at another. \\\"the goals are all the same.\\\"\\u00a0that line was echoed by house majority whip kevin mccarthy (r-calif.) during an interview with chuck todd on nbc's \\\"meet the press.\\\"\\u00a0\\\"we have a difference of opinion in strategy and tactics, but in principle we are united,\\\" mccarthy said.\\n\\nthose statements are only half true.\\n\\nthe true part is that boehner, mccarthy and the rest of the house gop leadership team do have a broad strategy and a series of tactics they try to employ to both accomplish their legislative goals and pressure president obama. whether that's \\\"plan b,\\\" boehner's attempt to avert the fiscal cliff while simultaneously forcing obama's hand, or the latest attempt to extend funding for the department of homeland security for three weeks, boehner, mccarthy and the rest have a strategy behind most of these big legislative fights. (the lack of a back-up plan, on the other hand, is a little odd.)\\n\\nthe untrue part is that the rump republican resistance \\u2014\\u00a0led by a handful of tea party-aligned conservatives \\u2014\\u00a0has its own alternative strategy or even tactics. think back to the vote for speaker earlier in this congress. \\u00a0the establishment had a plan to get boehner reelected to the house's top job. the resistance? not so much. they nominated three alternatives to boehner \\u2014\\u00a0dan webster of florida, ted yoho of florida and louie gohmert of texas \\u2014\\u00a0ensuring that the anti-boehner vote was splintered. what did that reveal? that even in making a purely protest vote, there wasn't a whole heck of a lot strategy going on in the not-boehner crowd.\\n\\nfast forward to friday's vote on the three-week extension backed by boehner. yes, the conservative coalition in the house was absolutely the key to killing that measure. but to what end? what is the broader strategy of voting that extension down? the answer that group will give you is to tie the repeal of obama's immigration executive orders to funding dhs. but that is never going to happen. even if senate democrats allowed a vote on such a joined package and it passed, which wouldn't happen, obama would veto it without a second thought. and we would be right back where we started.\\n\\nthis is a classic letting-the-perfect-get-in-the-way-of-the-good approach. it is neither a strategy nor a tactic to say \\\"we will get everything we want or there will be no deal.\\\" saying \\\"no\\\" isn't a strategy. jeb bush addressed that reality during his question-and-answer session at cpac last week. \\\"it's good to oppose bad things,\\\" bush said. \\\"we need to start being for things.\\\"\\n\\nthat's what boehner \\u2014\\u00a0and senate majority leader mitch mcconnell (r-ky.) \\u2014\\u00a0have been saying for quite some time. the problem for boehner and, to a lesser extent, mcconnell, is that they are not dealing with a group of members who see the world as they do. while boehner et al are trying to draw up a broad strategy of how to approach the final two years of obama's presidency, the resisters in the house are taking it issue by issue \\u2014\\u00a0and always standing on ideological ground to oppose obama.\\n\\nopposition without a plan of what to do next is neither a tactic nor a strategy. that's why john boehner may have the most difficult job of any speaker in modern history.\"\n        ],\n        \"semantic_type\": \"\",\n        \"description\": \"\"\n      }\n    },\n    {\n      \"column\": \"label\",\n      \"properties\": {\n        \"dtype\": \"category\",\n        \"num_unique_values\": 2,\n        \"samples\": [\n          \"FAKE\",\n          \"REAL\"\n        ],\n        \"semantic_type\": \"\",\n        \"description\": \"\"\n      }\n    }\n  ]\n}"
            }
          },
          "metadata": {},
          "execution_count": 46
        }
      ],
      "source": [
        "#applying it to the dataset\n",
        "dataset['text'] = dataset['text'].apply(lambda x: str(x).lower())\n",
        "#checking for first 10 instances\n",
        "dataset.head(10)"
      ]
    },
    {
      "cell_type": "markdown",
      "metadata": {
        "id": "V__xD70WnA43"
      },
      "source": [
        "\n",
        "# Special Character Removal"
      ]
    },
    {
      "cell_type": "markdown",
      "metadata": {
        "id": "guC4aA-AnD_t"
      },
      "source": [
        "A text preparation technique through which non-alphabet characters are removed includes characters like &, @, #, %, and $. This technique makes the data clean and consistent through concentration on the material in the documents and, respectively, enhances the quality in text analytics and machine learning models through the removal of irrelevant symbols that might intervene with the outcome.\n",
        "\n",
        "---\n",
        "\n"
      ]
    },
    {
      "cell_type": "markdown",
      "metadata": {
        "id": "-m8yzU7kn7Y9"
      },
      "source": [
        "The following single-case testing code identifies and inspects special characters in any entry of the data entry. This will extract the first entry from the column 'text' in the DataFrame, to be stored in the variable test_case, then it will print the entry on the console. In this way, you can check the text for special characters or anomalies, guaranteeing data integrity and cleanliness before further processing or analysis.\n"
      ]
    },
    {
      "cell_type": "code",
      "execution_count": null,
      "metadata": {
        "id": "02tFv5n1n7oW",
        "colab": {
          "base_uri": "https://localhost:8080/"
        },
        "outputId": "d51703f1-12a1-4bbc-cf99-8c600bd71d45"
      },
      "outputs": [
        {
          "output_type": "stream",
          "name": "stdout",
          "text": [
            "donald trump endorsed an unabashedly noninterventionist approach to world affairs monday during a day-long tour of washington, casting doubt on the need for the north atlantic treaty organization and expressing skepticism about a muscular u.s. military presence in asia.\n",
            "\n",
            "the foreign policy positions — outlined in a meeting with the editorial board of the washington post — came on a day when trump set aside the guerrilla tactics and showman bravado that have powered his campaign to appear as a would-be presidential nominee, explaining his policies, accepting counsel and building bridges to republican elites.\n",
            "\n",
            "on monday night, trump delivered a scripted address in front of the american israel public affairs committee, prompting ovations with pledges to stand by israel and take a hard line on peace talks with the palestinians.\n",
            "\n",
            "trump’s whirlwind day of appearances around the nation’s capital was intended in part to head off an establishment push to deny him the republican party’s nomination. but in the post meeting, the billionaire mogul also made clear that he would not be beholden to the gop’s long-held orthodoxies.\n",
            "\n",
            "during the hour-long discussion, during which he revealed five of his foreign policy advisers, trump advocated a light footprint in the world. in spite of unrest in the middle east and elsewhere, he said, the united states must look inward and steer its resources toward rebuilding the nation’s crumbling infrastructure.\n",
            "\n",
            "“at what point do you say, ‘hey, we have to take care of ourselves?’ ” trump said in the editorial board meeting. “i know the outer world exists, and i’ll be very cognizant of that. but at the same time, our country is disintegrating, large sections of it, especially the inner cities.”\n",
            "\n",
            "trump said u.s. involvement in nato may need to be significantly diminished in the coming years, breaking with nearly seven decades of consensus in washington. “we certainly can’t afford to do this anymore,” he said, adding later, “nato is costing us a fortune, and yes, we’re protecting europe with nato, but we’re spending a lot of money.”\n",
            "\n",
            "[a transcript of donald trump’s meeting with the washington post editorial board]\n",
            "\n",
            "throughout his unlikely campaign, trump’s unpredictable, incendiary persona has been his rocket fuel. but with the nomination now within his reach, he is trying at times to round out his sharp edges to convince his party’s leaders — not to mention general-election voters — that he has the temperament and knowledge to be president.\n",
            "\n",
            "this was one of trump’s goals as he addressed aipac’s annual conference in washington. for perhaps the first time in his campaign, trump read from a prepared text on teleprompters — a device he has colorfully mocked other politicians for using.\n",
            "\n",
            "on israel, trump mostly hewed to the party line, giving a full-throated defense of the nation and its interests and arguing that no candidate is a more forceful champion of the jewish state. his eyes pinging back and forth between the teleprompter screens, trump embellished his prepared text only to deliver a few criticisms of president obama and his first-term secretary of state, hillary clinton, the democratic presidential front-runner.\n",
            "\n",
            "“when i become president, the days of treating israel like a second-class citizen will end on day one,” trump vowed. he received enthusiastic applause from the crowd of thousands, and the much-rumored walkouts during his speech were either called off or went unnoticed in the cavernous verizon center arena.\n",
            "\n",
            "earlier monday, trump sought to cultivate ties with his party’s establishment at a private luncheon he hosted on capitol hill. it was attended by about two dozen republicans, including influential conservatives in congress and prominent figures from gop policy and lobbying circles.\n",
            "\n",
            "those with whom he met directly urged trump to “be more presidential,” according to one attendee. this person, who like others spoke on the condition of anonymity to relate details of the closed session, described it as “a very serious conversation,” adding: “this was the donald trump who talks with bankers, not the donald trump who is on the stage.”\n",
            "\n",
            "trump also sought to showcase his business acumen and dealmaking prowess. he staged an afternoon news conference at the historic old post office pavilion, which his real estate company is turning into a trump international hotel, a few blocks from the white house on pennsylvania avenue. the candidate, flanked by employees wearing hard hats, led journalists on a tour of the construction zone.\n",
            "\n",
            "trump’s visit to washington comes amid an intensified effort by some in the republican establishment, including 2012 presidential nominee mitt romney, to deny him the nomination by forcing a contested convention at which the party could rally around an alternative.\n",
            "\n",
            "at his luncheon meeting, trump warned party leaders against using parliamentary maneuvers to block his nomination. he later told reporters that he had a productive conversation recently with house speaker paul d. ryan (r-wis.) and that he has “many millions of people behind me.”\n",
            "\n",
            "“now, they can play games, and they can play cute,” trump said of ryan and other gop leaders. “i can only take [ryan] at face value. i understand duplicity. i understand a lot of things. but he called me last week, he could not have been nicer. i spoke with mitch mcconnell, he could not have been nicer. if people want to be smart, they should embrace this movement.”\n",
            "\n",
            "neither ryan nor mcconnell (r-ky.), the senate majority leader, attended monday’s meeting with trump. it was held at jones day, the law firm of donald f. mcgahn, a trump campaign attorney, and was convened in part by sen. jeff sessions (r-ala.), a key trump ally.\n",
            "\n",
            "attendees included heritage foundation president jim de­mint, a former senator from south carolina and a conservative movement leader, as well as sen. tom cotton (r-ark.), former house speaker newt gingrich (r-ga.) and former house appropriations committee chairman bob livingston (r-la.). a group of house members who have endorsed trump also attended.\n",
            "\n",
            "“we met with senator sessions and some of the great people in washington,” trump said. “we had a really good meeting. . . . they can’t believe how far we’ve come because, you know, i think a lot of people maybe wouldn’t have predicted that.”\n",
            "\n",
            "trump began the day at the post, where his on-the-record meeting with the editorial board covered media libel laws, violence at his rallies and climate change, as well as foreign policy.\n",
            "\n",
            "for the first time, trump listed members of a team chaired by sessions that is counseling him on foreign affairs and helping to shape his policies: keith kellogg, carter page, george papadopoulos, walid phares and joseph e. schmitz. all are relatively little known in foreign policy circles, and several have ties to the george w. bush administration.\n",
            "\n",
            "trump praised george p. shultz, who served as president ronald reagan’s secretary of state, as a model diplomat and, on the subject of russia’s aggression in ukraine, said america’s allies are “not doing anything.”\n",
            "\n",
            "“ukraine is a country that affects us far less than it affects other countries in nato, and yet we’re doing all of the lifting,” trump said. “they’re not doing anything. and i say: ‘why is it that germany’s not dealing with nato on ukraine? . . . why are we always the one that’s leading, potentially, the third world war with russia?’ ”\n",
            "\n",
            "while the obama administration has faced pressure from congressional critics who have advocated for a more active u.s. role in supporting ukraine, the u.s. military has limited its assistance to nonlethal equipment such as vehicles and night-vision gear. european nations have taken the lead in crafting a fragile cease-fire designed to decrease hostility between ukrainian forces and russian-backed separatists.\n",
            "\n",
            "trump sounded a similar note in discussing the u.s. presence in the pacific. he questioned the value of massive military investments in asia and wondered aloud whether the united states still is capable of being an effective peacekeeping force there.\n",
            "\n",
            "“south korea is very rich, great industrial country, and yet we’re not reimbursed fairly for what we do,” trump said. “we’re constantly sending our ships, sending our planes, doing our war games — we’re reimbursed a fraction of what this is all costing.”\n",
            "\n",
            "such talk is likely to trigger anxiety in south korea, where a u.s. force of 28,000 has provided a strong deterrent to north korean threats for decades.\n",
            "\n",
            "asked whether the united states benefits from its involvement in asia, trump replied, “personally, i don’t think so.” he added: “i think we were a very powerful, very wealthy country. and we’re a poor country now. we’re a debtor nation.”\n",
            "\n",
            "jenna johnson, paul kane, missy ryan and david weigel contributed to this report.\n"
          ]
        }
      ],
      "source": [
        "#Single Case Testing for locating special characters\n",
        "test_case = dataset['text'][0]\n",
        "print(test_case)"
      ]
    },
    {
      "cell_type": "markdown",
      "metadata": {
        "id": "B37JHX54osIL"
      },
      "source": [
        "This will cleans up text data by removing unwanted characters using the re library. It uses the 're.sub' method against the test_case variable containing text from the column 'text' of DataFrame df. The 're.sub' method is used with the regular expression pattern [^a-zA-Z0-9\\\\s], which matches any character that is not a letter, a digit, or whitespace character. All characters that match this pattern are replaced by an empty string; therefore, they get deleted from the text. At last, cleaned text will be printed to make sure that there are no special or non-alphanumeric characters in a data.\n"
      ]
    },
    {
      "cell_type": "code",
      "execution_count": null,
      "metadata": {
        "id": "18agHcyQorqk",
        "colab": {
          "base_uri": "https://localhost:8080/"
        },
        "outputId": "e05f5fc2-04df-4c18-b6ff-c3b1d358fa0b"
      },
      "outputs": [
        {
          "output_type": "stream",
          "name": "stdout",
          "text": [
            "donald trump endorsed an unabashedly noninterventionist approach to world affairs monday during a daylong tour of washington casting doubt on the need for the north atlantic treaty organization and expressing skepticism about a muscular us military presence in asia\n",
            "\n",
            "the foreign policy positions  outlined in a meeting with the editorial board of the washington post  came on a day when trump set aside the guerrilla tactics and showman bravado that have powered his campaign to appear as a wouldbe presidential nominee explaining his policies accepting counsel and building bridges to republican elites\n",
            "\n",
            "on monday night trump delivered a scripted address in front of the american israel public affairs committee prompting ovations with pledges to stand by israel and take a hard line on peace talks with the palestinians\n",
            "\n",
            "trumps whirlwind day of appearances around the nations capital was intended in part to head off an establishment push to deny him the republican partys nomination but in the post meeting the billionaire mogul also made clear that he would not be beholden to the gops longheld orthodoxies\n",
            "\n",
            "during the hourlong discussion during which he revealed five of his foreign policy advisers trump advocated a light footprint in the world in spite of unrest in the middle east and elsewhere he said the united states must look inward and steer its resources toward rebuilding the nations crumbling infrastructure\n",
            "\n",
            "at what point do you say hey we have to take care of ourselves  trump said in the editorial board meeting i know the outer world exists and ill be very cognizant of that but at the same time our country is disintegrating large sections of it especially the inner cities\n",
            "\n",
            "trump said us involvement in nato may need to be significantly diminished in the coming years breaking with nearly seven decades of consensus in washington we certainly cant afford to do this anymore he said adding later nato is costing us a fortune and yes were protecting europe with nato but were spending a lot of money\n",
            "\n",
            "a transcript of donald trumps meeting with the washington post editorial board\n",
            "\n",
            "throughout his unlikely campaign trumps unpredictable incendiary persona has been his rocket fuel but with the nomination now within his reach he is trying at times to round out his sharp edges to convince his partys leaders  not to mention generalelection voters  that he has the temperament and knowledge to be president\n",
            "\n",
            "this was one of trumps goals as he addressed aipacs annual conference in washington for perhaps the first time in his campaign trump read from a prepared text on teleprompters  a device he has colorfully mocked other politicians for using\n",
            "\n",
            "on israel trump mostly hewed to the party line giving a fullthroated defense of the nation and its interests and arguing that no candidate is a more forceful champion of the jewish state his eyes pinging back and forth between the teleprompter screens trump embellished his prepared text only to deliver a few criticisms of president obama and his firstterm secretary of state hillary clinton the democratic presidential frontrunner\n",
            "\n",
            "when i become president the days of treating israel like a secondclass citizen will end on day one trump vowed he received enthusiastic applause from the crowd of thousands and the muchrumored walkouts during his speech were either called off or went unnoticed in the cavernous verizon center arena\n",
            "\n",
            "earlier monday trump sought to cultivate ties with his partys establishment at a private luncheon he hosted on capitol hill it was attended by about two dozen republicans including influential conservatives in congress and prominent figures from gop policy and lobbying circles\n",
            "\n",
            "those with whom he met directly urged trump to be more presidential according to one attendee this person who like others spoke on the condition of anonymity to relate details of the closed session described it as a very serious conversation adding this was the donald trump who talks with bankers not the donald trump who is on the stage\n",
            "\n",
            "trump also sought to showcase his business acumen and dealmaking prowess he staged an afternoon news conference at the historic old post office pavilion which his real estate company is turning into a trump international hotel a few blocks from the white house on pennsylvania avenue the candidate flanked by employees wearing hard hats led journalists on a tour of the construction zone\n",
            "\n",
            "trumps visit to washington comes amid an intensified effort by some in the republican establishment including 2012 presidential nominee mitt romney to deny him the nomination by forcing a contested convention at which the party could rally around an alternative\n",
            "\n",
            "at his luncheon meeting trump warned party leaders against using parliamentary maneuvers to block his nomination he later told reporters that he had a productive conversation recently with house speaker paul d ryan rwis and that he has many millions of people behind me\n",
            "\n",
            "now they can play games and they can play cute trump said of ryan and other gop leaders i can only take ryan at face value i understand duplicity i understand a lot of things but he called me last week he could not have been nicer i spoke with mitch mcconnell he could not have been nicer if people want to be smart they should embrace this movement\n",
            "\n",
            "neither ryan nor mcconnell rky the senate majority leader attended mondays meeting with trump it was held at jones day the law firm of donald f mcgahn a trump campaign attorney and was convened in part by sen jeff sessions rala a key trump ally\n",
            "\n",
            "attendees included heritage foundation president jim demint a former senator from south carolina and a conservative movement leader as well as sen tom cotton rark former house speaker newt gingrich rga and former house appropriations committee chairman bob livingston rla a group of house members who have endorsed trump also attended\n",
            "\n",
            "we met with senator sessions and some of the great people in washington trump said we had a really good meeting    they cant believe how far weve come because you know i think a lot of people maybe wouldnt have predicted that\n",
            "\n",
            "trump began the day at the post where his ontherecord meeting with the editorial board covered media libel laws violence at his rallies and climate change as well as foreign policy\n",
            "\n",
            "for the first time trump listed members of a team chaired by sessions that is counseling him on foreign affairs and helping to shape his policies keith kellogg carter page george papadopoulos walid phares and joseph e schmitz all are relatively little known in foreign policy circles and several have ties to the george w bush administration\n",
            "\n",
            "trump praised george p shultz who served as president ronald reagans secretary of state as a model diplomat and on the subject of russias aggression in ukraine said americas allies are not doing anything\n",
            "\n",
            "ukraine is a country that affects us far less than it affects other countries in nato and yet were doing all of the lifting trump said theyre not doing anything and i say why is it that germanys not dealing with nato on ukraine    why are we always the one thats leading potentially the third world war with russia \n",
            "\n",
            "while the obama administration has faced pressure from congressional critics who have advocated for a more active us role in supporting ukraine the us military has limited its assistance to nonlethal equipment such as vehicles and nightvision gear european nations have taken the lead in crafting a fragile ceasefire designed to decrease hostility between ukrainian forces and russianbacked separatists\n",
            "\n",
            "trump sounded a similar note in discussing the us presence in the pacific he questioned the value of massive military investments in asia and wondered aloud whether the united states still is capable of being an effective peacekeeping force there\n",
            "\n",
            "south korea is very rich great industrial country and yet were not reimbursed fairly for what we do trump said were constantly sending our ships sending our planes doing our war games  were reimbursed a fraction of what this is all costing\n",
            "\n",
            "such talk is likely to trigger anxiety in south korea where a us force of 28000 has provided a strong deterrent to north korean threats for decades\n",
            "\n",
            "asked whether the united states benefits from its involvement in asia trump replied personally i dont think so he added i think we were a very powerful very wealthy country and were a poor country now were a debtor nation\n",
            "\n",
            "jenna johnson paul kane missy ryan and david weigel contributed to this report\n"
          ]
        }
      ],
      "source": [
        "#import library regex\n",
        "import re\n",
        "#remove all instances that aren't a-z or 0-9\n",
        "test_case = re.sub(\"[^a-zA-Z0-9\\s]\",'',test_case)\n",
        "print(test_case)"
      ]
    },
    {
      "cell_type": "markdown",
      "metadata": {
        "id": "5b6CPH_ApGPi"
      },
      "source": [
        "The following code cleans the column 'text' of a DataFrame from unwanted characters. In this example, apply() is used together with a lambda function calling re.sub() to clean each entry, removing the characters that are not letters (a-z, A-Z), not digits (0-9), and are not space. This approach to standardizing text data comes in handy when data is supposed to be limited only to alphanumeric characters and spaces. After cleaning all entries in the column 'text', it shall use the head() method to show the first ten rows of the refurnished DataFrame. This allows a quick check of the cleaned text, ensuring that undesirable characters are removed.\n"
      ]
    },
    {
      "cell_type": "code",
      "execution_count": null,
      "metadata": {
        "id": "ifbZi1kfpGfu",
        "colab": {
          "base_uri": "https://localhost:8080/"
        },
        "outputId": "115860dc-8515-4f32-de97-8c70bb97c515"
      },
      "outputs": [
        {
          "output_type": "execute_result",
          "data": {
            "text/plain": [
              "   Unnamed: 0                                              title  \\\n",
              "0           0  A whirlwind day in D.C. showcases Trump’s unor...   \n",
              "1           1  In Baltimore's call for federal police probe, ...   \n",
              "2           2  Trump Proudly Declares: Most Of The People I’v...   \n",
              "3           3  Inside the Trump-Bush melodrama: Decades of te...   \n",
              "4           4      Shutdown clash to return in force by December   \n",
              "5           5           Can the great nuclear war be prevented ?   \n",
              "6           6  US charges 61 with India-based scam involving ...   \n",
              "7           7  Democratic debate 2015: Hillary Clinton and Be...   \n",
              "8           8  What DNC Donors REALLY think of African Americans   \n",
              "9           9  What happens to delegates won by Rubio, other ...   \n",
              "\n",
              "                                                text label  \n",
              "0  donald trump endorsed an unabashedly noninterv...  REAL  \n",
              "1  while some justice department investigations a...  REAL  \n",
              "2  trump proudly declares most of the people ive ...  FAKE  \n",
              "3  donald trump spent a day in january 2014 hobno...  REAL  \n",
              "4  notable names include ray washburne commerce a...  REAL  \n",
              "5  current concerns n23 october 22th 2016\\ncan th...  FAKE  \n",
              "6  us charges 61 with indiabased scam involving 1...  FAKE  \n",
              "7  watch the first democratic presidential debate...  REAL  \n",
              "8  this video is really disturbing \\nnot just to ...  FAKE  \n",
              "9  with marco rubio dropping out of the republica...  REAL  "
            ],
            "text/html": [
              "\n",
              "  <div id=\"df-89af14b4-c954-4abb-91aa-723ff6dbceff\" class=\"colab-df-container\">\n",
              "    <div>\n",
              "<style scoped>\n",
              "    .dataframe tbody tr th:only-of-type {\n",
              "        vertical-align: middle;\n",
              "    }\n",
              "\n",
              "    .dataframe tbody tr th {\n",
              "        vertical-align: top;\n",
              "    }\n",
              "\n",
              "    .dataframe thead th {\n",
              "        text-align: right;\n",
              "    }\n",
              "</style>\n",
              "<table border=\"1\" class=\"dataframe\">\n",
              "  <thead>\n",
              "    <tr style=\"text-align: right;\">\n",
              "      <th></th>\n",
              "      <th>Unnamed: 0</th>\n",
              "      <th>title</th>\n",
              "      <th>text</th>\n",
              "      <th>label</th>\n",
              "    </tr>\n",
              "  </thead>\n",
              "  <tbody>\n",
              "    <tr>\n",
              "      <th>0</th>\n",
              "      <td>0</td>\n",
              "      <td>A whirlwind day in D.C. showcases Trump’s unor...</td>\n",
              "      <td>donald trump endorsed an unabashedly noninterv...</td>\n",
              "      <td>REAL</td>\n",
              "    </tr>\n",
              "    <tr>\n",
              "      <th>1</th>\n",
              "      <td>1</td>\n",
              "      <td>In Baltimore's call for federal police probe, ...</td>\n",
              "      <td>while some justice department investigations a...</td>\n",
              "      <td>REAL</td>\n",
              "    </tr>\n",
              "    <tr>\n",
              "      <th>2</th>\n",
              "      <td>2</td>\n",
              "      <td>Trump Proudly Declares: Most Of The People I’v...</td>\n",
              "      <td>trump proudly declares most of the people ive ...</td>\n",
              "      <td>FAKE</td>\n",
              "    </tr>\n",
              "    <tr>\n",
              "      <th>3</th>\n",
              "      <td>3</td>\n",
              "      <td>Inside the Trump-Bush melodrama: Decades of te...</td>\n",
              "      <td>donald trump spent a day in january 2014 hobno...</td>\n",
              "      <td>REAL</td>\n",
              "    </tr>\n",
              "    <tr>\n",
              "      <th>4</th>\n",
              "      <td>4</td>\n",
              "      <td>Shutdown clash to return in force by December</td>\n",
              "      <td>notable names include ray washburne commerce a...</td>\n",
              "      <td>REAL</td>\n",
              "    </tr>\n",
              "    <tr>\n",
              "      <th>5</th>\n",
              "      <td>5</td>\n",
              "      <td>Can the great nuclear war be prevented ?</td>\n",
              "      <td>current concerns n23 october 22th 2016\\ncan th...</td>\n",
              "      <td>FAKE</td>\n",
              "    </tr>\n",
              "    <tr>\n",
              "      <th>6</th>\n",
              "      <td>6</td>\n",
              "      <td>US charges 61 with India-based scam involving ...</td>\n",
              "      <td>us charges 61 with indiabased scam involving 1...</td>\n",
              "      <td>FAKE</td>\n",
              "    </tr>\n",
              "    <tr>\n",
              "      <th>7</th>\n",
              "      <td>7</td>\n",
              "      <td>Democratic debate 2015: Hillary Clinton and Be...</td>\n",
              "      <td>watch the first democratic presidential debate...</td>\n",
              "      <td>REAL</td>\n",
              "    </tr>\n",
              "    <tr>\n",
              "      <th>8</th>\n",
              "      <td>8</td>\n",
              "      <td>What DNC Donors REALLY think of African Americans</td>\n",
              "      <td>this video is really disturbing \\nnot just to ...</td>\n",
              "      <td>FAKE</td>\n",
              "    </tr>\n",
              "    <tr>\n",
              "      <th>9</th>\n",
              "      <td>9</td>\n",
              "      <td>What happens to delegates won by Rubio, other ...</td>\n",
              "      <td>with marco rubio dropping out of the republica...</td>\n",
              "      <td>REAL</td>\n",
              "    </tr>\n",
              "  </tbody>\n",
              "</table>\n",
              "</div>\n",
              "    <div class=\"colab-df-buttons\">\n",
              "\n",
              "  <div class=\"colab-df-container\">\n",
              "    <button class=\"colab-df-convert\" onclick=\"convertToInteractive('df-89af14b4-c954-4abb-91aa-723ff6dbceff')\"\n",
              "            title=\"Convert this dataframe to an interactive table.\"\n",
              "            style=\"display:none;\">\n",
              "\n",
              "  <svg xmlns=\"http://www.w3.org/2000/svg\" height=\"24px\" viewBox=\"0 -960 960 960\">\n",
              "    <path d=\"M120-120v-720h720v720H120Zm60-500h600v-160H180v160Zm220 220h160v-160H400v160Zm0 220h160v-160H400v160ZM180-400h160v-160H180v160Zm440 0h160v-160H620v160ZM180-180h160v-160H180v160Zm440 0h160v-160H620v160Z\"/>\n",
              "  </svg>\n",
              "    </button>\n",
              "\n",
              "  <style>\n",
              "    .colab-df-container {\n",
              "      display:flex;\n",
              "      gap: 12px;\n",
              "    }\n",
              "\n",
              "    .colab-df-convert {\n",
              "      background-color: #E8F0FE;\n",
              "      border: none;\n",
              "      border-radius: 50%;\n",
              "      cursor: pointer;\n",
              "      display: none;\n",
              "      fill: #1967D2;\n",
              "      height: 32px;\n",
              "      padding: 0 0 0 0;\n",
              "      width: 32px;\n",
              "    }\n",
              "\n",
              "    .colab-df-convert:hover {\n",
              "      background-color: #E2EBFA;\n",
              "      box-shadow: 0px 1px 2px rgba(60, 64, 67, 0.3), 0px 1px 3px 1px rgba(60, 64, 67, 0.15);\n",
              "      fill: #174EA6;\n",
              "    }\n",
              "\n",
              "    .colab-df-buttons div {\n",
              "      margin-bottom: 4px;\n",
              "    }\n",
              "\n",
              "    [theme=dark] .colab-df-convert {\n",
              "      background-color: #3B4455;\n",
              "      fill: #D2E3FC;\n",
              "    }\n",
              "\n",
              "    [theme=dark] .colab-df-convert:hover {\n",
              "      background-color: #434B5C;\n",
              "      box-shadow: 0px 1px 3px 1px rgba(0, 0, 0, 0.15);\n",
              "      filter: drop-shadow(0px 1px 2px rgba(0, 0, 0, 0.3));\n",
              "      fill: #FFFFFF;\n",
              "    }\n",
              "  </style>\n",
              "\n",
              "    <script>\n",
              "      const buttonEl =\n",
              "        document.querySelector('#df-89af14b4-c954-4abb-91aa-723ff6dbceff button.colab-df-convert');\n",
              "      buttonEl.style.display =\n",
              "        google.colab.kernel.accessAllowed ? 'block' : 'none';\n",
              "\n",
              "      async function convertToInteractive(key) {\n",
              "        const element = document.querySelector('#df-89af14b4-c954-4abb-91aa-723ff6dbceff');\n",
              "        const dataTable =\n",
              "          await google.colab.kernel.invokeFunction('convertToInteractive',\n",
              "                                                    [key], {});\n",
              "        if (!dataTable) return;\n",
              "\n",
              "        const docLinkHtml = 'Like what you see? Visit the ' +\n",
              "          '<a target=\"_blank\" href=https://colab.research.google.com/notebooks/data_table.ipynb>data table notebook</a>'\n",
              "          + ' to learn more about interactive tables.';\n",
              "        element.innerHTML = '';\n",
              "        dataTable['output_type'] = 'display_data';\n",
              "        await google.colab.output.renderOutput(dataTable, element);\n",
              "        const docLink = document.createElement('div');\n",
              "        docLink.innerHTML = docLinkHtml;\n",
              "        element.appendChild(docLink);\n",
              "      }\n",
              "    </script>\n",
              "  </div>\n",
              "\n",
              "\n",
              "<div id=\"df-9f6359d9-638e-48d9-bbe2-75329ae2d727\">\n",
              "  <button class=\"colab-df-quickchart\" onclick=\"quickchart('df-9f6359d9-638e-48d9-bbe2-75329ae2d727')\"\n",
              "            title=\"Suggest charts\"\n",
              "            style=\"display:none;\">\n",
              "\n",
              "<svg xmlns=\"http://www.w3.org/2000/svg\" height=\"24px\"viewBox=\"0 0 24 24\"\n",
              "     width=\"24px\">\n",
              "    <g>\n",
              "        <path d=\"M19 3H5c-1.1 0-2 .9-2 2v14c0 1.1.9 2 2 2h14c1.1 0 2-.9 2-2V5c0-1.1-.9-2-2-2zM9 17H7v-7h2v7zm4 0h-2V7h2v10zm4 0h-2v-4h2v4z\"/>\n",
              "    </g>\n",
              "</svg>\n",
              "  </button>\n",
              "\n",
              "<style>\n",
              "  .colab-df-quickchart {\n",
              "      --bg-color: #E8F0FE;\n",
              "      --fill-color: #1967D2;\n",
              "      --hover-bg-color: #E2EBFA;\n",
              "      --hover-fill-color: #174EA6;\n",
              "      --disabled-fill-color: #AAA;\n",
              "      --disabled-bg-color: #DDD;\n",
              "  }\n",
              "\n",
              "  [theme=dark] .colab-df-quickchart {\n",
              "      --bg-color: #3B4455;\n",
              "      --fill-color: #D2E3FC;\n",
              "      --hover-bg-color: #434B5C;\n",
              "      --hover-fill-color: #FFFFFF;\n",
              "      --disabled-bg-color: #3B4455;\n",
              "      --disabled-fill-color: #666;\n",
              "  }\n",
              "\n",
              "  .colab-df-quickchart {\n",
              "    background-color: var(--bg-color);\n",
              "    border: none;\n",
              "    border-radius: 50%;\n",
              "    cursor: pointer;\n",
              "    display: none;\n",
              "    fill: var(--fill-color);\n",
              "    height: 32px;\n",
              "    padding: 0;\n",
              "    width: 32px;\n",
              "  }\n",
              "\n",
              "  .colab-df-quickchart:hover {\n",
              "    background-color: var(--hover-bg-color);\n",
              "    box-shadow: 0 1px 2px rgba(60, 64, 67, 0.3), 0 1px 3px 1px rgba(60, 64, 67, 0.15);\n",
              "    fill: var(--button-hover-fill-color);\n",
              "  }\n",
              "\n",
              "  .colab-df-quickchart-complete:disabled,\n",
              "  .colab-df-quickchart-complete:disabled:hover {\n",
              "    background-color: var(--disabled-bg-color);\n",
              "    fill: var(--disabled-fill-color);\n",
              "    box-shadow: none;\n",
              "  }\n",
              "\n",
              "  .colab-df-spinner {\n",
              "    border: 2px solid var(--fill-color);\n",
              "    border-color: transparent;\n",
              "    border-bottom-color: var(--fill-color);\n",
              "    animation:\n",
              "      spin 1s steps(1) infinite;\n",
              "  }\n",
              "\n",
              "  @keyframes spin {\n",
              "    0% {\n",
              "      border-color: transparent;\n",
              "      border-bottom-color: var(--fill-color);\n",
              "      border-left-color: var(--fill-color);\n",
              "    }\n",
              "    20% {\n",
              "      border-color: transparent;\n",
              "      border-left-color: var(--fill-color);\n",
              "      border-top-color: var(--fill-color);\n",
              "    }\n",
              "    30% {\n",
              "      border-color: transparent;\n",
              "      border-left-color: var(--fill-color);\n",
              "      border-top-color: var(--fill-color);\n",
              "      border-right-color: var(--fill-color);\n",
              "    }\n",
              "    40% {\n",
              "      border-color: transparent;\n",
              "      border-right-color: var(--fill-color);\n",
              "      border-top-color: var(--fill-color);\n",
              "    }\n",
              "    60% {\n",
              "      border-color: transparent;\n",
              "      border-right-color: var(--fill-color);\n",
              "    }\n",
              "    80% {\n",
              "      border-color: transparent;\n",
              "      border-right-color: var(--fill-color);\n",
              "      border-bottom-color: var(--fill-color);\n",
              "    }\n",
              "    90% {\n",
              "      border-color: transparent;\n",
              "      border-bottom-color: var(--fill-color);\n",
              "    }\n",
              "  }\n",
              "</style>\n",
              "\n",
              "  <script>\n",
              "    async function quickchart(key) {\n",
              "      const quickchartButtonEl =\n",
              "        document.querySelector('#' + key + ' button');\n",
              "      quickchartButtonEl.disabled = true;  // To prevent multiple clicks.\n",
              "      quickchartButtonEl.classList.add('colab-df-spinner');\n",
              "      try {\n",
              "        const charts = await google.colab.kernel.invokeFunction(\n",
              "            'suggestCharts', [key], {});\n",
              "      } catch (error) {\n",
              "        console.error('Error during call to suggestCharts:', error);\n",
              "      }\n",
              "      quickchartButtonEl.classList.remove('colab-df-spinner');\n",
              "      quickchartButtonEl.classList.add('colab-df-quickchart-complete');\n",
              "    }\n",
              "    (() => {\n",
              "      let quickchartButtonEl =\n",
              "        document.querySelector('#df-9f6359d9-638e-48d9-bbe2-75329ae2d727 button');\n",
              "      quickchartButtonEl.style.display =\n",
              "        google.colab.kernel.accessAllowed ? 'block' : 'none';\n",
              "    })();\n",
              "  </script>\n",
              "</div>\n",
              "\n",
              "    </div>\n",
              "  </div>\n"
            ],
            "application/vnd.google.colaboratory.intrinsic+json": {
              "type": "dataframe",
              "variable_name": "dataset",
              "summary": "{\n  \"name\": \"dataset\",\n  \"rows\": 6335,\n  \"fields\": [\n    {\n      \"column\": \"Unnamed: 0\",\n      \"properties\": {\n        \"dtype\": \"number\",\n        \"std\": 1828,\n        \"min\": 0,\n        \"max\": 6334,\n        \"num_unique_values\": 6335,\n        \"samples\": [\n          1357,\n          2080,\n          2718\n        ],\n        \"semantic_type\": \"\",\n        \"description\": \"\"\n      }\n    },\n    {\n      \"column\": \"title\",\n      \"properties\": {\n        \"dtype\": \"string\",\n        \"num_unique_values\": 6256,\n        \"samples\": [\n          \"New Wikileaks emails: Bernie is a Jerk, Megyn Kelly a Bimbo and More\",\n          \"Poll: Clinton's Lead Over Trump Slips After Florida Shooting\",\n          \"Obama\\u2019s trip to Ethiopia alarms some human rights activists\"\n        ],\n        \"semantic_type\": \"\",\n        \"description\": \"\"\n      }\n    },\n    {\n      \"column\": \"text\",\n      \"properties\": {\n        \"dtype\": \"string\",\n        \"num_unique_values\": 6059,\n        \"samples\": [\n          \"prolifers have taken to social media to use planned parenthoods own campaign hashtag against them\\n\\nplanned parenthood centers and supporters across the country took to facebook and twitter encouraging women to share how planned parenthood has helped them using the hashtag ppshoutyourstory\\n\\nclinics posted messages like this one hoping for positive participation around the country\\n\\nas part of the ppshoutyourstory campaign people around new mexico have been sharing their stories of how planned parenthood has impacted their lives participate in our allout twitter rally to shout your story about what planned parenthood means to you thursday july 16 at 1230 pm mt save the date posted on planned parenthood votes colorado facebook page\\n\\nthousands of people have joined in on the hashtag to share their stories but not in the way the organization hoped for a quick click on the hashtag displays countless stories of women permanently traumatized from their visits to planned parenthood\\n\\nhey planned parenthood i was born alive in one of your clinics burned in my mothers womb for 18 hrs ppshoutyourstory giannajessen\\n\\ni had an abortion at 16  regret it every day i wish i had a 37 yo  grandkids instead of regret ppshoutyourstory georgetteforney\\n\\nim married 23 yrs two lovely kiddos and a successful new business nochildsacrificed ppshoutyourstory conservgal\\n\\nactually women do excel wo it costing the lives of their babesthats my story ppshoutyourstory ppsellsbabyparts kyleenwright\\n\\nlet me disclose my shame i have had two abortions twotwenty years ago unmarried but in a relationship i thought would be my last a violent morning sickness revealed to me that i was with child the man in my life at 24 was a mental boy and couldnt or wouldnt face fatherhood and i was a coward afraid to lose him julie ludlum posted on her facebook page\\n\\nso with grief and disgust i went to planned parenthood i was cavalierly offered a video about something but not given other options and had no individual counseli swore to myself it would never happen again ten years later different man same scenario this time i begged him to please please let me keep this childi share your disgust and frustration but abortion number two still happened she wrote\\n\\nthat was thomas and i nearly followed him into death out of guilt and self loathing and a very tempting bridge over san diego traffic but im here my life and my horrible sins have been redeemed through the work of jesus on the crossso i will continue to post information about planned parenthood because ppkillsbabies and ppsellsbabyparts defundpp dont standwithpp\\n\\nludlum did not use the hashtag in her original post but several of her friends included it as they shared her story on facebook\\n\\nbetween our cultures declarations of belief that abortion revolves around a womans personal choice are other women out of their depths responding by their actions a potential child was never nor ever will be a sheer choice despite attempts to make it one ppshoutyourstory sean brendon stewart wrote\",\n          \"originally appeared at the blog mire \\nfollowing on from her recent piece for time magazine  in which she so eloquently explained why america is indispensable and exceptional theblogmire brings you an exclusive piece in which mrs clinton explains why an indispensable and exceptional nation must have an indispensable and exceptional leader \\nwarning may contain traces of satire \\nif theres one core belief that has guided and inspired me every step of my career in public service its this i am an exceptional woman a great unselfish compassionate woman to paraphrase robert kennedy and when you add up all my advantages its clear im indispensable too  someone all others can look to for leadership \\nand what im really excited about is not just that im indispensable but that im about to become president of the indispensable nation an indispensable nation needs an indispensable woman an indispensable woman needs an indispensable nation its a match made in heaven which is why i am asking you to help me break the glass ceiling on november 8th  so that together we can become even more exceptional than we already are \\nso what makes me so indispensable \\nim indispensable in part because of my love for our armed forces our military is the greatest in history with the best troops training and technology and i believe it is a travesty that we are not using it to its full potential its essential we do everything we can to support our men and women in uniform and i intend to do just that by sending our brave soldiers on important missions around the globe from day one of my presidency \\nim indispensable because of my commitment to the truth throughout my career ive always sought to stay close to the truth i know that theres a lot of folks out there who say im corrupt but those who know me closest will tell you that this isnt the real hillary ask those who know me best ask my husband bill hell tell you ask my campaign chairman john podesta hell tell you ask lloyd blankfein ceo at goldman sachs hell tell you ask some of our closest allies in places like saudi arabia theyll tell you they will all tell you about the real hillary and that my commitment to honesty and fighting corruption is second to none it may even be my most exceptional quality alongside humility \\nim also indispensable because of my network of alliances and supporters you only have to look at who they are has there ever been a candidate in the entire history of our exceptional nation that has managed to get the backing of the entire media and corporate america i dont think so but it does tell you something doesnt it i humbly submit that it speaks volumes that some of the most important people in our exceptional country are prepared to place their trust in me \\nim indispensable because unlike donald trump i dont need to rely on the help of people like vladimir putin and countries like russia to help get me elected can you imagine me having to rely on putin and russia to get elected of course ive had to bring putin and russia up in this campaign from time to time not because i want to keep bringing putin and russia into it in fact the only reason ive occasionally mentioned putin and russia is not because i want to keep talking about putin and russia but because i have to keep taking about putin and russia because trump is depending on putin and russia to get him elected and so i have to draw attention to putin and russia but trust me if i had my way i wouldnt bring putin and russia up at all \\nim indispensable because of my commitment to helping countries get rid of their dictators and establishing democracy and peace like libya for example we came we saw he died and the libyans got their liberty \\nmost of all im indispensable  and exceptional  because of my values \\ntake my commitment to human rights which i have shown by being one of the most vocal supporters of a womans right to terminate her pregnancy right up to a few seconds before the thing inside her becomes a human \\ntake my commitment to raising money which my husband and i have shown through our tireless work with the clinton foundation and in making hundreds of speeches for various organisations \\ntake my commitment to making the world a better place which ive shown time and time again by saying things like love trumps hate which it does doesnt it im proud of that expression \\nbut with all of these advantages comes responsibility  i need to lead the world you need me to lead the world because if i fail to lead i will leave a vacuum that lets extremists putin and russia haters bigots the intolerant putin and russia the severely backwards  the julian assanges of this worldputin and russia  baskets of deplorables  take root everywhere \\nof course being exceptional doesnt mean that other people dont also have something to offer  maybe they do but i have an unparalleled ability to be a force for peace progress and prosperity around the world which i intend to demonstrate on day one of my presidency by standing up to putin and russia and showing putin and russia whos boss \\nill never stop doing good never thats what makes me great im good because im great and ill tell you one thing ill never stop \\nthats why im indispensable \\nlets keep me exceptional did you enjoy this article  consider helping us russia insider depends on your donations the more you give the more we can do 1 10 other amount \\nif you wish you make a taxdeductible contribution of 1000 or more please visit our support page for instructions click here for our commenting guidelines on fire\",\n          \"bowie md  the last time sen rand paul rky spoke at a historically black college around here it didnt go well\\n\\npaul spoke at howard university nearly two years ago a trip that was\\u00a0filled\\u00a0with fumbles he bungled the name of edward brooke a howard graduate who was the nations first black senator elected since reconstruction and asked if the audience knew the naacp was founded by republicans\\n\\nfriday he came here to bowie state university\\u00a0another historically black college  and this time he came as a politician who seemed to have found his footing when it came to talking about race\\n\\npaul was greeted with a standing ovation and his points were peppered with applause from the audience a crosssection of races and ages and some people liked what he had to say\\n\\nshaniah haskins an 18yearold freshman criminal justice major at bowie state said shed wanted to hear pauls views on the system\\n\\nthe simple fact is hed change things for minorities based not just on race but on other factors including economic status she said he actually seems like he has a lot of ideas\\n\\nover the past few years paul has made criminal justice reform one of his signature issues more recently hes tied the call for reducing arrests and changing sentencing laws to the situation in ferguson mo\\n\\nspeaking just days after the release of a scathing department of justice report that showed the ferguson police department engaged in a systemic pattern of racial discrimination  and the shooting of two officers  paul focused his remarks again friday on\\u00a0reforming the criminal justice system he spent about an hour at bowie state university about 18 miles from washington the visit there underscored one of pauls goals as he ramps up to a universally expected announcement that he will run for president reaching out to young and africanamerican voters\\n\\npaul evoked martin luther kings two americas speech and said that the split still exists and by not reforming the criminal justice system the nation will stay divided\\n\\nthere is still significant segregation in our society paul said\\n\\nin ferguson paul said there are about 10000 more arrests each year than the total population of the city the frustration that is boiling over isnt only due to the killing of an unarmed black teenager by police there or the death of a black man selling loose cigarettes in new york city but because of longstanding disparities in the criminal justice system \\n\\nit isnt just about what happened this year its about this building up he said i call it an undercurrent of unease in this country there are still two americas\\n\\npauls remarks are likely a preview of how he will handle issues of race and criminal justice should he jump into the presidential race he\\u00a0often speaks of a trip he made to ferguson last year where he met with community leaders he discussed it unease he said he found in ferguson\\u00a0and kings speech at a dinner for the american prospect magazine last month\\n\\nyoure not a part of that he said to an audience that include billionaire david koch but imagine what its like to be poor and to get a 100 fine and to have interest added to that and to have it be a 200 fine and were putting people in jail for civil fines weve got to figure out what justice is\\n\\nat bowie state paul told stories of people who had been put in jail unfairly due to mandatory minimums or because they couldnt afford to fight the system sentencing disparities arent purposeful he said but are actual and real\\n\\nfelony convictions he said are the number one thing that prevent people from voting and he said that expunging criminal records for minor offenses would help the economy by making it easier for people to get jobs\\n\\ncriminal justice or the lack of criminal justice its not a black or white problem paul said its a poverty problem\"\n        ],\n        \"semantic_type\": \"\",\n        \"description\": \"\"\n      }\n    },\n    {\n      \"column\": \"label\",\n      \"properties\": {\n        \"dtype\": \"category\",\n        \"num_unique_values\": 2,\n        \"samples\": [\n          \"FAKE\",\n          \"REAL\"\n        ],\n        \"semantic_type\": \"\",\n        \"description\": \"\"\n      }\n    }\n  ]\n}"
            }
          },
          "metadata": {},
          "execution_count": 49
        }
      ],
      "source": [
        "#apply to all\n",
        "dataset['text'] = dataset['text'].apply(lambda x: re.sub(\"[^a-zA-Z0-9\\s]\",'',x))\n",
        "dataset.head(10)"
      ]
    },
    {
      "cell_type": "markdown",
      "metadata": {
        "id": "YF3Fqc8ZrNzu"
      },
      "source": [
        "**For further inspection**"
      ]
    },
    {
      "cell_type": "markdown",
      "metadata": {
        "id": "sJsOeortrZej"
      },
      "source": [
        "For further inspection of the data preprocessing this script examines a single entry in the column 'text' of the DataFrame df. It will print to the terminal what is in the 101st element, index 100. This checking will enable one to ensure that the text cleaning process has been applied correctly and this particular entry changed accordingly. Be sure that the data is well formatted and does not have unwanted characters.\n"
      ]
    },
    {
      "cell_type": "code",
      "execution_count": null,
      "metadata": {
        "id": "mv3e-h_crkPh",
        "colab": {
          "base_uri": "https://localhost:8080/"
        },
        "outputId": "6cb9f1a3-1387-45a4-a909-6c6b91e49ee9"
      },
      "outputs": [
        {
          "output_type": "stream",
          "name": "stdout",
          "text": [
            "posted on november 4 2016 by charles hugh smith \n",
            "the overwhelming consensus of the punditry across the political spectrum is that nothing good can come of this electionand thats a very good thing the handwringing goes like this the country is deeply divided by schisms that cannot be bridged every institution from the two parties to the mainstream media to the department of justice has been tarnished by coverups collusion or worse whomever wins the election will enter the presidency without a mandate and so on \n",
            "why is nothing good can come of this good because ridding the nation of its political corruption will require hitting bottom \n",
            "just as an alcoholic or drug addict is incapable of making any truly positive changes until heshe hits absolute bottom so it is with our tolerance of a corrupt political system that is poisoning the nation one injection of corrupt cash collusion and paytoplay at a time \n",
            "if our rottentothecore politics as usual is indeed flying off the cliff to complete destruction that is an unalloyed good \n",
            "just as alcoholics continue down their selfdestructive path with the aid of enablers so too has the corrupt political order expanded with the aid of the mainstream media insiders in the department of justice k street lobbyists and a veritable army of wellpaid lackeys pundits academics apparatchiks and assorted toadies in the organs of governance and in the bigmoney private sector and philanthrocapitalist dynasties of paytoplay foundations \n",
            "the only way anything will truly change in the political order is if every establishment insider politico loses every election from the presidency to dogcatcher nothing will change until the mere existence of a private foundation like the clinton foundation triggers a landslide loss for the politico with ties to such corruption \n",
            "nothing will change until the collusion of the mainstream media supplying the insider candidate with debate questions etc alone causes the colluding candidate to lose by a landslide \n",
            "nothing will change until candidates who refuse to accept any donation larger than 100 from anyone or any entity beat the goldman sachssaudi princefunded insider candidates by a landslide \n",
            "nothing will change until candidates who fund costly negative tv advertising campaigns with millions in paytoplay contributions from goldman sachs et al lose by a landslide \n",
            "you get the point we the citizens and voters have to stop being enablers of systemic corruption we have to stop being bamboozled by insiders with promises of hope and change and the usual negative tv blitzes funded by corrupt big money \n",
            "its easy to blame lax campaign laws or the corrupted candidates and their insider toadies but ultimately were responsible for enabling corruption collusion payforplay and a political and financial elite thats above the law \n",
            "from the point of view of the corrupted colluding insiders msm flunkies department of justice lackeys and wellpaid parrotpundits nothing good can come from this election because half the voters may actually cast off the shackles of the nations corrupt and corrupting political and financial elites \n",
            "this mass rejection of the politics as usual of corrupt and corrupting political and financial elites is the highest possible good a public good that eludes the handwringing corrupt insiders pundits and toadies who have sucked up fortunes from the trough of putrid systemic corruption\n"
          ]
        }
      ],
      "source": [
        "#For inspection\n",
        "print(dataset['text'][100])"
      ]
    },
    {
      "cell_type": "markdown",
      "metadata": {
        "id": "GcvrNXQTsP92"
      },
      "source": [
        "# Stop word Removal\n",
        "\n",
        "### Example english stopwords:\n",
        "#### the, is, and"
      ]
    },
    {
      "cell_type": "markdown",
      "metadata": {
        "id": "KB4qowd3sUUE"
      },
      "source": [
        "A stop word is a common word like \"the,\" \"is,\" or \"and\" that is removed from the document. The given text processing technique would purport to enhance the relevance and efficiency of text analysis in focusing on the more important terms that bear a relation to the general meaning. Stop word elimination purports to enhance the relevance and therefore efficiency of text analysis, focusing on the more significant terms that bear a direct relation to the general meaning. By cutting the noise that stop words present and focusing on very relevant content, task performance improves in text mining and natural language processing.\n",
        "\n",
        "\n",
        "---\n",
        "\n"
      ]
    },
    {
      "cell_type": "code",
      "execution_count": null,
      "metadata": {
        "id": "Nx2spc9_sx3-"
      },
      "outputs": [],
      "source": [
        "from nltk.corpus import stopwords"
      ]
    },
    {
      "cell_type": "markdown",
      "metadata": {
        "id": "YV4FBUpjsUv8"
      },
      "source": [
        "It loads the Stopwords corpus from the Natural Language Toolkit package. The stopwords corpus is a set of very common words, like \"the\", \"is\", \"in\", etc., that can most of the time be ignored during text processing since they add no meaningful value to the analysis. This corpus allows for activities like deleting stop words from text data, letting you focus on more important phrases during text analysis and natural language processing.\n"
      ]
    },
    {
      "cell_type": "code",
      "execution_count": null,
      "metadata": {
        "colab": {
          "base_uri": "https://localhost:8080/"
        },
        "id": "u0mCfcyitx5_",
        "outputId": "b37b459d-9c8b-4030-f06d-f416fc2aa98a"
      },
      "outputs": [
        {
          "output_type": "stream",
          "name": "stdout",
          "text": [
            "['i', 'me', 'my', 'myself', 'we', 'our', 'ours', 'ourselves', 'you', \"you're\", \"you've\", \"you'll\", \"you'd\", 'your', 'yours', 'yourself', 'yourselves', 'he', 'him', 'his', 'himself', 'she', \"she's\", 'her', 'hers', 'herself', 'it', \"it's\", 'its', 'itself', 'they', 'them', 'their', 'theirs', 'themselves', 'what', 'which', 'who', 'whom', 'this', 'that', \"that'll\", 'these', 'those', 'am', 'is', 'are', 'was', 'were', 'be', 'been', 'being', 'have', 'has', 'had', 'having', 'do', 'does', 'did', 'doing', 'a', 'an', 'the', 'and', 'but', 'if', 'or', 'because', 'as', 'until', 'while', 'of', 'at', 'by', 'for', 'with', 'about', 'against', 'between', 'into', 'through', 'during', 'before', 'after', 'above', 'below', 'to', 'from', 'up', 'down', 'in', 'out', 'on', 'off', 'over', 'under', 'again', 'further', 'then', 'once', 'here', 'there', 'when', 'where', 'why', 'how', 'all', 'any', 'both', 'each', 'few', 'more', 'most', 'other', 'some', 'such', 'no', 'nor', 'not', 'only', 'own', 'same', 'so', 'than', 'too', 'very', 's', 't', 'can', 'will', 'just', 'don', \"don't\", 'should', \"should've\", 'now', 'd', 'll', 'm', 'o', 're', 've', 'y', 'ain', 'aren', \"aren't\", 'couldn', \"couldn't\", 'didn', \"didn't\", 'doesn', \"doesn't\", 'hadn', \"hadn't\", 'hasn', \"hasn't\", 'haven', \"haven't\", 'isn', \"isn't\", 'ma', 'mightn', \"mightn't\", 'mustn', \"mustn't\", 'needn', \"needn't\", 'shan', \"shan't\", 'shouldn', \"shouldn't\", 'wasn', \"wasn't\", 'weren', \"weren't\", 'won', \"won't\", 'wouldn', \"wouldn't\"]\n"
          ]
        },
        {
          "output_type": "stream",
          "name": "stderr",
          "text": [
            "[nltk_data] Downloading package stopwords to /root/nltk_data...\n",
            "[nltk_data]   Package stopwords is already up-to-date!\n"
          ]
        }
      ],
      "source": [
        "import nltk\n",
        "nltk.download('stopwords')\n",
        "#download and import english stopwords\n",
        "stop_words = stopwords.words('english')\n",
        "print(stop_words)"
      ]
    },
    {
      "cell_type": "markdown",
      "metadata": {
        "id": "Qj9BP7O2txo5"
      },
      "source": [
        "This code sample makes use of the Natural Language Toolkit to download and import English stopwords. Once the library nltk is imported, one needs to call nltk.download('stopwords') for the stopwords dataset. After getting the stopwords dataset, the code calls stopwords.words('english') to import the list of English stop words, which it assigns to the variable stop_words. At last, it will print the list of stop words in the terminal. It concentrates on the more significant keywords, thus giving access to a pre-defined list of frequent English terms that can be removed from the text data to increase the relevance of the text analysis.\n"
      ]
    },
    {
      "cell_type": "markdown",
      "metadata": {
        "id": "eV8jjT3Guq6v"
      },
      "source": [
        "This code line does single-case examples checking, which is performed to assure that the values of the test_case variable are correct after the text cleaning processes. Publishing the value of the test_case gives you the ability to check that the text is well formatted and ready to proceed with analysis—like the deletion of stopwords. The task of this phase is to check that the data will be in the sort of form for which various text processing actions can be performed.\n"
      ]
    },
    {
      "cell_type": "code",
      "execution_count": null,
      "metadata": {
        "colab": {
          "base_uri": "https://localhost:8080/"
        },
        "id": "Tb8cZs7NurLY",
        "outputId": "ee4e8178-510c-4096-9d0f-18e00b93cae6"
      },
      "outputs": [
        {
          "output_type": "stream",
          "name": "stdout",
          "text": [
            "donald trump endorsed an unabashedly noninterventionist approach to world affairs monday during a daylong tour of washington casting doubt on the need for the north atlantic treaty organization and expressing skepticism about a muscular us military presence in asia\n",
            "\n",
            "the foreign policy positions  outlined in a meeting with the editorial board of the washington post  came on a day when trump set aside the guerrilla tactics and showman bravado that have powered his campaign to appear as a wouldbe presidential nominee explaining his policies accepting counsel and building bridges to republican elites\n",
            "\n",
            "on monday night trump delivered a scripted address in front of the american israel public affairs committee prompting ovations with pledges to stand by israel and take a hard line on peace talks with the palestinians\n",
            "\n",
            "trumps whirlwind day of appearances around the nations capital was intended in part to head off an establishment push to deny him the republican partys nomination but in the post meeting the billionaire mogul also made clear that he would not be beholden to the gops longheld orthodoxies\n",
            "\n",
            "during the hourlong discussion during which he revealed five of his foreign policy advisers trump advocated a light footprint in the world in spite of unrest in the middle east and elsewhere he said the united states must look inward and steer its resources toward rebuilding the nations crumbling infrastructure\n",
            "\n",
            "at what point do you say hey we have to take care of ourselves  trump said in the editorial board meeting i know the outer world exists and ill be very cognizant of that but at the same time our country is disintegrating large sections of it especially the inner cities\n",
            "\n",
            "trump said us involvement in nato may need to be significantly diminished in the coming years breaking with nearly seven decades of consensus in washington we certainly cant afford to do this anymore he said adding later nato is costing us a fortune and yes were protecting europe with nato but were spending a lot of money\n",
            "\n",
            "a transcript of donald trumps meeting with the washington post editorial board\n",
            "\n",
            "throughout his unlikely campaign trumps unpredictable incendiary persona has been his rocket fuel but with the nomination now within his reach he is trying at times to round out his sharp edges to convince his partys leaders  not to mention generalelection voters  that he has the temperament and knowledge to be president\n",
            "\n",
            "this was one of trumps goals as he addressed aipacs annual conference in washington for perhaps the first time in his campaign trump read from a prepared text on teleprompters  a device he has colorfully mocked other politicians for using\n",
            "\n",
            "on israel trump mostly hewed to the party line giving a fullthroated defense of the nation and its interests and arguing that no candidate is a more forceful champion of the jewish state his eyes pinging back and forth between the teleprompter screens trump embellished his prepared text only to deliver a few criticisms of president obama and his firstterm secretary of state hillary clinton the democratic presidential frontrunner\n",
            "\n",
            "when i become president the days of treating israel like a secondclass citizen will end on day one trump vowed he received enthusiastic applause from the crowd of thousands and the muchrumored walkouts during his speech were either called off or went unnoticed in the cavernous verizon center arena\n",
            "\n",
            "earlier monday trump sought to cultivate ties with his partys establishment at a private luncheon he hosted on capitol hill it was attended by about two dozen republicans including influential conservatives in congress and prominent figures from gop policy and lobbying circles\n",
            "\n",
            "those with whom he met directly urged trump to be more presidential according to one attendee this person who like others spoke on the condition of anonymity to relate details of the closed session described it as a very serious conversation adding this was the donald trump who talks with bankers not the donald trump who is on the stage\n",
            "\n",
            "trump also sought to showcase his business acumen and dealmaking prowess he staged an afternoon news conference at the historic old post office pavilion which his real estate company is turning into a trump international hotel a few blocks from the white house on pennsylvania avenue the candidate flanked by employees wearing hard hats led journalists on a tour of the construction zone\n",
            "\n",
            "trumps visit to washington comes amid an intensified effort by some in the republican establishment including 2012 presidential nominee mitt romney to deny him the nomination by forcing a contested convention at which the party could rally around an alternative\n",
            "\n",
            "at his luncheon meeting trump warned party leaders against using parliamentary maneuvers to block his nomination he later told reporters that he had a productive conversation recently with house speaker paul d ryan rwis and that he has many millions of people behind me\n",
            "\n",
            "now they can play games and they can play cute trump said of ryan and other gop leaders i can only take ryan at face value i understand duplicity i understand a lot of things but he called me last week he could not have been nicer i spoke with mitch mcconnell he could not have been nicer if people want to be smart they should embrace this movement\n",
            "\n",
            "neither ryan nor mcconnell rky the senate majority leader attended mondays meeting with trump it was held at jones day the law firm of donald f mcgahn a trump campaign attorney and was convened in part by sen jeff sessions rala a key trump ally\n",
            "\n",
            "attendees included heritage foundation president jim demint a former senator from south carolina and a conservative movement leader as well as sen tom cotton rark former house speaker newt gingrich rga and former house appropriations committee chairman bob livingston rla a group of house members who have endorsed trump also attended\n",
            "\n",
            "we met with senator sessions and some of the great people in washington trump said we had a really good meeting    they cant believe how far weve come because you know i think a lot of people maybe wouldnt have predicted that\n",
            "\n",
            "trump began the day at the post where his ontherecord meeting with the editorial board covered media libel laws violence at his rallies and climate change as well as foreign policy\n",
            "\n",
            "for the first time trump listed members of a team chaired by sessions that is counseling him on foreign affairs and helping to shape his policies keith kellogg carter page george papadopoulos walid phares and joseph e schmitz all are relatively little known in foreign policy circles and several have ties to the george w bush administration\n",
            "\n",
            "trump praised george p shultz who served as president ronald reagans secretary of state as a model diplomat and on the subject of russias aggression in ukraine said americas allies are not doing anything\n",
            "\n",
            "ukraine is a country that affects us far less than it affects other countries in nato and yet were doing all of the lifting trump said theyre not doing anything and i say why is it that germanys not dealing with nato on ukraine    why are we always the one thats leading potentially the third world war with russia \n",
            "\n",
            "while the obama administration has faced pressure from congressional critics who have advocated for a more active us role in supporting ukraine the us military has limited its assistance to nonlethal equipment such as vehicles and nightvision gear european nations have taken the lead in crafting a fragile ceasefire designed to decrease hostility between ukrainian forces and russianbacked separatists\n",
            "\n",
            "trump sounded a similar note in discussing the us presence in the pacific he questioned the value of massive military investments in asia and wondered aloud whether the united states still is capable of being an effective peacekeeping force there\n",
            "\n",
            "south korea is very rich great industrial country and yet were not reimbursed fairly for what we do trump said were constantly sending our ships sending our planes doing our war games  were reimbursed a fraction of what this is all costing\n",
            "\n",
            "such talk is likely to trigger anxiety in south korea where a us force of 28000 has provided a strong deterrent to north korean threats for decades\n",
            "\n",
            "asked whether the united states benefits from its involvement in asia trump replied personally i dont think so he added i think we were a very powerful very wealthy country and were a poor country now were a debtor nation\n",
            "\n",
            "jenna johnson paul kane missy ryan and david weigel contributed to this report\n"
          ]
        }
      ],
      "source": [
        "#Single Case Testing for checking stopwords\n",
        "print(test_case)"
      ]
    },
    {
      "cell_type": "markdown",
      "metadata": {
        "id": "g14GbyIMwE3A"
      },
      "source": [
        "This code, with the test_case variable, does remove the stop words and clean up the text. First, it converts the text into words separated by a space. After that, it initializes an empty list named final_test, where the final cleaned words are to be stored. The code runs through the split text; it actually runs through each word after a whitespace and runs through each word to check if it is either empty, contains a carriage return or newline characters (\\r\n",
        "), or is found in the list of stop words. If any of these criteria are not met, then it removes the term from the final list. Now the term would be added to final_test. Finally, it appends the cleaned words list, containing the results of stop words removal and other text cleaning steps.\n",
        "\n",
        "\n",
        "\n"
      ]
    },
    {
      "cell_type": "code",
      "execution_count": null,
      "metadata": {
        "colab": {
          "base_uri": "https://localhost:8080/"
        },
        "id": "OgTT4kExwFF5",
        "outputId": "09f12c93-d57a-427c-805d-e6aedc1c676b"
      },
      "outputs": [
        {
          "output_type": "stream",
          "name": "stdout",
          "text": [
            "['donald', 'trump', 'endorsed', 'unabashedly', 'noninterventionist', 'approach', 'world', 'affairs', 'monday', 'daylong', 'tour', 'washington', 'casting', 'doubt', 'need', 'north', 'atlantic', 'treaty', 'organization', 'expressing', 'skepticism', 'muscular', 'us', 'military', 'presence', 'asia', 'foreign', 'policy', 'positions', 'outlined', 'meeting', 'editorial', 'board', 'washington', 'post', 'came', 'day', 'trump', 'set', 'aside', 'guerrilla', 'tactics', 'showman', 'bravado', 'powered', 'campaign', 'appear', 'wouldbe', 'presidential', 'nominee', 'explaining', 'policies', 'accepting', 'counsel', 'building', 'bridges', 'republican', 'elites', 'monday', 'night', 'trump', 'delivered', 'scripted', 'address', 'front', 'american', 'israel', 'public', 'affairs', 'committee', 'prompting', 'ovations', 'pledges', 'stand', 'israel', 'take', 'hard', 'line', 'peace', 'talks', 'palestinians', 'trumps', 'whirlwind', 'day', 'appearances', 'around', 'nations', 'capital', 'intended', 'part', 'head', 'establishment', 'push', 'deny', 'republican', 'partys', 'nomination', 'post', 'meeting', 'billionaire', 'mogul', 'also', 'made', 'clear', 'would', 'beholden', 'gops', 'longheld', 'orthodoxies', 'hourlong', 'discussion', 'revealed', 'five', 'foreign', 'policy', 'advisers', 'trump', 'advocated', 'light', 'footprint', 'world', 'spite', 'unrest', 'middle', 'east', 'elsewhere', 'said', 'united', 'states', 'must', 'look', 'inward', 'steer', 'resources', 'toward', 'rebuilding', 'nations', 'crumbling', 'infrastructure', 'point', 'say', 'hey', 'take', 'care', 'trump', 'said', 'editorial', 'board', 'meeting', 'know', 'outer', 'world', 'exists', 'ill', 'cognizant', 'time', 'country', 'disintegrating', 'large', 'sections', 'especially', 'inner', 'cities', 'trump', 'said', 'us', 'involvement', 'nato', 'may', 'need', 'significantly', 'diminished', 'coming', 'years', 'breaking', 'nearly', 'seven', 'decades', 'consensus', 'washington', 'certainly', 'cant', 'afford', 'anymore', 'said', 'adding', 'later', 'nato', 'costing', 'us', 'fortune', 'yes', 'protecting', 'europe', 'nato', 'spending', 'lot', 'money', 'transcript', 'donald', 'trumps', 'meeting', 'washington', 'post', 'editorial', 'board', 'throughout', 'unlikely', 'campaign', 'trumps', 'unpredictable', 'incendiary', 'persona', 'rocket', 'fuel', 'nomination', 'within', 'reach', 'trying', 'times', 'round', 'sharp', 'edges', 'convince', 'partys', 'leaders', 'mention', 'generalelection', 'voters', 'temperament', 'knowledge', 'president', 'one', 'trumps', 'goals', 'addressed', 'aipacs', 'annual', 'conference', 'washington', 'perhaps', 'first', 'time', 'campaign', 'trump', 'read', 'prepared', 'text', 'teleprompters', 'device', 'colorfully', 'mocked', 'politicians', 'using', 'israel', 'trump', 'mostly', 'hewed', 'party', 'line', 'giving', 'fullthroated', 'defense', 'nation', 'interests', 'arguing', 'candidate', 'forceful', 'champion', 'jewish', 'state', 'eyes', 'pinging', 'back', 'forth', 'teleprompter', 'screens', 'trump', 'embellished', 'prepared', 'text', 'deliver', 'criticisms', 'president', 'obama', 'firstterm', 'secretary', 'state', 'hillary', 'clinton', 'democratic', 'presidential', 'frontrunner', 'become', 'president', 'days', 'treating', 'israel', 'like', 'secondclass', 'citizen', 'end', 'day', 'one', 'trump', 'vowed', 'received', 'enthusiastic', 'applause', 'crowd', 'thousands', 'muchrumored', 'walkouts', 'speech', 'either', 'called', 'went', 'unnoticed', 'cavernous', 'verizon', 'center', 'arena', 'earlier', 'monday', 'trump', 'sought', 'cultivate', 'ties', 'partys', 'establishment', 'private', 'luncheon', 'hosted', 'capitol', 'hill', 'attended', 'two', 'dozen', 'republicans', 'including', 'influential', 'conservatives', 'congress', 'prominent', 'figures', 'gop', 'policy', 'lobbying', 'circles', 'met', 'directly', 'urged', 'trump', 'presidential', 'according', 'one', 'attendee', 'person', 'like', 'others', 'spoke', 'condition', 'anonymity', 'relate', 'details', 'closed', 'session', 'described', 'serious', 'conversation', 'adding', 'donald', 'trump', 'talks', 'bankers', 'donald', 'trump', 'stage', 'trump', 'also', 'sought', 'showcase', 'business', 'acumen', 'dealmaking', 'prowess', 'staged', 'afternoon', 'news', 'conference', 'historic', 'old', 'post', 'office', 'pavilion', 'real', 'estate', 'company', 'turning', 'trump', 'international', 'hotel', 'blocks', 'white', 'house', 'pennsylvania', 'avenue', 'candidate', 'flanked', 'employees', 'wearing', 'hard', 'hats', 'led', 'journalists', 'tour', 'construction', 'zone', 'trumps', 'visit', 'washington', 'comes', 'amid', 'intensified', 'effort', 'republican', 'establishment', 'including', '2012', 'presidential', 'nominee', 'mitt', 'romney', 'deny', 'nomination', 'forcing', 'contested', 'convention', 'party', 'could', 'rally', 'around', 'alternative', 'luncheon', 'meeting', 'trump', 'warned', 'party', 'leaders', 'using', 'parliamentary', 'maneuvers', 'block', 'nomination', 'later', 'told', 'reporters', 'productive', 'conversation', 'recently', 'house', 'speaker', 'paul', 'ryan', 'rwis', 'many', 'millions', 'people', 'behind', 'play', 'games', 'play', 'cute', 'trump', 'said', 'ryan', 'gop', 'leaders', 'take', 'ryan', 'face', 'value', 'understand', 'duplicity', 'understand', 'lot', 'things', 'called', 'last', 'week', 'could', 'nicer', 'spoke', 'mitch', 'mcconnell', 'could', 'nicer', 'people', 'want', 'smart', 'embrace', 'movement', 'neither', 'ryan', 'mcconnell', 'rky', 'senate', 'majority', 'leader', 'attended', 'mondays', 'meeting', 'trump', 'held', 'jones', 'day', 'law', 'firm', 'donald', 'f', 'mcgahn', 'trump', 'campaign', 'attorney', 'convened', 'part', 'sen', 'jeff', 'sessions', 'rala', 'key', 'trump', 'ally', 'attendees', 'included', 'heritage', 'foundation', 'president', 'jim', 'demint', 'former', 'senator', 'south', 'carolina', 'conservative', 'movement', 'leader', 'well', 'sen', 'tom', 'cotton', 'rark', 'former', 'house', 'speaker', 'newt', 'gingrich', 'rga', 'former', 'house', 'appropriations', 'committee', 'chairman', 'bob', 'livingston', 'rla', 'group', 'house', 'members', 'endorsed', 'trump', 'also', 'attended', 'met', 'senator', 'sessions', 'great', 'people', 'washington', 'trump', 'said', 'really', 'good', 'meeting', 'cant', 'believe', 'far', 'weve', 'come', 'know', 'think', 'lot', 'people', 'maybe', 'wouldnt', 'predicted', 'trump', 'began', 'day', 'post', 'ontherecord', 'meeting', 'editorial', 'board', 'covered', 'media', 'libel', 'laws', 'violence', 'rallies', 'climate', 'change', 'well', 'foreign', 'policy', 'first', 'time', 'trump', 'listed', 'members', 'team', 'chaired', 'sessions', 'counseling', 'foreign', 'affairs', 'helping', 'shape', 'policies', 'keith', 'kellogg', 'carter', 'page', 'george', 'papadopoulos', 'walid', 'phares', 'joseph', 'e', 'schmitz', 'relatively', 'little', 'known', 'foreign', 'policy', 'circles', 'several', 'ties', 'george', 'w', 'bush', 'administration', 'trump', 'praised', 'george', 'p', 'shultz', 'served', 'president', 'ronald', 'reagans', 'secretary', 'state', 'model', 'diplomat', 'subject', 'russias', 'aggression', 'ukraine', 'said', 'americas', 'allies', 'anything', 'ukraine', 'country', 'affects', 'us', 'far', 'less', 'affects', 'countries', 'nato', 'yet', 'lifting', 'trump', 'said', 'theyre', 'anything', 'say', 'germanys', 'dealing', 'nato', 'ukraine', 'always', 'one', 'thats', 'leading', 'potentially', 'third', 'world', 'war', 'russia', 'obama', 'administration', 'faced', 'pressure', 'congressional', 'critics', 'advocated', 'active', 'us', 'role', 'supporting', 'ukraine', 'us', 'military', 'limited', 'assistance', 'nonlethal', 'equipment', 'vehicles', 'nightvision', 'gear', 'european', 'nations', 'taken', 'lead', 'crafting', 'fragile', 'ceasefire', 'designed', 'decrease', 'hostility', 'ukrainian', 'forces', 'russianbacked', 'separatists', 'trump', 'sounded', 'similar', 'note', 'discussing', 'us', 'presence', 'pacific', 'questioned', 'value', 'massive', 'military', 'investments', 'asia', 'wondered', 'aloud', 'whether', 'united', 'states', 'still', 'capable', 'effective', 'peacekeeping', 'force', 'south', 'korea', 'rich', 'great', 'industrial', 'country', 'yet', 'reimbursed', 'fairly', 'trump', 'said', 'constantly', 'sending', 'ships', 'sending', 'planes', 'war', 'games', 'reimbursed', 'fraction', 'costing', 'talk', 'likely', 'trigger', 'anxiety', 'south', 'korea', 'us', 'force', '28000', 'provided', 'strong', 'deterrent', 'north', 'korean', 'threats', 'decades', 'asked', 'whether', 'united', 'states', 'benefits', 'involvement', 'asia', 'trump', 'replied', 'personally', 'dont', 'think', 'added', 'think', 'powerful', 'wealthy', 'country', 'poor', 'country', 'debtor', 'nation', 'jenna', 'johnson', 'paul', 'kane', 'missy', 'ryan', 'david', 'weigel', 'contributed', 'report']\n"
          ]
        }
      ],
      "source": [
        "#split the text per space\n",
        "#print(test_case.split(' '))\n",
        "#initialize empty list for finalization of stopword removal\n",
        "final_test =[]\n",
        "#remove all empty and \\r\\n\n",
        "for word in test_case.split():\n",
        "    if word =='' or '\\r\\n' in word or word in stop_words:\n",
        "        None\n",
        "    else:\n",
        "        final_test.append(word)\n",
        "print(final_test)"
      ]
    },
    {
      "cell_type": "markdown",
      "metadata": {
        "id": "kQoQw51Uwjc7"
      },
      "source": [
        "The following line of code makes the list of cleaned words in final_test into a space-separated string. The ''.join(final_test) script is used to join all the different cleaned words combined in the final_test list into readable text for further analysis and processing.\n"
      ]
    },
    {
      "cell_type": "code",
      "execution_count": null,
      "metadata": {
        "colab": {
          "base_uri": "https://localhost:8080/",
          "height": 157
        },
        "id": "MxPooHJTwjPp",
        "outputId": "e2e47985-b7a1-4c81-bfa2-68ea5c007620"
      },
      "outputs": [
        {
          "output_type": "execute_result",
          "data": {
            "text/plain": [
              "'donald trump endorsed unabashedly noninterventionist approach world affairs monday daylong tour washington casting doubt need north atlantic treaty organization expressing skepticism muscular us military presence asia foreign policy positions outlined meeting editorial board washington post came day trump set aside guerrilla tactics showman bravado powered campaign appear wouldbe presidential nominee explaining policies accepting counsel building bridges republican elites monday night trump delivered scripted address front american israel public affairs committee prompting ovations pledges stand israel take hard line peace talks palestinians trumps whirlwind day appearances around nations capital intended part head establishment push deny republican partys nomination post meeting billionaire mogul also made clear would beholden gops longheld orthodoxies hourlong discussion revealed five foreign policy advisers trump advocated light footprint world spite unrest middle east elsewhere said united states must look inward steer resources toward rebuilding nations crumbling infrastructure point say hey take care trump said editorial board meeting know outer world exists ill cognizant time country disintegrating large sections especially inner cities trump said us involvement nato may need significantly diminished coming years breaking nearly seven decades consensus washington certainly cant afford anymore said adding later nato costing us fortune yes protecting europe nato spending lot money transcript donald trumps meeting washington post editorial board throughout unlikely campaign trumps unpredictable incendiary persona rocket fuel nomination within reach trying times round sharp edges convince partys leaders mention generalelection voters temperament knowledge president one trumps goals addressed aipacs annual conference washington perhaps first time campaign trump read prepared text teleprompters device colorfully mocked politicians using israel trump mostly hewed party line giving fullthroated defense nation interests arguing candidate forceful champion jewish state eyes pinging back forth teleprompter screens trump embellished prepared text deliver criticisms president obama firstterm secretary state hillary clinton democratic presidential frontrunner become president days treating israel like secondclass citizen end day one trump vowed received enthusiastic applause crowd thousands muchrumored walkouts speech either called went unnoticed cavernous verizon center arena earlier monday trump sought cultivate ties partys establishment private luncheon hosted capitol hill attended two dozen republicans including influential conservatives congress prominent figures gop policy lobbying circles met directly urged trump presidential according one attendee person like others spoke condition anonymity relate details closed session described serious conversation adding donald trump talks bankers donald trump stage trump also sought showcase business acumen dealmaking prowess staged afternoon news conference historic old post office pavilion real estate company turning trump international hotel blocks white house pennsylvania avenue candidate flanked employees wearing hard hats led journalists tour construction zone trumps visit washington comes amid intensified effort republican establishment including 2012 presidential nominee mitt romney deny nomination forcing contested convention party could rally around alternative luncheon meeting trump warned party leaders using parliamentary maneuvers block nomination later told reporters productive conversation recently house speaker paul ryan rwis many millions people behind play games play cute trump said ryan gop leaders take ryan face value understand duplicity understand lot things called last week could nicer spoke mitch mcconnell could nicer people want smart embrace movement neither ryan mcconnell rky senate majority leader attended mondays meeting trump held jones day law firm donald f mcgahn trump campaign attorney convened part sen jeff sessions rala key trump ally attendees included heritage foundation president jim demint former senator south carolina conservative movement leader well sen tom cotton rark former house speaker newt gingrich rga former house appropriations committee chairman bob livingston rla group house members endorsed trump also attended met senator sessions great people washington trump said really good meeting cant believe far weve come know think lot people maybe wouldnt predicted trump began day post ontherecord meeting editorial board covered media libel laws violence rallies climate change well foreign policy first time trump listed members team chaired sessions counseling foreign affairs helping shape policies keith kellogg carter page george papadopoulos walid phares joseph e schmitz relatively little known foreign policy circles several ties george w bush administration trump praised george p shultz served president ronald reagans secretary state model diplomat subject russias aggression ukraine said americas allies anything ukraine country affects us far less affects countries nato yet lifting trump said theyre anything say germanys dealing nato ukraine always one thats leading potentially third world war russia obama administration faced pressure congressional critics advocated active us role supporting ukraine us military limited assistance nonlethal equipment vehicles nightvision gear european nations taken lead crafting fragile ceasefire designed decrease hostility ukrainian forces russianbacked separatists trump sounded similar note discussing us presence pacific questioned value massive military investments asia wondered aloud whether united states still capable effective peacekeeping force south korea rich great industrial country yet reimbursed fairly trump said constantly sending ships sending planes war games reimbursed fraction costing talk likely trigger anxiety south korea us force 28000 provided strong deterrent north korean threats decades asked whether united states benefits involvement asia trump replied personally dont think added think powerful wealthy country poor country debtor nation jenna johnson paul kane missy ryan david weigel contributed report'"
            ],
            "application/vnd.google.colaboratory.intrinsic+json": {
              "type": "string"
            }
          },
          "metadata": {},
          "execution_count": 55
        }
      ],
      "source": [
        "#lets try to join the final test\n",
        "' '.join(final_test)"
      ]
    },
    {
      "cell_type": "markdown",
      "metadata": {
        "id": "LUdMav9cxBxF"
      },
      "source": [
        "Same as the last one but this one is a function that will apply and will remove all of the stopword in the whole dataset."
      ]
    },
    {
      "cell_type": "code",
      "execution_count": null,
      "metadata": {
        "id": "EN5eywINxBXf"
      },
      "outputs": [],
      "source": [
        "#make a function pipeline:\n",
        "def remove_stopwords(text,stopwords):\n",
        "    #make a temporary list\n",
        "    temp_fnl = []\n",
        "    for word in text.split():\n",
        "        if word =='' or '\\r\\n' in word or word in stopwords:\n",
        "            None\n",
        "        else:\n",
        "            temp_fnl.append(word)\n",
        "    return ' '.join(temp_fnl)"
      ]
    },
    {
      "cell_type": "markdown",
      "metadata": {
        "id": "u1QCHGHyyVXK"
      },
      "source": [
        "The code above applies the remove_stopwords function to the 'Article' column of the entire DataFrame, df. Using the apply method and a lambda, the 'Article' column applies to each entry to process out stopwords and surplus characters as per the list stop_words. It then reassigns back the cleaned text to the column 'Article'. The improved DataFrame then invokes head(10), which will print the first ten rows. It can enable the confirmation of the cleaned text data and the results of the stop-word removal method.\n"
      ]
    },
    {
      "cell_type": "code",
      "execution_count": null,
      "metadata": {
        "colab": {
          "base_uri": "https://localhost:8080/",
          "height": 363
        },
        "id": "_is15PsqyVi-",
        "outputId": "71840a71-6438-4433-e85e-7119117833fe"
      },
      "outputs": [
        {
          "output_type": "execute_result",
          "data": {
            "text/plain": [
              "   Unnamed: 0                                              title  \\\n",
              "0           0  A whirlwind day in D.C. showcases Trump’s unor...   \n",
              "1           1  In Baltimore's call for federal police probe, ...   \n",
              "2           2  Trump Proudly Declares: Most Of The People I’v...   \n",
              "3           3  Inside the Trump-Bush melodrama: Decades of te...   \n",
              "4           4      Shutdown clash to return in force by December   \n",
              "5           5           Can the great nuclear war be prevented ?   \n",
              "6           6  US charges 61 with India-based scam involving ...   \n",
              "7           7  Democratic debate 2015: Hillary Clinton and Be...   \n",
              "8           8  What DNC Donors REALLY think of African Americans   \n",
              "9           9  What happens to delegates won by Rubio, other ...   \n",
              "\n",
              "                                                text label  \n",
              "0  donald trump endorsed unabashedly nonintervent...  REAL  \n",
              "1  justice department investigations adversarial ...  REAL  \n",
              "2  trump proudly declares people ive insulted des...  FAKE  \n",
              "3  donald trump spent day january 2014 hobnobbing...  REAL  \n",
              "4  notable names include ray washburne commerce d...  REAL  \n",
              "5  current concerns n23 october 22th 2016 great n...  FAKE  \n",
              "6  us charges 61 indiabased scam involving 15000 ...  FAKE  \n",
              "7  watch first democratic presidential debate tue...  REAL  \n",
              "8  video really disturbing african americans amer...  FAKE  \n",
              "9  marco rubio dropping republican presidential r...  REAL  "
            ],
            "text/html": [
              "\n",
              "  <div id=\"df-47e5ef9b-f70f-4be3-a210-d836db73c7f9\" class=\"colab-df-container\">\n",
              "    <div>\n",
              "<style scoped>\n",
              "    .dataframe tbody tr th:only-of-type {\n",
              "        vertical-align: middle;\n",
              "    }\n",
              "\n",
              "    .dataframe tbody tr th {\n",
              "        vertical-align: top;\n",
              "    }\n",
              "\n",
              "    .dataframe thead th {\n",
              "        text-align: right;\n",
              "    }\n",
              "</style>\n",
              "<table border=\"1\" class=\"dataframe\">\n",
              "  <thead>\n",
              "    <tr style=\"text-align: right;\">\n",
              "      <th></th>\n",
              "      <th>Unnamed: 0</th>\n",
              "      <th>title</th>\n",
              "      <th>text</th>\n",
              "      <th>label</th>\n",
              "    </tr>\n",
              "  </thead>\n",
              "  <tbody>\n",
              "    <tr>\n",
              "      <th>0</th>\n",
              "      <td>0</td>\n",
              "      <td>A whirlwind day in D.C. showcases Trump’s unor...</td>\n",
              "      <td>donald trump endorsed unabashedly nonintervent...</td>\n",
              "      <td>REAL</td>\n",
              "    </tr>\n",
              "    <tr>\n",
              "      <th>1</th>\n",
              "      <td>1</td>\n",
              "      <td>In Baltimore's call for federal police probe, ...</td>\n",
              "      <td>justice department investigations adversarial ...</td>\n",
              "      <td>REAL</td>\n",
              "    </tr>\n",
              "    <tr>\n",
              "      <th>2</th>\n",
              "      <td>2</td>\n",
              "      <td>Trump Proudly Declares: Most Of The People I’v...</td>\n",
              "      <td>trump proudly declares people ive insulted des...</td>\n",
              "      <td>FAKE</td>\n",
              "    </tr>\n",
              "    <tr>\n",
              "      <th>3</th>\n",
              "      <td>3</td>\n",
              "      <td>Inside the Trump-Bush melodrama: Decades of te...</td>\n",
              "      <td>donald trump spent day january 2014 hobnobbing...</td>\n",
              "      <td>REAL</td>\n",
              "    </tr>\n",
              "    <tr>\n",
              "      <th>4</th>\n",
              "      <td>4</td>\n",
              "      <td>Shutdown clash to return in force by December</td>\n",
              "      <td>notable names include ray washburne commerce d...</td>\n",
              "      <td>REAL</td>\n",
              "    </tr>\n",
              "    <tr>\n",
              "      <th>5</th>\n",
              "      <td>5</td>\n",
              "      <td>Can the great nuclear war be prevented ?</td>\n",
              "      <td>current concerns n23 october 22th 2016 great n...</td>\n",
              "      <td>FAKE</td>\n",
              "    </tr>\n",
              "    <tr>\n",
              "      <th>6</th>\n",
              "      <td>6</td>\n",
              "      <td>US charges 61 with India-based scam involving ...</td>\n",
              "      <td>us charges 61 indiabased scam involving 15000 ...</td>\n",
              "      <td>FAKE</td>\n",
              "    </tr>\n",
              "    <tr>\n",
              "      <th>7</th>\n",
              "      <td>7</td>\n",
              "      <td>Democratic debate 2015: Hillary Clinton and Be...</td>\n",
              "      <td>watch first democratic presidential debate tue...</td>\n",
              "      <td>REAL</td>\n",
              "    </tr>\n",
              "    <tr>\n",
              "      <th>8</th>\n",
              "      <td>8</td>\n",
              "      <td>What DNC Donors REALLY think of African Americans</td>\n",
              "      <td>video really disturbing african americans amer...</td>\n",
              "      <td>FAKE</td>\n",
              "    </tr>\n",
              "    <tr>\n",
              "      <th>9</th>\n",
              "      <td>9</td>\n",
              "      <td>What happens to delegates won by Rubio, other ...</td>\n",
              "      <td>marco rubio dropping republican presidential r...</td>\n",
              "      <td>REAL</td>\n",
              "    </tr>\n",
              "  </tbody>\n",
              "</table>\n",
              "</div>\n",
              "    <div class=\"colab-df-buttons\">\n",
              "\n",
              "  <div class=\"colab-df-container\">\n",
              "    <button class=\"colab-df-convert\" onclick=\"convertToInteractive('df-47e5ef9b-f70f-4be3-a210-d836db73c7f9')\"\n",
              "            title=\"Convert this dataframe to an interactive table.\"\n",
              "            style=\"display:none;\">\n",
              "\n",
              "  <svg xmlns=\"http://www.w3.org/2000/svg\" height=\"24px\" viewBox=\"0 -960 960 960\">\n",
              "    <path d=\"M120-120v-720h720v720H120Zm60-500h600v-160H180v160Zm220 220h160v-160H400v160Zm0 220h160v-160H400v160ZM180-400h160v-160H180v160Zm440 0h160v-160H620v160ZM180-180h160v-160H180v160Zm440 0h160v-160H620v160Z\"/>\n",
              "  </svg>\n",
              "    </button>\n",
              "\n",
              "  <style>\n",
              "    .colab-df-container {\n",
              "      display:flex;\n",
              "      gap: 12px;\n",
              "    }\n",
              "\n",
              "    .colab-df-convert {\n",
              "      background-color: #E8F0FE;\n",
              "      border: none;\n",
              "      border-radius: 50%;\n",
              "      cursor: pointer;\n",
              "      display: none;\n",
              "      fill: #1967D2;\n",
              "      height: 32px;\n",
              "      padding: 0 0 0 0;\n",
              "      width: 32px;\n",
              "    }\n",
              "\n",
              "    .colab-df-convert:hover {\n",
              "      background-color: #E2EBFA;\n",
              "      box-shadow: 0px 1px 2px rgba(60, 64, 67, 0.3), 0px 1px 3px 1px rgba(60, 64, 67, 0.15);\n",
              "      fill: #174EA6;\n",
              "    }\n",
              "\n",
              "    .colab-df-buttons div {\n",
              "      margin-bottom: 4px;\n",
              "    }\n",
              "\n",
              "    [theme=dark] .colab-df-convert {\n",
              "      background-color: #3B4455;\n",
              "      fill: #D2E3FC;\n",
              "    }\n",
              "\n",
              "    [theme=dark] .colab-df-convert:hover {\n",
              "      background-color: #434B5C;\n",
              "      box-shadow: 0px 1px 3px 1px rgba(0, 0, 0, 0.15);\n",
              "      filter: drop-shadow(0px 1px 2px rgba(0, 0, 0, 0.3));\n",
              "      fill: #FFFFFF;\n",
              "    }\n",
              "  </style>\n",
              "\n",
              "    <script>\n",
              "      const buttonEl =\n",
              "        document.querySelector('#df-47e5ef9b-f70f-4be3-a210-d836db73c7f9 button.colab-df-convert');\n",
              "      buttonEl.style.display =\n",
              "        google.colab.kernel.accessAllowed ? 'block' : 'none';\n",
              "\n",
              "      async function convertToInteractive(key) {\n",
              "        const element = document.querySelector('#df-47e5ef9b-f70f-4be3-a210-d836db73c7f9');\n",
              "        const dataTable =\n",
              "          await google.colab.kernel.invokeFunction('convertToInteractive',\n",
              "                                                    [key], {});\n",
              "        if (!dataTable) return;\n",
              "\n",
              "        const docLinkHtml = 'Like what you see? Visit the ' +\n",
              "          '<a target=\"_blank\" href=https://colab.research.google.com/notebooks/data_table.ipynb>data table notebook</a>'\n",
              "          + ' to learn more about interactive tables.';\n",
              "        element.innerHTML = '';\n",
              "        dataTable['output_type'] = 'display_data';\n",
              "        await google.colab.output.renderOutput(dataTable, element);\n",
              "        const docLink = document.createElement('div');\n",
              "        docLink.innerHTML = docLinkHtml;\n",
              "        element.appendChild(docLink);\n",
              "      }\n",
              "    </script>\n",
              "  </div>\n",
              "\n",
              "\n",
              "<div id=\"df-21f90df1-9bbc-4557-ac81-1d8f991a7dae\">\n",
              "  <button class=\"colab-df-quickchart\" onclick=\"quickchart('df-21f90df1-9bbc-4557-ac81-1d8f991a7dae')\"\n",
              "            title=\"Suggest charts\"\n",
              "            style=\"display:none;\">\n",
              "\n",
              "<svg xmlns=\"http://www.w3.org/2000/svg\" height=\"24px\"viewBox=\"0 0 24 24\"\n",
              "     width=\"24px\">\n",
              "    <g>\n",
              "        <path d=\"M19 3H5c-1.1 0-2 .9-2 2v14c0 1.1.9 2 2 2h14c1.1 0 2-.9 2-2V5c0-1.1-.9-2-2-2zM9 17H7v-7h2v7zm4 0h-2V7h2v10zm4 0h-2v-4h2v4z\"/>\n",
              "    </g>\n",
              "</svg>\n",
              "  </button>\n",
              "\n",
              "<style>\n",
              "  .colab-df-quickchart {\n",
              "      --bg-color: #E8F0FE;\n",
              "      --fill-color: #1967D2;\n",
              "      --hover-bg-color: #E2EBFA;\n",
              "      --hover-fill-color: #174EA6;\n",
              "      --disabled-fill-color: #AAA;\n",
              "      --disabled-bg-color: #DDD;\n",
              "  }\n",
              "\n",
              "  [theme=dark] .colab-df-quickchart {\n",
              "      --bg-color: #3B4455;\n",
              "      --fill-color: #D2E3FC;\n",
              "      --hover-bg-color: #434B5C;\n",
              "      --hover-fill-color: #FFFFFF;\n",
              "      --disabled-bg-color: #3B4455;\n",
              "      --disabled-fill-color: #666;\n",
              "  }\n",
              "\n",
              "  .colab-df-quickchart {\n",
              "    background-color: var(--bg-color);\n",
              "    border: none;\n",
              "    border-radius: 50%;\n",
              "    cursor: pointer;\n",
              "    display: none;\n",
              "    fill: var(--fill-color);\n",
              "    height: 32px;\n",
              "    padding: 0;\n",
              "    width: 32px;\n",
              "  }\n",
              "\n",
              "  .colab-df-quickchart:hover {\n",
              "    background-color: var(--hover-bg-color);\n",
              "    box-shadow: 0 1px 2px rgba(60, 64, 67, 0.3), 0 1px 3px 1px rgba(60, 64, 67, 0.15);\n",
              "    fill: var(--button-hover-fill-color);\n",
              "  }\n",
              "\n",
              "  .colab-df-quickchart-complete:disabled,\n",
              "  .colab-df-quickchart-complete:disabled:hover {\n",
              "    background-color: var(--disabled-bg-color);\n",
              "    fill: var(--disabled-fill-color);\n",
              "    box-shadow: none;\n",
              "  }\n",
              "\n",
              "  .colab-df-spinner {\n",
              "    border: 2px solid var(--fill-color);\n",
              "    border-color: transparent;\n",
              "    border-bottom-color: var(--fill-color);\n",
              "    animation:\n",
              "      spin 1s steps(1) infinite;\n",
              "  }\n",
              "\n",
              "  @keyframes spin {\n",
              "    0% {\n",
              "      border-color: transparent;\n",
              "      border-bottom-color: var(--fill-color);\n",
              "      border-left-color: var(--fill-color);\n",
              "    }\n",
              "    20% {\n",
              "      border-color: transparent;\n",
              "      border-left-color: var(--fill-color);\n",
              "      border-top-color: var(--fill-color);\n",
              "    }\n",
              "    30% {\n",
              "      border-color: transparent;\n",
              "      border-left-color: var(--fill-color);\n",
              "      border-top-color: var(--fill-color);\n",
              "      border-right-color: var(--fill-color);\n",
              "    }\n",
              "    40% {\n",
              "      border-color: transparent;\n",
              "      border-right-color: var(--fill-color);\n",
              "      border-top-color: var(--fill-color);\n",
              "    }\n",
              "    60% {\n",
              "      border-color: transparent;\n",
              "      border-right-color: var(--fill-color);\n",
              "    }\n",
              "    80% {\n",
              "      border-color: transparent;\n",
              "      border-right-color: var(--fill-color);\n",
              "      border-bottom-color: var(--fill-color);\n",
              "    }\n",
              "    90% {\n",
              "      border-color: transparent;\n",
              "      border-bottom-color: var(--fill-color);\n",
              "    }\n",
              "  }\n",
              "</style>\n",
              "\n",
              "  <script>\n",
              "    async function quickchart(key) {\n",
              "      const quickchartButtonEl =\n",
              "        document.querySelector('#' + key + ' button');\n",
              "      quickchartButtonEl.disabled = true;  // To prevent multiple clicks.\n",
              "      quickchartButtonEl.classList.add('colab-df-spinner');\n",
              "      try {\n",
              "        const charts = await google.colab.kernel.invokeFunction(\n",
              "            'suggestCharts', [key], {});\n",
              "      } catch (error) {\n",
              "        console.error('Error during call to suggestCharts:', error);\n",
              "      }\n",
              "      quickchartButtonEl.classList.remove('colab-df-spinner');\n",
              "      quickchartButtonEl.classList.add('colab-df-quickchart-complete');\n",
              "    }\n",
              "    (() => {\n",
              "      let quickchartButtonEl =\n",
              "        document.querySelector('#df-21f90df1-9bbc-4557-ac81-1d8f991a7dae button');\n",
              "      quickchartButtonEl.style.display =\n",
              "        google.colab.kernel.accessAllowed ? 'block' : 'none';\n",
              "    })();\n",
              "  </script>\n",
              "</div>\n",
              "\n",
              "    </div>\n",
              "  </div>\n"
            ],
            "application/vnd.google.colaboratory.intrinsic+json": {
              "type": "dataframe",
              "variable_name": "dataset",
              "summary": "{\n  \"name\": \"dataset\",\n  \"rows\": 6335,\n  \"fields\": [\n    {\n      \"column\": \"Unnamed: 0\",\n      \"properties\": {\n        \"dtype\": \"number\",\n        \"std\": 1828,\n        \"min\": 0,\n        \"max\": 6334,\n        \"num_unique_values\": 6335,\n        \"samples\": [\n          1357,\n          2080,\n          2718\n        ],\n        \"semantic_type\": \"\",\n        \"description\": \"\"\n      }\n    },\n    {\n      \"column\": \"title\",\n      \"properties\": {\n        \"dtype\": \"string\",\n        \"num_unique_values\": 6256,\n        \"samples\": [\n          \"New Wikileaks emails: Bernie is a Jerk, Megyn Kelly a Bimbo and More\",\n          \"Poll: Clinton's Lead Over Trump Slips After Florida Shooting\",\n          \"Obama\\u2019s trip to Ethiopia alarms some human rights activists\"\n        ],\n        \"semantic_type\": \"\",\n        \"description\": \"\"\n      }\n    },\n    {\n      \"column\": \"text\",\n      \"properties\": {\n        \"dtype\": \"string\",\n        \"num_unique_values\": 6058,\n        \"samples\": [\n          \"prolifers taken social media use planned parenthoods campaign hashtag planned parenthood centers supporters across country took facebook twitter encouraging women share planned parenthood helped using hashtag ppshoutyourstory clinics posted messages like one hoping positive participation around country part ppshoutyourstory campaign people around new mexico sharing stories planned parenthood impacted lives participate allout twitter rally shout story planned parenthood means thursday july 16 1230 pm mt save date posted planned parenthood votes colorado facebook page thousands people joined hashtag share stories way organization hoped quick click hashtag displays countless stories women permanently traumatized visits planned parenthood hey planned parenthood born alive one clinics burned mothers womb 18 hrs ppshoutyourstory giannajessen abortion 16 regret every day wish 37 yo grandkids instead regret ppshoutyourstory georgetteforney im married 23 yrs two lovely kiddos successful new business nochildsacrificed ppshoutyourstory conservgal actually women excel wo costing lives babesthats story ppshoutyourstory ppsellsbabyparts kyleenwright let disclose shame two abortions twotwenty years ago unmarried relationship thought would last violent morning sickness revealed child man life 24 mental boy couldnt wouldnt face fatherhood coward afraid lose julie ludlum posted facebook page grief disgust went planned parenthood cavalierly offered video something given options individual counseli swore would never happen ten years later different man scenario time begged please please let keep childi share disgust frustration abortion number two still happened wrote thomas nearly followed death guilt self loathing tempting bridge san diego traffic im life horrible sins redeemed work jesus crossso continue post information planned parenthood ppkillsbabies ppsellsbabyparts defundpp dont standwithpp ludlum use hashtag original post several friends included shared story facebook cultures declarations belief abortion revolves around womans personal choice women depths responding actions potential child never ever sheer choice despite attempts make one ppshoutyourstory sean brendon stewart wrote\",\n          \"originally appeared blog mire following recent piece time magazine eloquently explained america indispensable exceptional theblogmire brings exclusive piece mrs clinton explains indispensable exceptional nation must indispensable exceptional leader warning may contain traces satire theres one core belief guided inspired every step career public service exceptional woman great unselfish compassionate woman paraphrase robert kennedy add advantages clear im indispensable someone others look leadership im really excited im indispensable im become president indispensable nation indispensable nation needs indispensable woman indispensable woman needs indispensable nation match made heaven asking help break glass ceiling november 8th together become even exceptional already makes indispensable im indispensable part love armed forces military greatest history best troops training technology believe travesty using full potential essential everything support men women uniform intend sending brave soldiers important missions around globe day one presidency im indispensable commitment truth throughout career ive always sought stay close truth know theres lot folks say im corrupt know closest tell isnt real hillary ask know best ask husband bill hell tell ask campaign chairman john podesta hell tell ask lloyd blankfein ceo goldman sachs hell tell ask closest allies places like saudi arabia theyll tell tell real hillary commitment honesty fighting corruption second none may even exceptional quality alongside humility im also indispensable network alliances supporters look ever candidate entire history exceptional nation managed get backing entire media corporate america dont think tell something doesnt humbly submit speaks volumes important people exceptional country prepared place trust im indispensable unlike donald trump dont need rely help people like vladimir putin countries like russia help get elected imagine rely putin russia get elected course ive bring putin russia campaign time time want keep bringing putin russia fact reason ive occasionally mentioned putin russia want keep talking putin russia keep taking putin russia trump depending putin russia get elected draw attention putin russia trust way wouldnt bring putin russia im indispensable commitment helping countries get rid dictators establishing democracy peace like libya example came saw died libyans got liberty im indispensable exceptional values take commitment human rights shown one vocal supporters womans right terminate pregnancy right seconds thing inside becomes human take commitment raising money husband shown tireless work clinton foundation making hundreds speeches various organisations take commitment making world better place ive shown time time saying things like love trumps hate doesnt im proud expression advantages comes responsibility need lead world need lead world fail lead leave vacuum lets extremists putin russia haters bigots intolerant putin russia severely backwards julian assanges worldputin russia baskets deplorables take root everywhere course exceptional doesnt mean people dont also something offer maybe unparalleled ability force peace progress prosperity around world intend demonstrate day one presidency standing putin russia showing putin russia whos boss ill never stop good never thats makes great im good im great ill tell one thing ill never stop thats im indispensable lets keep exceptional enjoy article consider helping us russia insider depends donations give 1 10 amount wish make taxdeductible contribution 1000 please visit support page instructions click commenting guidelines fire\",\n          \"bowie md last time sen rand paul rky spoke historically black college around didnt go well paul spoke howard university nearly two years ago trip filled fumbles bungled name edward brooke howard graduate nations first black senator elected since reconstruction asked audience knew naacp founded republicans friday came bowie state university another historically black college time came politician seemed found footing came talking race paul greeted standing ovation points peppered applause audience crosssection races ages people liked say shaniah haskins 18yearold freshman criminal justice major bowie state said shed wanted hear pauls views system simple fact hed change things minorities based race factors including economic status said actually seems like lot ideas past years paul made criminal justice reform one signature issues recently hes tied call reducing arrests changing sentencing laws situation ferguson mo speaking days release scathing department justice report showed ferguson police department engaged systemic pattern racial discrimination shooting two officers paul focused remarks friday reforming criminal justice system spent hour bowie state university 18 miles washington visit underscored one pauls goals ramps universally expected announcement run president reaching young africanamerican voters paul evoked martin luther kings two americas speech said split still exists reforming criminal justice system nation stay divided still significant segregation society paul said ferguson paul said 10000 arrests year total population city frustration boiling isnt due killing unarmed black teenager police death black man selling loose cigarettes new york city longstanding disparities criminal justice system isnt happened year building said call undercurrent unease country still two americas pauls remarks likely preview handle issues race criminal justice jump presidential race often speaks trip made ferguson last year met community leaders discussed unease said found ferguson kings speech dinner american prospect magazine last month youre part said audience include billionaire david koch imagine like poor get 100 fine interest added 200 fine putting people jail civil fines weve got figure justice bowie state paul told stories people put jail unfairly due mandatory minimums couldnt afford fight system sentencing disparities arent purposeful said actual real felony convictions said number one thing prevent people voting said expunging criminal records minor offenses would help economy making easier people get jobs criminal justice lack criminal justice black white problem paul said poverty problem\"\n        ],\n        \"semantic_type\": \"\",\n        \"description\": \"\"\n      }\n    },\n    {\n      \"column\": \"label\",\n      \"properties\": {\n        \"dtype\": \"category\",\n        \"num_unique_values\": 2,\n        \"samples\": [\n          \"FAKE\",\n          \"REAL\"\n        ],\n        \"semantic_type\": \"\",\n        \"description\": \"\"\n      }\n    }\n  ]\n}"
            }
          },
          "metadata": {},
          "execution_count": 57
        }
      ],
      "source": [
        "#apply to the whole dataset\n",
        "dataset['text'] = dataset['text'].apply(lambda x: remove_stopwords(x, stop_words))\n",
        "dataset.head(10)"
      ]
    },
    {
      "cell_type": "markdown",
      "metadata": {
        "id": "uJZ5cukCy5qp"
      },
      "source": [
        "For further inspection if the stopwords are removed in the dataset"
      ]
    },
    {
      "cell_type": "code",
      "execution_count": null,
      "metadata": {
        "colab": {
          "base_uri": "https://localhost:8080/"
        },
        "id": "stxhJSzxy57W",
        "outputId": "2cf5070c-7f95-4fdf-fce7-8f1df64b9d2a"
      },
      "outputs": [
        {
          "output_type": "stream",
          "name": "stdout",
          "text": [
            "0 comments families united prayer thanksgiving day prayer alone comes mind think obamas america told leave god home pledge never crucial time look god nation divided torn apart selfish greed corrupt society leaders lead behind hide dark secrets right plain sightbecause walmart brought us thanksgiving commercial huge reminder good right reminder good foundation made grateful family prayer allcoming together 30second ad world series rates cost walmart 500000 features diversity americas families camaraderie service members gather pray enjoy bonds family commercial showing everyone praying eating great job walmart walmart deplorable jack deplorablejackl november 3 2016 final thoughts america lets come together take moment reflect truly thankful holiday season friends family chance spend time ones love walmart would like give thanks veterans active duty service members home oversees holiday season walmart invited spirit thanksgiving seconds video imagine everyday americans brought seconds thanksgiving lives daily difference would make could change state right everything oneself selfish desires generation selfabsorbed selfie taking kids think cant hard things themit would make huge difference related items\n"
          ]
        }
      ],
      "source": [
        "#For inspection\n",
        "print(dataset['text'][150])"
      ]
    },
    {
      "cell_type": "markdown",
      "metadata": {
        "id": "0zvaMqDtzNjf"
      },
      "source": [
        "# Tokenization"
      ]
    },
    {
      "cell_type": "markdown",
      "metadata": {
        "id": "UzpfEss6zQjP"
      },
      "source": [
        "In the process of text preparation, tokenization segments a text into tokens, which may stand for a word, phrase, or sentence. Tokenizing a sentence like \"Data preprocessing is crucial for analysis\" would result in tokens such as \"Data,\", \"preprocessing,\", \"is,\", \"crucial,\", \"for,\", and \"analysis.\". Generally, the process of breaking down text into smaller parts so algorithms can analyze this text more effectively during tasks like word frequency counting, finding patterns, or building language models.\n",
        "\n",
        "\n",
        "---\n",
        "\n",
        "\n"
      ]
    },
    {
      "cell_type": "markdown",
      "metadata": {
        "id": "dG6FXIe1zTm9"
      },
      "source": [
        "This code import statement is for the Natural Language Toolkit package. The download of the punkt tokenizer models is by using nltk.download('punkt'). The Punkt tokenizer is a pre-trained machine for splitting text into words or phrases. In many text processes, there is a basic requirement to break down the text into manageable parts, such as words or sentences, before further analyses or manipulations can take place.\n"
      ]
    },
    {
      "cell_type": "code",
      "execution_count": null,
      "metadata": {
        "colab": {
          "base_uri": "https://localhost:8080/"
        },
        "id": "ihXsJ2YizT5F",
        "outputId": "1d30fd13-2ac0-4b66-970c-e3b6240d1265"
      },
      "outputs": [
        {
          "output_type": "stream",
          "name": "stderr",
          "text": [
            "[nltk_data] Downloading package punkt to /root/nltk_data...\n",
            "[nltk_data]   Unzipping tokenizers/punkt.zip.\n"
          ]
        },
        {
          "output_type": "execute_result",
          "data": {
            "text/plain": [
              "True"
            ]
          },
          "metadata": {},
          "execution_count": 60
        }
      ],
      "source": [
        "import nltk\n",
        "nltk.download('punkt')  # Download the necessary data for tokenization"
      ]
    },
    {
      "cell_type": "markdown",
      "metadata": {
        "id": "YbRjY8kv0uea"
      },
      "source": [
        "The line below imports the word_tokenize function from the nltk.tokenize module. Probably one of the single most critical steps in Natural Language Processing is the word tokenize function, separating words from text into individual tokens. This function is instrumental in breaking down text into words so that more granular analysis and processing of the text data can be carried out.\n"
      ]
    },
    {
      "cell_type": "code",
      "execution_count": null,
      "metadata": {
        "id": "72NrKhxp0uM7"
      },
      "outputs": [],
      "source": [
        "from nltk.tokenize import word_tokenize"
      ]
    },
    {
      "cell_type": "markdown",
      "metadata": {
        "id": "LOpyv4MO1IHU"
      },
      "source": [
        "This code snippet applies the word_tokenize function to each entry of column 'text' in a DataFrame df. In this script, each text enter is processed by the apply method, and it tokenizes the sentences into words. The tokens that are produced are placed into a new column called 'tokenized_text'. This procedure is paramount in preparing the text data for further analysis—like frequency or sentiment analysis—since it breaks down a continuous flow of text into manageable, distinct pieces: the words.\n"
      ]
    },
    {
      "cell_type": "code",
      "execution_count": null,
      "metadata": {
        "id": "BGWdZQRP1Iv6"
      },
      "outputs": [],
      "source": [
        "# Apply word_tokenize function to each article in the 'text' column\n",
        "dataset['tokenized_text'] = dataset['text'].apply(word_tokenize)"
      ]
    },
    {
      "cell_type": "markdown",
      "metadata": {
        "id": "EQSkki4o1gmf"
      },
      "source": [
        "This line of code prints the first ten rows of the column 'tokenized_article' in the DataFrame df. Here it will give the result of tokenization done on the column 'text'; every entry is now a list of tokens—individual words—from the original text. This would make it very easy to inspect and validate the tokenized output for the first few entries within the dataset.\n"
      ]
    },
    {
      "cell_type": "code",
      "execution_count": null,
      "metadata": {
        "colab": {
          "base_uri": "https://localhost:8080/",
          "height": 397
        },
        "id": "n2oNfEBj1gxU",
        "outputId": "2e67fcc1-1842-4e52-afbe-0b671a379d5b"
      },
      "outputs": [
        {
          "output_type": "execute_result",
          "data": {
            "text/plain": [
              "0    [donald, trump, endorsed, unabashedly, noninte...\n",
              "1    [justice, department, investigations, adversar...\n",
              "2    [trump, proudly, declares, people, ive, insult...\n",
              "3    [donald, trump, spent, day, january, 2014, hob...\n",
              "4    [notable, names, include, ray, washburne, comm...\n",
              "5    [current, concerns, n23, october, 22th, 2016, ...\n",
              "6    [us, charges, 61, indiabased, scam, involving,...\n",
              "7    [watch, first, democratic, presidential, debat...\n",
              "8    [video, really, disturbing, african, americans...\n",
              "9    [marco, rubio, dropping, republican, president...\n",
              "Name: tokenized_text, dtype: object"
            ],
            "text/html": [
              "<div>\n",
              "<style scoped>\n",
              "    .dataframe tbody tr th:only-of-type {\n",
              "        vertical-align: middle;\n",
              "    }\n",
              "\n",
              "    .dataframe tbody tr th {\n",
              "        vertical-align: top;\n",
              "    }\n",
              "\n",
              "    .dataframe thead th {\n",
              "        text-align: right;\n",
              "    }\n",
              "</style>\n",
              "<table border=\"1\" class=\"dataframe\">\n",
              "  <thead>\n",
              "    <tr style=\"text-align: right;\">\n",
              "      <th></th>\n",
              "      <th>tokenized_text</th>\n",
              "    </tr>\n",
              "  </thead>\n",
              "  <tbody>\n",
              "    <tr>\n",
              "      <th>0</th>\n",
              "      <td>[donald, trump, endorsed, unabashedly, noninte...</td>\n",
              "    </tr>\n",
              "    <tr>\n",
              "      <th>1</th>\n",
              "      <td>[justice, department, investigations, adversar...</td>\n",
              "    </tr>\n",
              "    <tr>\n",
              "      <th>2</th>\n",
              "      <td>[trump, proudly, declares, people, ive, insult...</td>\n",
              "    </tr>\n",
              "    <tr>\n",
              "      <th>3</th>\n",
              "      <td>[donald, trump, spent, day, january, 2014, hob...</td>\n",
              "    </tr>\n",
              "    <tr>\n",
              "      <th>4</th>\n",
              "      <td>[notable, names, include, ray, washburne, comm...</td>\n",
              "    </tr>\n",
              "    <tr>\n",
              "      <th>5</th>\n",
              "      <td>[current, concerns, n23, october, 22th, 2016, ...</td>\n",
              "    </tr>\n",
              "    <tr>\n",
              "      <th>6</th>\n",
              "      <td>[us, charges, 61, indiabased, scam, involving,...</td>\n",
              "    </tr>\n",
              "    <tr>\n",
              "      <th>7</th>\n",
              "      <td>[watch, first, democratic, presidential, debat...</td>\n",
              "    </tr>\n",
              "    <tr>\n",
              "      <th>8</th>\n",
              "      <td>[video, really, disturbing, african, americans...</td>\n",
              "    </tr>\n",
              "    <tr>\n",
              "      <th>9</th>\n",
              "      <td>[marco, rubio, dropping, republican, president...</td>\n",
              "    </tr>\n",
              "  </tbody>\n",
              "</table>\n",
              "</div><br><label><b>dtype:</b> object</label>"
            ]
          },
          "metadata": {},
          "execution_count": 65
        }
      ],
      "source": [
        "# Print the first 10 tokenized result\n",
        "dataset['tokenized_text'].head(10)"
      ]
    },
    {
      "cell_type": "markdown",
      "metadata": {
        "id": "bs_8KLrf2ALz"
      },
      "source": []
    }
  ],
  "metadata": {
    "colab": {
      "collapsed_sections": [
        "R7m1TrgQY0UI",
        "ss4gbIUEa87w",
        "qdUlMsTki4OD",
        "V__xD70WnA43",
        "GcvrNXQTsP92"
      ],
      "provenance": []
    },
    "kernelspec": {
      "display_name": "Python 3",
      "name": "python3"
    },
    "language_info": {
      "name": "python"
    }
  },
  "nbformat": 4,
  "nbformat_minor": 0
}